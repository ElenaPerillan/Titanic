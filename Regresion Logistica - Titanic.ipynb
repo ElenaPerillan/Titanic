{
 "cells": [
  {
   "cell_type": "code",
   "execution_count": 1,
   "id": "8216603c-a712-4a35-971f-b74ac406dc1f",
   "metadata": {
    "tags": []
   },
   "outputs": [],
   "source": [
    "import seaborn as sns\n",
    "import pandas as pd\n",
    "import numpy as np\n",
    "import matplotlib.pyplot as plt"
   ]
  },
  {
   "cell_type": "markdown",
   "id": "80b809ed-bc04-4615-b157-aa5e1183e5d8",
   "metadata": {},
   "source": [
    "# Regresión Logística"
   ]
  },
  {
   "cell_type": "markdown",
   "id": "69282111-dab9-4f8c-8518-40e4e2e10dd7",
   "metadata": {},
   "source": [
    "## Titanic\n",
    "Vamos a crear un modelo que prediga la probabilidad de supervivencia de los pasajeros\n",
    "\n",
    "https://www.kaggle.com/c/titanic/data?select=train.csv"
   ]
  },
  {
   "cell_type": "markdown",
   "id": "dc905247-e525-4036-8205-de961aabf0c4",
   "metadata": {},
   "source": [
    "0. Importar data de training y testing. Agregarle a la tabla de testing la columna survived proveniente de la tabla gender_submission"
   ]
  },
  {
   "cell_type": "code",
   "execution_count": 2,
   "id": "a617b09c-dc05-4b49-9576-e722b5196a07",
   "metadata": {
    "tags": []
   },
   "outputs": [],
   "source": [
    "train = pd.read_csv('titanic/train.csv')"
   ]
  },
  {
   "cell_type": "code",
   "execution_count": 5,
   "id": "703429b7-a053-47d1-a9f6-5bfe4e54be31",
   "metadata": {
    "tags": []
   },
   "outputs": [],
   "source": [
    "test = pd.read_csv('titanic/test.csv')"
   ]
  },
  {
   "cell_type": "code",
   "execution_count": 7,
   "id": "9e068273-234b-470b-b6bc-4e012655bd58",
   "metadata": {
    "tags": []
   },
   "outputs": [],
   "source": [
    "gender = pd.read_csv('titanic/gender_submission.csv')"
   ]
  },
  {
   "cell_type": "code",
   "execution_count": 10,
   "id": "d9fa9aaa-541f-4c0f-bbc2-4abedd081c99",
   "metadata": {
    "collapsed": true,
    "jupyter": {
     "outputs_hidden": true
    },
    "tags": []
   },
   "outputs": [
    {
     "data": {
      "text/html": [
       "<div>\n",
       "<style scoped>\n",
       "    .dataframe tbody tr th:only-of-type {\n",
       "        vertical-align: middle;\n",
       "    }\n",
       "\n",
       "    .dataframe tbody tr th {\n",
       "        vertical-align: top;\n",
       "    }\n",
       "\n",
       "    .dataframe thead th {\n",
       "        text-align: right;\n",
       "    }\n",
       "</style>\n",
       "<table border=\"1\" class=\"dataframe\">\n",
       "  <thead>\n",
       "    <tr style=\"text-align: right;\">\n",
       "      <th></th>\n",
       "      <th>PassengerId</th>\n",
       "      <th>Pclass</th>\n",
       "      <th>Name</th>\n",
       "      <th>Sex</th>\n",
       "      <th>Age</th>\n",
       "      <th>SibSp</th>\n",
       "      <th>Parch</th>\n",
       "      <th>Ticket</th>\n",
       "      <th>Fare</th>\n",
       "      <th>Cabin</th>\n",
       "      <th>Embarked</th>\n",
       "      <th>Survived</th>\n",
       "    </tr>\n",
       "  </thead>\n",
       "  <tbody>\n",
       "    <tr>\n",
       "      <th>0</th>\n",
       "      <td>892</td>\n",
       "      <td>3</td>\n",
       "      <td>Kelly, Mr. James</td>\n",
       "      <td>male</td>\n",
       "      <td>34.5</td>\n",
       "      <td>0</td>\n",
       "      <td>0</td>\n",
       "      <td>330911</td>\n",
       "      <td>7.8292</td>\n",
       "      <td>NaN</td>\n",
       "      <td>Q</td>\n",
       "      <td>0</td>\n",
       "    </tr>\n",
       "    <tr>\n",
       "      <th>1</th>\n",
       "      <td>893</td>\n",
       "      <td>3</td>\n",
       "      <td>Wilkes, Mrs. James (Ellen Needs)</td>\n",
       "      <td>female</td>\n",
       "      <td>47.0</td>\n",
       "      <td>1</td>\n",
       "      <td>0</td>\n",
       "      <td>363272</td>\n",
       "      <td>7.0000</td>\n",
       "      <td>NaN</td>\n",
       "      <td>S</td>\n",
       "      <td>1</td>\n",
       "    </tr>\n",
       "    <tr>\n",
       "      <th>2</th>\n",
       "      <td>894</td>\n",
       "      <td>2</td>\n",
       "      <td>Myles, Mr. Thomas Francis</td>\n",
       "      <td>male</td>\n",
       "      <td>62.0</td>\n",
       "      <td>0</td>\n",
       "      <td>0</td>\n",
       "      <td>240276</td>\n",
       "      <td>9.6875</td>\n",
       "      <td>NaN</td>\n",
       "      <td>Q</td>\n",
       "      <td>0</td>\n",
       "    </tr>\n",
       "    <tr>\n",
       "      <th>3</th>\n",
       "      <td>895</td>\n",
       "      <td>3</td>\n",
       "      <td>Wirz, Mr. Albert</td>\n",
       "      <td>male</td>\n",
       "      <td>27.0</td>\n",
       "      <td>0</td>\n",
       "      <td>0</td>\n",
       "      <td>315154</td>\n",
       "      <td>8.6625</td>\n",
       "      <td>NaN</td>\n",
       "      <td>S</td>\n",
       "      <td>0</td>\n",
       "    </tr>\n",
       "    <tr>\n",
       "      <th>4</th>\n",
       "      <td>896</td>\n",
       "      <td>3</td>\n",
       "      <td>Hirvonen, Mrs. Alexander (Helga E Lindqvist)</td>\n",
       "      <td>female</td>\n",
       "      <td>22.0</td>\n",
       "      <td>1</td>\n",
       "      <td>1</td>\n",
       "      <td>3101298</td>\n",
       "      <td>12.2875</td>\n",
       "      <td>NaN</td>\n",
       "      <td>S</td>\n",
       "      <td>1</td>\n",
       "    </tr>\n",
       "    <tr>\n",
       "      <th>...</th>\n",
       "      <td>...</td>\n",
       "      <td>...</td>\n",
       "      <td>...</td>\n",
       "      <td>...</td>\n",
       "      <td>...</td>\n",
       "      <td>...</td>\n",
       "      <td>...</td>\n",
       "      <td>...</td>\n",
       "      <td>...</td>\n",
       "      <td>...</td>\n",
       "      <td>...</td>\n",
       "      <td>...</td>\n",
       "    </tr>\n",
       "    <tr>\n",
       "      <th>413</th>\n",
       "      <td>1305</td>\n",
       "      <td>3</td>\n",
       "      <td>Spector, Mr. Woolf</td>\n",
       "      <td>male</td>\n",
       "      <td>NaN</td>\n",
       "      <td>0</td>\n",
       "      <td>0</td>\n",
       "      <td>A.5. 3236</td>\n",
       "      <td>8.0500</td>\n",
       "      <td>NaN</td>\n",
       "      <td>S</td>\n",
       "      <td>0</td>\n",
       "    </tr>\n",
       "    <tr>\n",
       "      <th>414</th>\n",
       "      <td>1306</td>\n",
       "      <td>1</td>\n",
       "      <td>Oliva y Ocana, Dona. Fermina</td>\n",
       "      <td>female</td>\n",
       "      <td>39.0</td>\n",
       "      <td>0</td>\n",
       "      <td>0</td>\n",
       "      <td>PC 17758</td>\n",
       "      <td>108.9000</td>\n",
       "      <td>C105</td>\n",
       "      <td>C</td>\n",
       "      <td>1</td>\n",
       "    </tr>\n",
       "    <tr>\n",
       "      <th>415</th>\n",
       "      <td>1307</td>\n",
       "      <td>3</td>\n",
       "      <td>Saether, Mr. Simon Sivertsen</td>\n",
       "      <td>male</td>\n",
       "      <td>38.5</td>\n",
       "      <td>0</td>\n",
       "      <td>0</td>\n",
       "      <td>SOTON/O.Q. 3101262</td>\n",
       "      <td>7.2500</td>\n",
       "      <td>NaN</td>\n",
       "      <td>S</td>\n",
       "      <td>0</td>\n",
       "    </tr>\n",
       "    <tr>\n",
       "      <th>416</th>\n",
       "      <td>1308</td>\n",
       "      <td>3</td>\n",
       "      <td>Ware, Mr. Frederick</td>\n",
       "      <td>male</td>\n",
       "      <td>NaN</td>\n",
       "      <td>0</td>\n",
       "      <td>0</td>\n",
       "      <td>359309</td>\n",
       "      <td>8.0500</td>\n",
       "      <td>NaN</td>\n",
       "      <td>S</td>\n",
       "      <td>0</td>\n",
       "    </tr>\n",
       "    <tr>\n",
       "      <th>417</th>\n",
       "      <td>1309</td>\n",
       "      <td>3</td>\n",
       "      <td>Peter, Master. Michael J</td>\n",
       "      <td>male</td>\n",
       "      <td>NaN</td>\n",
       "      <td>1</td>\n",
       "      <td>1</td>\n",
       "      <td>2668</td>\n",
       "      <td>22.3583</td>\n",
       "      <td>NaN</td>\n",
       "      <td>C</td>\n",
       "      <td>0</td>\n",
       "    </tr>\n",
       "  </tbody>\n",
       "</table>\n",
       "<p>418 rows × 12 columns</p>\n",
       "</div>"
      ],
      "text/plain": [
       "     PassengerId  Pclass                                          Name  \\\n",
       "0            892       3                              Kelly, Mr. James   \n",
       "1            893       3              Wilkes, Mrs. James (Ellen Needs)   \n",
       "2            894       2                     Myles, Mr. Thomas Francis   \n",
       "3            895       3                              Wirz, Mr. Albert   \n",
       "4            896       3  Hirvonen, Mrs. Alexander (Helga E Lindqvist)   \n",
       "..           ...     ...                                           ...   \n",
       "413         1305       3                            Spector, Mr. Woolf   \n",
       "414         1306       1                  Oliva y Ocana, Dona. Fermina   \n",
       "415         1307       3                  Saether, Mr. Simon Sivertsen   \n",
       "416         1308       3                           Ware, Mr. Frederick   \n",
       "417         1309       3                      Peter, Master. Michael J   \n",
       "\n",
       "        Sex   Age  SibSp  Parch              Ticket      Fare Cabin Embarked  \\\n",
       "0      male  34.5      0      0              330911    7.8292   NaN        Q   \n",
       "1    female  47.0      1      0              363272    7.0000   NaN        S   \n",
       "2      male  62.0      0      0              240276    9.6875   NaN        Q   \n",
       "3      male  27.0      0      0              315154    8.6625   NaN        S   \n",
       "4    female  22.0      1      1             3101298   12.2875   NaN        S   \n",
       "..      ...   ...    ...    ...                 ...       ...   ...      ...   \n",
       "413    male   NaN      0      0           A.5. 3236    8.0500   NaN        S   \n",
       "414  female  39.0      0      0            PC 17758  108.9000  C105        C   \n",
       "415    male  38.5      0      0  SOTON/O.Q. 3101262    7.2500   NaN        S   \n",
       "416    male   NaN      0      0              359309    8.0500   NaN        S   \n",
       "417    male   NaN      1      1                2668   22.3583   NaN        C   \n",
       "\n",
       "     Survived  \n",
       "0           0  \n",
       "1           1  \n",
       "2           0  \n",
       "3           0  \n",
       "4           1  \n",
       "..        ...  \n",
       "413         0  \n",
       "414         1  \n",
       "415         0  \n",
       "416         0  \n",
       "417         0  \n",
       "\n",
       "[418 rows x 12 columns]"
      ]
     },
     "execution_count": 10,
     "metadata": {},
     "output_type": "execute_result"
    }
   ],
   "source": [
    "# cuidado con hacerlo de esta forma, hay que estar seguro de que esta en orden y completos o la lias\n",
    "\n",
    "Survived = gender['Survived']\n",
    "Survived\n",
    "\n",
    "test['Survived'] = Survived\n",
    "test"
   ]
  },
  {
   "cell_type": "code",
   "execution_count": 9,
   "id": "dd6c648b-607a-4e66-8766-17870364995e",
   "metadata": {
    "tags": []
   },
   "outputs": [],
   "source": [
    "# mejor con un Join\n",
    "# test = pd.merge(test, gender, on='PassengerId', how='left')\n",
    "\n",
    "test = test.merge(\n",
    "    gender,\n",
    "    left_on = 'PassengerId',\n",
    "    right_on = 'PassengerId',\n",
    "    how = 'left'\n",
    ")"
   ]
  },
  {
   "cell_type": "code",
   "execution_count": null,
   "id": "79df5ecc-ed48-4120-b396-6a30016cac72",
   "metadata": {},
   "outputs": [],
   "source": []
  },
  {
   "cell_type": "code",
   "execution_count": null,
   "id": "0fa02c5c-5d11-4ab5-80d1-610b9e3f7367",
   "metadata": {},
   "outputs": [],
   "source": []
  },
  {
   "cell_type": "markdown",
   "id": "dd9d9e37-fb5d-4fbc-9d35-d874e4af7097",
   "metadata": {},
   "source": [
    "1. Buscar columnas con valores nulos y cantidad de nulos en cada una. Fijarse el porcentaje de los datos nulos que representan sobre el total."
   ]
  },
  {
   "cell_type": "code",
   "execution_count": 11,
   "id": "2bc2336c-1557-4b8a-8ff3-849bacee99e6",
   "metadata": {
    "tags": []
   },
   "outputs": [
    {
     "data": {
      "text/plain": [
       "PassengerId      0\n",
       "Pclass           0\n",
       "Name             0\n",
       "Sex              0\n",
       "Age             86\n",
       "SibSp            0\n",
       "Parch            0\n",
       "Ticket           0\n",
       "Fare             1\n",
       "Cabin          327\n",
       "Embarked         0\n",
       "Survived         0\n",
       "dtype: int64"
      ]
     },
     "execution_count": 11,
     "metadata": {},
     "output_type": "execute_result"
    }
   ],
   "source": [
    "test.isnull().sum()"
   ]
  },
  {
   "cell_type": "code",
   "execution_count": 124,
   "id": "ee8daad9-ad17-4028-b1ce-289b3a4096bd",
   "metadata": {
    "tags": []
   },
   "outputs": [
    {
     "data": {
      "text/plain": [
       "PassengerId      0\n",
       "Survived         0\n",
       "Pclass           0\n",
       "Name             0\n",
       "Sex              0\n",
       "Age            177\n",
       "SibSp            0\n",
       "Parch            0\n",
       "Ticket           0\n",
       "Fare             0\n",
       "Cabin          687\n",
       "Embarked         2\n",
       "dtype: int64"
      ]
     },
     "execution_count": 124,
     "metadata": {},
     "output_type": "execute_result"
    }
   ],
   "source": [
    "train.isnull().sum()"
   ]
  },
  {
   "cell_type": "code",
   "execution_count": 16,
   "id": "9bde038a-1966-4955-b57e-2689e3fc8c0a",
   "metadata": {
    "tags": []
   },
   "outputs": [
    {
     "data": {
      "text/plain": [
       "10692"
      ]
     },
     "execution_count": 16,
     "metadata": {},
     "output_type": "execute_result"
    }
   ],
   "source": [
    "train.size"
   ]
  },
  {
   "cell_type": "code",
   "execution_count": 13,
   "id": "d99c2900-ecee-4b75-bc7f-946658137f45",
   "metadata": {
    "tags": []
   },
   "outputs": [
    {
     "name": "stdout",
     "output_type": "stream",
     "text": [
      "0\n",
      "0\n",
      "0\n",
      "0\n",
      "0\n",
      "177\n",
      "177\n",
      "177\n",
      "177\n",
      "177\n",
      "864\n",
      "866\n"
     ]
    }
   ],
   "source": [
    "suma = 0\n",
    "\n",
    "for i in train:\n",
    "    suma += sum(train[i].isnull())\n",
    "    print(suma)"
   ]
  },
  {
   "cell_type": "code",
   "execution_count": 13,
   "id": "ac96a3b1-abde-4bb9-b188-d492ab14489e",
   "metadata": {
    "tags": []
   },
   "outputs": [
    {
     "data": {
      "text/plain": [
       "0.08099513655069211"
      ]
     },
     "execution_count": 13,
     "metadata": {},
     "output_type": "execute_result"
    }
   ],
   "source": [
    "porcentaje_nulos = suma/train.size\n",
    "porcentaje_nulos"
   ]
  },
  {
   "cell_type": "code",
   "execution_count": 15,
   "id": "3a8c148f-e5d5-48c8-a2c4-ed31393509ef",
   "metadata": {
    "tags": []
   },
   "outputs": [
    {
     "data": {
      "text/plain": [
       "PassengerId     0.00\n",
       "Survived        0.00\n",
       "Pclass          0.00\n",
       "Name            0.00\n",
       "Sex             0.00\n",
       "Age            19.87\n",
       "SibSp           0.00\n",
       "Parch           0.00\n",
       "Ticket          0.00\n",
       "Fare            0.00\n",
       "Cabin          77.10\n",
       "Embarked        0.22\n",
       "dtype: float64"
      ]
     },
     "execution_count": 15,
     "metadata": {},
     "output_type": "execute_result"
    }
   ],
   "source": [
    "total_celdas = train.shape[0]\n",
    "total_nulos = train.isnull().sum()\n",
    "porcentaje_nulos_train = round((total_nulos / total_celdas) * 100,2)\n",
    "porcentaje_nulos_train"
   ]
  },
  {
   "cell_type": "code",
   "execution_count": 17,
   "id": "bfa28e0a-59c2-4e03-885b-b229ad6bd760",
   "metadata": {
    "tags": []
   },
   "outputs": [
    {
     "data": {
      "text/plain": [
       "PassengerId     0.00\n",
       "Pclass          0.00\n",
       "Name            0.00\n",
       "Sex             0.00\n",
       "Age            20.57\n",
       "SibSp           0.00\n",
       "Parch           0.00\n",
       "Ticket          0.00\n",
       "Fare            0.24\n",
       "Cabin          78.23\n",
       "Embarked        0.00\n",
       "Survived        0.00\n",
       "dtype: float64"
      ]
     },
     "execution_count": 17,
     "metadata": {},
     "output_type": "execute_result"
    }
   ],
   "source": [
    "total_celdas = test.shape[0]\n",
    "total_nulos = test.isnull().sum()\n",
    "porcentaje_nulos_test = round((total_nulos / total_celdas) * 100,2)\n",
    "porcentaje_nulos_test"
   ]
  },
  {
   "cell_type": "markdown",
   "id": "8d3d80cf-8f51-4d95-ad81-cee2e6caad39",
   "metadata": {},
   "source": [
    "2. En base al resultado anterior. Cuales columnas consideran que tienen sentido completar y cuales se deberían eliminar? Eliminar la que corresponda de la tabla de test y de train."
   ]
  },
  {
   "cell_type": "code",
   "execution_count": 19,
   "id": "dbbc0168-132c-48a0-bfbe-0e51ae5a61ae",
   "metadata": {
    "tags": []
   },
   "outputs": [],
   "source": [
    "train.drop(columns = 'Cabin', axis = 'columns', inplace = True)"
   ]
  },
  {
   "cell_type": "code",
   "execution_count": 21,
   "id": "7d3642ba-433a-4621-af2f-b467045de4a3",
   "metadata": {
    "tags": []
   },
   "outputs": [],
   "source": [
    "test.drop(columns = 'Cabin', axis = 'columns', inplace = True)"
   ]
  },
  {
   "cell_type": "code",
   "execution_count": 25,
   "id": "08125558-2ae7-45e9-88d2-44f0fff41660",
   "metadata": {
    "collapsed": true,
    "jupyter": {
     "outputs_hidden": true
    },
    "tags": []
   },
   "outputs": [
    {
     "data": {
      "text/html": [
       "<div>\n",
       "<style scoped>\n",
       "    .dataframe tbody tr th:only-of-type {\n",
       "        vertical-align: middle;\n",
       "    }\n",
       "\n",
       "    .dataframe tbody tr th {\n",
       "        vertical-align: top;\n",
       "    }\n",
       "\n",
       "    .dataframe thead th {\n",
       "        text-align: right;\n",
       "    }\n",
       "</style>\n",
       "<table border=\"1\" class=\"dataframe\">\n",
       "  <thead>\n",
       "    <tr style=\"text-align: right;\">\n",
       "      <th></th>\n",
       "      <th>PassengerId</th>\n",
       "      <th>Survived</th>\n",
       "      <th>Pclass</th>\n",
       "      <th>Name</th>\n",
       "      <th>Sex</th>\n",
       "      <th>Age</th>\n",
       "      <th>SibSp</th>\n",
       "      <th>Parch</th>\n",
       "      <th>Ticket</th>\n",
       "      <th>Fare</th>\n",
       "      <th>Embarked</th>\n",
       "    </tr>\n",
       "  </thead>\n",
       "  <tbody>\n",
       "    <tr>\n",
       "      <th>0</th>\n",
       "      <td>1</td>\n",
       "      <td>0</td>\n",
       "      <td>3</td>\n",
       "      <td>Braund, Mr. Owen Harris</td>\n",
       "      <td>male</td>\n",
       "      <td>22.0</td>\n",
       "      <td>1</td>\n",
       "      <td>0</td>\n",
       "      <td>A/5 21171</td>\n",
       "      <td>7.2500</td>\n",
       "      <td>S</td>\n",
       "    </tr>\n",
       "    <tr>\n",
       "      <th>1</th>\n",
       "      <td>2</td>\n",
       "      <td>1</td>\n",
       "      <td>1</td>\n",
       "      <td>Cumings, Mrs. John Bradley (Florence Briggs Th...</td>\n",
       "      <td>female</td>\n",
       "      <td>38.0</td>\n",
       "      <td>1</td>\n",
       "      <td>0</td>\n",
       "      <td>PC 17599</td>\n",
       "      <td>71.2833</td>\n",
       "      <td>C</td>\n",
       "    </tr>\n",
       "    <tr>\n",
       "      <th>2</th>\n",
       "      <td>3</td>\n",
       "      <td>1</td>\n",
       "      <td>3</td>\n",
       "      <td>Heikkinen, Miss. Laina</td>\n",
       "      <td>female</td>\n",
       "      <td>26.0</td>\n",
       "      <td>0</td>\n",
       "      <td>0</td>\n",
       "      <td>STON/O2. 3101282</td>\n",
       "      <td>7.9250</td>\n",
       "      <td>S</td>\n",
       "    </tr>\n",
       "    <tr>\n",
       "      <th>3</th>\n",
       "      <td>4</td>\n",
       "      <td>1</td>\n",
       "      <td>1</td>\n",
       "      <td>Futrelle, Mrs. Jacques Heath (Lily May Peel)</td>\n",
       "      <td>female</td>\n",
       "      <td>35.0</td>\n",
       "      <td>1</td>\n",
       "      <td>0</td>\n",
       "      <td>113803</td>\n",
       "      <td>53.1000</td>\n",
       "      <td>S</td>\n",
       "    </tr>\n",
       "    <tr>\n",
       "      <th>4</th>\n",
       "      <td>5</td>\n",
       "      <td>0</td>\n",
       "      <td>3</td>\n",
       "      <td>Allen, Mr. William Henry</td>\n",
       "      <td>male</td>\n",
       "      <td>35.0</td>\n",
       "      <td>0</td>\n",
       "      <td>0</td>\n",
       "      <td>373450</td>\n",
       "      <td>8.0500</td>\n",
       "      <td>S</td>\n",
       "    </tr>\n",
       "  </tbody>\n",
       "</table>\n",
       "</div>"
      ],
      "text/plain": [
       "   PassengerId  Survived  Pclass  \\\n",
       "0            1         0       3   \n",
       "1            2         1       1   \n",
       "2            3         1       3   \n",
       "3            4         1       1   \n",
       "4            5         0       3   \n",
       "\n",
       "                                                Name     Sex   Age  SibSp  \\\n",
       "0                            Braund, Mr. Owen Harris    male  22.0      1   \n",
       "1  Cumings, Mrs. John Bradley (Florence Briggs Th...  female  38.0      1   \n",
       "2                             Heikkinen, Miss. Laina  female  26.0      0   \n",
       "3       Futrelle, Mrs. Jacques Heath (Lily May Peel)  female  35.0      1   \n",
       "4                           Allen, Mr. William Henry    male  35.0      0   \n",
       "\n",
       "   Parch            Ticket     Fare Embarked  \n",
       "0      0         A/5 21171   7.2500        S  \n",
       "1      0          PC 17599  71.2833        C  \n",
       "2      0  STON/O2. 3101282   7.9250        S  \n",
       "3      0            113803  53.1000        S  \n",
       "4      0            373450   8.0500        S  "
      ]
     },
     "execution_count": 25,
     "metadata": {},
     "output_type": "execute_result"
    }
   ],
   "source": [
    "train.head()"
   ]
  },
  {
   "cell_type": "markdown",
   "id": "29588450-5c78-4dba-af9b-bc2a37c561c2",
   "metadata": {},
   "source": [
    "3. Completar valores nulos con el criterio que considres correcto en cada una de las columnas (que tengan sentido completar). Esto debe hacerse tanto en la tabla de training como la de testing (con el mismo criterio en ambas).\n",
    "\n",
    "   Verificar como se distribuyen los valores de cada columna con un gráfico previamente para tener más herramientas en la decisión"
   ]
  },
  {
   "cell_type": "code",
   "execution_count": 27,
   "id": "0b897a83-3fb8-4b55-b347-c1c1838354b7",
   "metadata": {
    "tags": []
   },
   "outputs": [
    {
     "data": {
      "text/plain": [
       "28.0"
      ]
     },
     "execution_count": 27,
     "metadata": {},
     "output_type": "execute_result"
    }
   ],
   "source": [
    "# mejor con la mediana que con la media\n",
    "\n",
    "media_age = train['Age'].median()\n",
    "media_age"
   ]
  },
  {
   "cell_type": "code",
   "execution_count": 28,
   "id": "f0973f87-72ec-413c-b6ff-a9a9f6ec31f4",
   "metadata": {},
   "outputs": [],
   "source": [
    "# Adri - train.Age.fillna(round(train.Age.mean(),0), inplace=True)"
   ]
  },
  {
   "cell_type": "code",
   "execution_count": 23,
   "id": "2fa3a394-3174-4711-b781-6786f7f31955",
   "metadata": {
    "tags": []
   },
   "outputs": [
    {
     "data": {
      "text/plain": [
       "<Axes: xlabel='Age', ylabel='Count'>"
      ]
     },
     "execution_count": 23,
     "metadata": {},
     "output_type": "execute_result"
    },
    {
     "data": {
      "image/png": "[encoded data removed]",
      "text/plain": [
       "<Figure size 640x480 with 1 Axes>"
      ]
     },
     "metadata": {},
     "output_type": "display_data"
    }
   ],
   "source": [
    "sns.histplot(data=train, x = 'Age', kde=True)"
   ]
  },
  {
   "cell_type": "code",
   "execution_count": 31,
   "id": "29e768c4-5527-4d5e-81cc-205ce2223db1",
   "metadata": {
    "tags": []
   },
   "outputs": [],
   "source": [
    "train['Age'].fillna(media_age, inplace = True)"
   ]
  },
  {
   "cell_type": "code",
   "execution_count": 33,
   "id": "f265061f-37fc-4691-a9a2-fd0d1fb8b9be",
   "metadata": {
    "tags": []
   },
   "outputs": [],
   "source": [
    "train['Embarked'].ffill(inplace = True)"
   ]
  },
  {
   "cell_type": "code",
   "execution_count": 29,
   "id": "dd30dd0d-2df0-44bb-bf9b-0a663a7514fe",
   "metadata": {
    "tags": []
   },
   "outputs": [
    {
     "data": {
      "text/plain": [
       "27.0"
      ]
     },
     "execution_count": 29,
     "metadata": {},
     "output_type": "execute_result"
    }
   ],
   "source": [
    "media_age = test['Age'].median()\n",
    "media_age"
   ]
  },
  {
   "cell_type": "code",
   "execution_count": 35,
   "id": "5ba29e43-9ffe-40f8-9149-ce6be1eda912",
   "metadata": {
    "tags": []
   },
   "outputs": [],
   "source": [
    "test['Age'].fillna(media_age, inplace = True)\n",
    "test['Embarked'].ffill(inplace = True)"
   ]
  },
  {
   "cell_type": "code",
   "execution_count": 35,
   "id": "8df38da3-6b34-4ce7-b79c-45b13b60509c",
   "metadata": {
    "tags": []
   },
   "outputs": [
    {
     "data": {
      "text/plain": [
       "32.0"
      ]
     },
     "execution_count": 35,
     "metadata": {},
     "output_type": "execute_result"
    }
   ],
   "source": [
    "media_fare_train = train['Fare'].mean().round(0)\n",
    "media_fare_train"
   ]
  },
  {
   "cell_type": "code",
   "execution_count": 39,
   "id": "d8562ba8-89ae-4c46-8128-5a94c1f23064",
   "metadata": {
    "tags": []
   },
   "outputs": [
    {
     "data": {
      "text/plain": [
       "36.0"
      ]
     },
     "execution_count": 39,
     "metadata": {},
     "output_type": "execute_result"
    }
   ],
   "source": [
    "media_fare_test = test['Fare'].mean().round(0)\n",
    "media_fare_test"
   ]
  },
  {
   "cell_type": "code",
   "execution_count": 41,
   "id": "719c869b-cd49-4bc3-ba71-a93997dc38be",
   "metadata": {
    "tags": []
   },
   "outputs": [],
   "source": [
    "# estaria mejor ver en que clase esta esa persona y hacer la media de fare de esa clase\n",
    "\n",
    "test['Fare'].fillna(media_fare_test, inplace = True)\n"
   ]
  },
  {
   "cell_type": "code",
   "execution_count": 43,
   "id": "d320bb1a-0751-4371-99a1-553379f28958",
   "metadata": {
    "tags": []
   },
   "outputs": [
    {
     "data": {
      "text/plain": [
       "PassengerId    0\n",
       "Survived       0\n",
       "Pclass         0\n",
       "Name           0\n",
       "Sex            0\n",
       "Age            0\n",
       "SibSp          0\n",
       "Parch          0\n",
       "Ticket         0\n",
       "Fare           0\n",
       "Embarked       0\n",
       "dtype: int64"
      ]
     },
     "execution_count": 43,
     "metadata": {},
     "output_type": "execute_result"
    }
   ],
   "source": [
    "train.isnull().sum()"
   ]
  },
  {
   "cell_type": "code",
   "execution_count": null,
   "id": "dda972fc-296a-4ab4-b53e-a64ae7bbb555",
   "metadata": {},
   "outputs": [],
   "source": []
  },
  {
   "cell_type": "code",
   "execution_count": null,
   "id": "637a7bb2-7522-4c4c-a59a-cb5f9e674a66",
   "metadata": {},
   "outputs": [],
   "source": []
  },
  {
   "cell_type": "code",
   "execution_count": null,
   "id": "6cce7e89-bba4-4756-9757-d72ca6a5f28a",
   "metadata": {},
   "outputs": [],
   "source": []
  },
  {
   "cell_type": "markdown",
   "id": "d3ee6bd0-64c0-4ac8-b85c-da016cf66099",
   "metadata": {},
   "source": [
    "4. Realizar análisis exploratorio. Graficar las personas que sobrevivieron por:\n",
    "    - Clase (Pclass)\n",
    "    - Sexo (Sex)\n",
    "    - Costo de boleto (Fare)"
   ]
  },
  {
   "cell_type": "code",
   "execution_count": null,
   "id": "439bc7bb-0997-4fa8-b4a8-c4c59fa5769a",
   "metadata": {},
   "outputs": [],
   "source": []
  },
  {
   "cell_type": "code",
   "execution_count": 38,
   "id": "cfa4bf5e-f642-45fa-abc9-847dd564c9e2",
   "metadata": {
    "tags": []
   },
   "outputs": [
    {
     "data": {
      "text/plain": [
       "<Axes: xlabel='Pclass', ylabel='Survived'>"
      ]
     },
     "execution_count": 38,
     "metadata": {},
     "output_type": "execute_result"
    },
    {
     "data": {
      "image/png": "[encoded data removed]",
      "text/plain": [
       "<Figure size 640x480 with 1 Axes>"
      ]
     },
     "metadata": {},
     "output_type": "display_data"
    }
   ],
   "source": [
    "# Para hacer este tienes que hacer un groupby, sino puedes hacer countplot\n",
    "\n",
    "sns.barplot(data = train, x = 'Pclass', y ='Survived')"
   ]
  },
  {
   "cell_type": "code",
   "execution_count": 44,
   "id": "b039726b-1c7b-4b56-8c41-8ace3048c0ed",
   "metadata": {
    "tags": []
   },
   "outputs": [
    {
     "data": {
      "image/png": "[encoded data removed]",
      "text/plain": [
       "<Figure size 640x480 with 1 Axes>"
      ]
     },
     "metadata": {},
     "output_type": "display_data"
    }
   ],
   "source": [
    "sns.countplot(x='Pclass', hue='Survived', data=train)\n",
    "plt.title('Cantidad de personas que sobrevivieron por Clase (Pclass)')\n",
    "plt.xlabel('Clase (Pclass)')\n",
    "plt.ylabel('Cantidad de personas')\n",
    "plt.show()"
   ]
  },
  {
   "cell_type": "code",
   "execution_count": 40,
   "id": "f2127221-27d1-4338-ad09-72b66ab10ee3",
   "metadata": {
    "tags": []
   },
   "outputs": [
    {
     "data": {
      "image/png": "[encoded data removed]",
      "text/plain": [
       "<Figure size 640x480 with 1 Axes>"
      ]
     },
     "metadata": {},
     "output_type": "display_data"
    }
   ],
   "source": [
    "sns.countplot(x='Sex', hue='Survived', data=train)\n",
    "plt.title('Cantidad de personas que sobrevivieron por Sex (Sex)')\n",
    "plt.xlabel('Sexo (Sex)')\n",
    "plt.ylabel('Cantidad de personas')\n",
    "plt.show()"
   ]
  },
  {
   "cell_type": "code",
   "execution_count": 41,
   "id": "5b82daf8-df3e-4c16-8b12-5e3c61acc199",
   "metadata": {
    "tags": []
   },
   "outputs": [
    {
     "data": {
      "image/png": "[encoded data removed]",
      "text/plain": [
       "<Figure size 640x480 with 1 Axes>"
      ]
     },
     "metadata": {},
     "output_type": "display_data"
    }
   ],
   "source": [
    "sns.histplot(x='Fare', hue='Survived', data=train, bins = 10, multiple='dodge')\n",
    "plt.title('Cantidad de personas que sobrevivieron por Fare')\n",
    "plt.xlabel('Fare')\n",
    "plt.ylabel('Cantidad de personas')\n",
    "plt.legend(['Sobrevivió', 'No Sobrevivió'])\n",
    "plt.show()"
   ]
  },
  {
   "cell_type": "markdown",
   "id": "62a9d855-9078-45bc-ba03-632620d4b258",
   "metadata": {},
   "source": [
    "5. Verificar columnas del DataFrame e identificar sobre cuales se deberían generar variables dummies.\n",
    "   Generar columnas de dummies sobre \"Pclass\",\"Embarked\" y \"Sex\". Aplicar cambios en training y testing"
   ]
  },
  {
   "cell_type": "code",
   "execution_count": 43,
   "id": "e77eb639-2d69-470e-b39a-6c4d51d0896d",
   "metadata": {
    "tags": []
   },
   "outputs": [
    {
     "name": "stdout",
     "output_type": "stream",
     "text": [
      "PassengerId: <class 'numpy.int64'>\n",
      "Survived: <class 'numpy.int64'>\n",
      "Pclass: <class 'numpy.int64'>\n",
      "Name: <class 'str'>\n",
      "Sex: <class 'str'>\n",
      "Age: <class 'numpy.float64'>\n",
      "SibSp: <class 'numpy.int64'>\n",
      "Parch: <class 'numpy.int64'>\n",
      "Ticket: <class 'str'>\n",
      "Fare: <class 'numpy.float64'>\n",
      "Embarked: <class 'str'>\n"
     ]
    }
   ],
   "source": [
    "for i in train.columns:\n",
    "    print(f'{i}: {type(train[i][0])}')"
   ]
  },
  {
   "cell_type": "code",
   "execution_count": 44,
   "id": "5eb49020-c2d2-497a-99ee-86378bdc15b6",
   "metadata": {
    "tags": []
   },
   "outputs": [],
   "source": [
    "# tambien se podria hacer 0 y 1 en las columnas\n",
    "\n",
    "# train.Sex = np.where(train.Sex == 'male', 1, 0)\n"
   ]
  },
  {
   "cell_type": "code",
   "execution_count": 45,
   "id": "813a6665-f27e-47d8-8db2-4233721e0885",
   "metadata": {
    "tags": []
   },
   "outputs": [],
   "source": [
    "train = pd.get_dummies(train, \n",
    "                         columns = ['Sex','Pclass','Embarked'],\n",
    "    drop_first = True)"
   ]
  },
  {
   "cell_type": "code",
   "execution_count": 47,
   "id": "71359f2b-775e-4a48-94f4-653bf48a1d97",
   "metadata": {
    "collapsed": true,
    "jupyter": {
     "outputs_hidden": true
    },
    "tags": []
   },
   "outputs": [
    {
     "data": {
      "text/html": [
       "<div>\n",
       "<style scoped>\n",
       "    .dataframe tbody tr th:only-of-type {\n",
       "        vertical-align: middle;\n",
       "    }\n",
       "\n",
       "    .dataframe tbody tr th {\n",
       "        vertical-align: top;\n",
       "    }\n",
       "\n",
       "    .dataframe thead th {\n",
       "        text-align: right;\n",
       "    }\n",
       "</style>\n",
       "<table border=\"1\" class=\"dataframe\">\n",
       "  <thead>\n",
       "    <tr style=\"text-align: right;\">\n",
       "      <th></th>\n",
       "      <th>PassengerId</th>\n",
       "      <th>Survived</th>\n",
       "      <th>Name</th>\n",
       "      <th>Age</th>\n",
       "      <th>SibSp</th>\n",
       "      <th>Parch</th>\n",
       "      <th>Ticket</th>\n",
       "      <th>Fare</th>\n",
       "      <th>Sex_male</th>\n",
       "      <th>Pclass_2</th>\n",
       "      <th>Pclass_3</th>\n",
       "      <th>Embarked_Q</th>\n",
       "      <th>Embarked_S</th>\n",
       "    </tr>\n",
       "  </thead>\n",
       "  <tbody>\n",
       "    <tr>\n",
       "      <th>0</th>\n",
       "      <td>1</td>\n",
       "      <td>0</td>\n",
       "      <td>Braund, Mr. Owen Harris</td>\n",
       "      <td>22.0</td>\n",
       "      <td>1</td>\n",
       "      <td>0</td>\n",
       "      <td>A/5 21171</td>\n",
       "      <td>7.2500</td>\n",
       "      <td>True</td>\n",
       "      <td>False</td>\n",
       "      <td>True</td>\n",
       "      <td>False</td>\n",
       "      <td>True</td>\n",
       "    </tr>\n",
       "    <tr>\n",
       "      <th>1</th>\n",
       "      <td>2</td>\n",
       "      <td>1</td>\n",
       "      <td>Cumings, Mrs. John Bradley (Florence Briggs Th...</td>\n",
       "      <td>38.0</td>\n",
       "      <td>1</td>\n",
       "      <td>0</td>\n",
       "      <td>PC 17599</td>\n",
       "      <td>71.2833</td>\n",
       "      <td>False</td>\n",
       "      <td>False</td>\n",
       "      <td>False</td>\n",
       "      <td>False</td>\n",
       "      <td>False</td>\n",
       "    </tr>\n",
       "    <tr>\n",
       "      <th>2</th>\n",
       "      <td>3</td>\n",
       "      <td>1</td>\n",
       "      <td>Heikkinen, Miss. Laina</td>\n",
       "      <td>26.0</td>\n",
       "      <td>0</td>\n",
       "      <td>0</td>\n",
       "      <td>STON/O2. 3101282</td>\n",
       "      <td>7.9250</td>\n",
       "      <td>False</td>\n",
       "      <td>False</td>\n",
       "      <td>True</td>\n",
       "      <td>False</td>\n",
       "      <td>True</td>\n",
       "    </tr>\n",
       "    <tr>\n",
       "      <th>3</th>\n",
       "      <td>4</td>\n",
       "      <td>1</td>\n",
       "      <td>Futrelle, Mrs. Jacques Heath (Lily May Peel)</td>\n",
       "      <td>35.0</td>\n",
       "      <td>1</td>\n",
       "      <td>0</td>\n",
       "      <td>113803</td>\n",
       "      <td>53.1000</td>\n",
       "      <td>False</td>\n",
       "      <td>False</td>\n",
       "      <td>False</td>\n",
       "      <td>False</td>\n",
       "      <td>True</td>\n",
       "    </tr>\n",
       "    <tr>\n",
       "      <th>4</th>\n",
       "      <td>5</td>\n",
       "      <td>0</td>\n",
       "      <td>Allen, Mr. William Henry</td>\n",
       "      <td>35.0</td>\n",
       "      <td>0</td>\n",
       "      <td>0</td>\n",
       "      <td>373450</td>\n",
       "      <td>8.0500</td>\n",
       "      <td>True</td>\n",
       "      <td>False</td>\n",
       "      <td>True</td>\n",
       "      <td>False</td>\n",
       "      <td>True</td>\n",
       "    </tr>\n",
       "  </tbody>\n",
       "</table>\n",
       "</div>"
      ],
      "text/plain": [
       "   PassengerId  Survived                                               Name  \\\n",
       "0            1         0                            Braund, Mr. Owen Harris   \n",
       "1            2         1  Cumings, Mrs. John Bradley (Florence Briggs Th...   \n",
       "2            3         1                             Heikkinen, Miss. Laina   \n",
       "3            4         1       Futrelle, Mrs. Jacques Heath (Lily May Peel)   \n",
       "4            5         0                           Allen, Mr. William Henry   \n",
       "\n",
       "    Age  SibSp  Parch            Ticket     Fare  Sex_male  Pclass_2  \\\n",
       "0  22.0      1      0         A/5 21171   7.2500      True     False   \n",
       "1  38.0      1      0          PC 17599  71.2833     False     False   \n",
       "2  26.0      0      0  STON/O2. 3101282   7.9250     False     False   \n",
       "3  35.0      1      0            113803  53.1000     False     False   \n",
       "4  35.0      0      0            373450   8.0500      True     False   \n",
       "\n",
       "   Pclass_3  Embarked_Q  Embarked_S  \n",
       "0      True       False        True  \n",
       "1     False       False       False  \n",
       "2      True       False        True  \n",
       "3     False       False        True  \n",
       "4      True       False        True  "
      ]
     },
     "execution_count": 47,
     "metadata": {},
     "output_type": "execute_result"
    }
   ],
   "source": [
    "train.head()"
   ]
  },
  {
   "cell_type": "code",
   "execution_count": 49,
   "id": "6eaa1cfd-9857-4436-9596-232742d745b1",
   "metadata": {
    "tags": []
   },
   "outputs": [],
   "source": [
    "test = pd.get_dummies(test, \n",
    "                         columns = ['Sex','Pclass','Embarked'],\n",
    "    drop_first = True)"
   ]
  },
  {
   "cell_type": "markdown",
   "id": "7e472d05-0cbe-40cb-b8fa-9cbd3fe8b371",
   "metadata": {},
   "source": [
    "6. Eliminar columnas del dataset que considere que no suman al modelo. Hacerlo en testing y training"
   ]
  },
  {
   "cell_type": "code",
   "execution_count": 51,
   "id": "61deda32-7452-44f1-aaae-f6af8f33a4df",
   "metadata": {
    "tags": []
   },
   "outputs": [],
   "source": [
    "train.drop(columns = \"Name\", inplace = True, axis = 1)"
   ]
  },
  {
   "cell_type": "code",
   "execution_count": 53,
   "id": "fa92d5e4-0b29-48fe-9663-316dfcf4fc56",
   "metadata": {
    "tags": []
   },
   "outputs": [],
   "source": [
    "test.drop(columns = \"Name\", inplace = True, axis = 1)"
   ]
  },
  {
   "cell_type": "code",
   "execution_count": 55,
   "id": "ec4b4b34-6dc1-4404-878e-690e10ec8ea5",
   "metadata": {
    "tags": []
   },
   "outputs": [],
   "source": [
    "train.drop(columns = \"Ticket\", inplace = True, axis = 1)"
   ]
  },
  {
   "cell_type": "code",
   "execution_count": 57,
   "id": "164d9b40-e88b-4018-905f-90e30a6ae3fe",
   "metadata": {
    "tags": []
   },
   "outputs": [],
   "source": [
    "test.drop(columns = \"Ticket\", inplace = True, axis = 1)"
   ]
  },
  {
   "cell_type": "code",
   "execution_count": 59,
   "id": "13a51f5d-03a5-42cd-a529-55d74d371d3a",
   "metadata": {
    "tags": []
   },
   "outputs": [],
   "source": [
    "X_train = train.loc[:,train.columns != 'Survived']\n",
    "y_train = train.loc[:,'Survived']"
   ]
  },
  {
   "cell_type": "code",
   "execution_count": 61,
   "id": "a4526668-3188-424a-8e23-fdac724d16cf",
   "metadata": {
    "tags": []
   },
   "outputs": [],
   "source": [
    "X_test = test.loc[:,test.columns != 'Survived']\n",
    "y_test = test.loc[:,'Survived']"
   ]
  },
  {
   "cell_type": "code",
   "execution_count": 59,
   "id": "939f7d99-4e4b-49a0-a9fd-cdb9cd0eee41",
   "metadata": {
    "tags": []
   },
   "outputs": [
    {
     "data": {
      "text/html": [
       "<div>\n",
       "<style scoped>\n",
       "    .dataframe tbody tr th:only-of-type {\n",
       "        vertical-align: middle;\n",
       "    }\n",
       "\n",
       "    .dataframe tbody tr th {\n",
       "        vertical-align: top;\n",
       "    }\n",
       "\n",
       "    .dataframe thead th {\n",
       "        text-align: right;\n",
       "    }\n",
       "</style>\n",
       "<table border=\"1\" class=\"dataframe\">\n",
       "  <thead>\n",
       "    <tr style=\"text-align: right;\">\n",
       "      <th></th>\n",
       "      <th>PassengerId</th>\n",
       "      <th>Age</th>\n",
       "      <th>SibSp</th>\n",
       "      <th>Parch</th>\n",
       "      <th>Fare</th>\n",
       "      <th>Sex_male</th>\n",
       "      <th>Pclass_2</th>\n",
       "      <th>Pclass_3</th>\n",
       "      <th>Embarked_Q</th>\n",
       "      <th>Embarked_S</th>\n",
       "    </tr>\n",
       "  </thead>\n",
       "  <tbody>\n",
       "    <tr>\n",
       "      <th>0</th>\n",
       "      <td>1</td>\n",
       "      <td>22.0</td>\n",
       "      <td>1</td>\n",
       "      <td>0</td>\n",
       "      <td>7.2500</td>\n",
       "      <td>True</td>\n",
       "      <td>False</td>\n",
       "      <td>True</td>\n",
       "      <td>False</td>\n",
       "      <td>True</td>\n",
       "    </tr>\n",
       "    <tr>\n",
       "      <th>1</th>\n",
       "      <td>2</td>\n",
       "      <td>38.0</td>\n",
       "      <td>1</td>\n",
       "      <td>0</td>\n",
       "      <td>71.2833</td>\n",
       "      <td>False</td>\n",
       "      <td>False</td>\n",
       "      <td>False</td>\n",
       "      <td>False</td>\n",
       "      <td>False</td>\n",
       "    </tr>\n",
       "    <tr>\n",
       "      <th>2</th>\n",
       "      <td>3</td>\n",
       "      <td>26.0</td>\n",
       "      <td>0</td>\n",
       "      <td>0</td>\n",
       "      <td>7.9250</td>\n",
       "      <td>False</td>\n",
       "      <td>False</td>\n",
       "      <td>True</td>\n",
       "      <td>False</td>\n",
       "      <td>True</td>\n",
       "    </tr>\n",
       "    <tr>\n",
       "      <th>3</th>\n",
       "      <td>4</td>\n",
       "      <td>35.0</td>\n",
       "      <td>1</td>\n",
       "      <td>0</td>\n",
       "      <td>53.1000</td>\n",
       "      <td>False</td>\n",
       "      <td>False</td>\n",
       "      <td>False</td>\n",
       "      <td>False</td>\n",
       "      <td>True</td>\n",
       "    </tr>\n",
       "    <tr>\n",
       "      <th>4</th>\n",
       "      <td>5</td>\n",
       "      <td>35.0</td>\n",
       "      <td>0</td>\n",
       "      <td>0</td>\n",
       "      <td>8.0500</td>\n",
       "      <td>True</td>\n",
       "      <td>False</td>\n",
       "      <td>True</td>\n",
       "      <td>False</td>\n",
       "      <td>True</td>\n",
       "    </tr>\n",
       "    <tr>\n",
       "      <th>...</th>\n",
       "      <td>...</td>\n",
       "      <td>...</td>\n",
       "      <td>...</td>\n",
       "      <td>...</td>\n",
       "      <td>...</td>\n",
       "      <td>...</td>\n",
       "      <td>...</td>\n",
       "      <td>...</td>\n",
       "      <td>...</td>\n",
       "      <td>...</td>\n",
       "    </tr>\n",
       "    <tr>\n",
       "      <th>886</th>\n",
       "      <td>887</td>\n",
       "      <td>27.0</td>\n",
       "      <td>0</td>\n",
       "      <td>0</td>\n",
       "      <td>13.0000</td>\n",
       "      <td>True</td>\n",
       "      <td>True</td>\n",
       "      <td>False</td>\n",
       "      <td>False</td>\n",
       "      <td>True</td>\n",
       "    </tr>\n",
       "    <tr>\n",
       "      <th>887</th>\n",
       "      <td>888</td>\n",
       "      <td>19.0</td>\n",
       "      <td>0</td>\n",
       "      <td>0</td>\n",
       "      <td>30.0000</td>\n",
       "      <td>False</td>\n",
       "      <td>False</td>\n",
       "      <td>False</td>\n",
       "      <td>False</td>\n",
       "      <td>True</td>\n",
       "    </tr>\n",
       "    <tr>\n",
       "      <th>888</th>\n",
       "      <td>889</td>\n",
       "      <td>30.0</td>\n",
       "      <td>1</td>\n",
       "      <td>2</td>\n",
       "      <td>23.4500</td>\n",
       "      <td>False</td>\n",
       "      <td>False</td>\n",
       "      <td>True</td>\n",
       "      <td>False</td>\n",
       "      <td>True</td>\n",
       "    </tr>\n",
       "    <tr>\n",
       "      <th>889</th>\n",
       "      <td>890</td>\n",
       "      <td>26.0</td>\n",
       "      <td>0</td>\n",
       "      <td>0</td>\n",
       "      <td>30.0000</td>\n",
       "      <td>True</td>\n",
       "      <td>False</td>\n",
       "      <td>False</td>\n",
       "      <td>False</td>\n",
       "      <td>False</td>\n",
       "    </tr>\n",
       "    <tr>\n",
       "      <th>890</th>\n",
       "      <td>891</td>\n",
       "      <td>32.0</td>\n",
       "      <td>0</td>\n",
       "      <td>0</td>\n",
       "      <td>7.7500</td>\n",
       "      <td>True</td>\n",
       "      <td>False</td>\n",
       "      <td>True</td>\n",
       "      <td>True</td>\n",
       "      <td>False</td>\n",
       "    </tr>\n",
       "  </tbody>\n",
       "</table>\n",
       "<p>891 rows × 10 columns</p>\n",
       "</div>"
      ],
      "text/plain": [
       "     PassengerId   Age  SibSp  Parch     Fare  Sex_male  Pclass_2  Pclass_3  \\\n",
       "0              1  22.0      1      0   7.2500      True     False      True   \n",
       "1              2  38.0      1      0  71.2833     False     False     False   \n",
       "2              3  26.0      0      0   7.9250     False     False      True   \n",
       "3              4  35.0      1      0  53.1000     False     False     False   \n",
       "4              5  35.0      0      0   8.0500      True     False      True   \n",
       "..           ...   ...    ...    ...      ...       ...       ...       ...   \n",
       "886          887  27.0      0      0  13.0000      True      True     False   \n",
       "887          888  19.0      0      0  30.0000     False     False     False   \n",
       "888          889  30.0      1      2  23.4500     False     False      True   \n",
       "889          890  26.0      0      0  30.0000      True     False     False   \n",
       "890          891  32.0      0      0   7.7500      True     False      True   \n",
       "\n",
       "     Embarked_Q  Embarked_S  \n",
       "0         False        True  \n",
       "1         False       False  \n",
       "2         False        True  \n",
       "3         False        True  \n",
       "4         False        True  \n",
       "..          ...         ...  \n",
       "886       False        True  \n",
       "887       False        True  \n",
       "888       False        True  \n",
       "889       False       False  \n",
       "890        True       False  \n",
       "\n",
       "[891 rows x 10 columns]"
      ]
     },
     "execution_count": 59,
     "metadata": {},
     "output_type": "execute_result"
    }
   ],
   "source": [
    "X_train"
   ]
  },
  {
   "cell_type": "code",
   "execution_count": 63,
   "id": "cd9c3aae-ec7c-4d7c-9f96-9482dd473e84",
   "metadata": {
    "tags": []
   },
   "outputs": [],
   "source": [
    "from sklearn.feature_selection import RFE\n",
    "from sklearn.linear_model import LogisticRegression"
   ]
  },
  {
   "cell_type": "code",
   "execution_count": 65,
   "id": "4e9f62c2-ee9f-4fe8-a622-2ee6236968aa",
   "metadata": {
    "tags": []
   },
   "outputs": [],
   "source": [
    "modelo = LogisticRegression(max_iter = 1000000)"
   ]
  },
  {
   "cell_type": "code",
   "execution_count": 67,
   "id": "81de1822-3edf-4889-89fa-409a6d6bfd61",
   "metadata": {
    "tags": []
   },
   "outputs": [
    {
     "data": {
      "text/html": [
       "<style>#sk-container-id-1 {color: black;background-color: white;}#sk-container-id-1 pre{padding: 0;}#sk-container-id-1 div.sk-toggleable {background-color: white;}#sk-container-id-1 label.sk-toggleable__label {cursor: pointer;display: block;width: 100%;margin-bottom: 0;padding: 0.3em;box-sizing: border-box;text-align: center;}#sk-container-id-1 label.sk-toggleable__label-arrow:before {content: \"▸\";float: left;margin-right: 0.25em;color: #696969;}#sk-container-id-1 label.sk-toggleable__label-arrow:hover:before {color: black;}#sk-container-id-1 div.sk-estimator:hover label.sk-toggleable__label-arrow:before {color: black;}#sk-container-id-1 div.sk-toggleable__content {max-height: 0;max-width: 0;overflow: hidden;text-align: left;background-color: #f0f8ff;}#sk-container-id-1 div.sk-toggleable__content pre {margin: 0.2em;color: black;border-radius: 0.25em;background-color: #f0f8ff;}#sk-container-id-1 input.sk-toggleable__control:checked~div.sk-toggleable__content {max-height: 200px;max-width: 100%;overflow: auto;}#sk-container-id-1 input.sk-toggleable__control:checked~label.sk-toggleable__label-arrow:before {content: \"▾\";}#sk-container-id-1 div.sk-estimator input.sk-toggleable__control:checked~label.sk-toggleable__label {background-color: #d4ebff;}#sk-container-id-1 div.sk-label input.sk-toggleable__control:checked~label.sk-toggleable__label {background-color: #d4ebff;}#sk-container-id-1 input.sk-hidden--visually {border: 0;clip: rect(1px 1px 1px 1px);clip: rect(1px, 1px, 1px, 1px);height: 1px;margin: -1px;overflow: hidden;padding: 0;position: absolute;width: 1px;}#sk-container-id-1 div.sk-estimator {font-family: monospace;background-color: #f0f8ff;border: 1px dotted black;border-radius: 0.25em;box-sizing: border-box;margin-bottom: 0.5em;}#sk-container-id-1 div.sk-estimator:hover {background-color: #d4ebff;}#sk-container-id-1 div.sk-parallel-item::after {content: \"\";width: 100%;border-bottom: 1px solid gray;flex-grow: 1;}#sk-container-id-1 div.sk-label:hover label.sk-toggleable__label {background-color: #d4ebff;}#sk-container-id-1 div.sk-serial::before {content: \"\";position: absolute;border-left: 1px solid gray;box-sizing: border-box;top: 0;bottom: 0;left: 50%;z-index: 0;}#sk-container-id-1 div.sk-serial {display: flex;flex-direction: column;align-items: center;background-color: white;padding-right: 0.2em;padding-left: 0.2em;position: relative;}#sk-container-id-1 div.sk-item {position: relative;z-index: 1;}#sk-container-id-1 div.sk-parallel {display: flex;align-items: stretch;justify-content: center;background-color: white;position: relative;}#sk-container-id-1 div.sk-item::before, #sk-container-id-1 div.sk-parallel-item::before {content: \"\";position: absolute;border-left: 1px solid gray;box-sizing: border-box;top: 0;bottom: 0;left: 50%;z-index: -1;}#sk-container-id-1 div.sk-parallel-item {display: flex;flex-direction: column;z-index: 1;position: relative;background-color: white;}#sk-container-id-1 div.sk-parallel-item:first-child::after {align-self: flex-end;width: 50%;}#sk-container-id-1 div.sk-parallel-item:last-child::after {align-self: flex-start;width: 50%;}#sk-container-id-1 div.sk-parallel-item:only-child::after {width: 0;}#sk-container-id-1 div.sk-dashed-wrapped {border: 1px dashed gray;margin: 0 0.4em 0.5em 0.4em;box-sizing: border-box;padding-bottom: 0.4em;background-color: white;}#sk-container-id-1 div.sk-label label {font-family: monospace;font-weight: bold;display: inline-block;line-height: 1.2em;}#sk-container-id-1 div.sk-label-container {text-align: center;}#sk-container-id-1 div.sk-container {/* jupyter's `normalize.less` sets `[hidden] { display: none; }` but bootstrap.min.css set `[hidden] { display: none !important; }` so we also need the `!important` here to be able to override the default hidden behavior on the sphinx rendered scikit-learn.org. See: https://github.com/scikit-learn/scikit-learn/issues/21755 */display: inline-block !important;position: relative;}#sk-container-id-1 div.sk-text-repr-fallback {display: none;}</style><div id=\"sk-container-id-1\" class=\"sk-top-container\"><div class=\"sk-text-repr-fallback\"><pre>RFE(estimator=LogisticRegression(max_iter=1000000), n_features_to_select=8)</pre><b>In a Jupyter environment, please rerun this cell to show the HTML representation or trust the notebook. <br />On GitHub, the HTML representation is unable to render, please try loading this page with nbviewer.org.</b></div><div class=\"sk-container\" hidden><div class=\"sk-item sk-dashed-wrapped\"><div class=\"sk-label-container\"><div class=\"sk-label sk-toggleable\"><input class=\"sk-toggleable__control sk-hidden--visually\" id=\"sk-estimator-id-1\" type=\"checkbox\" ><label for=\"sk-estimator-id-1\" class=\"sk-toggleable__label sk-toggleable__label-arrow\">RFE</label><div class=\"sk-toggleable__content\"><pre>RFE(estimator=LogisticRegression(max_iter=1000000), n_features_to_select=8)</pre></div></div></div><div class=\"sk-parallel\"><div class=\"sk-parallel-item\"><div class=\"sk-item\"><div class=\"sk-label-container\"><div class=\"sk-label sk-toggleable\"><input class=\"sk-toggleable__control sk-hidden--visually\" id=\"sk-estimator-id-2\" type=\"checkbox\" ><label for=\"sk-estimator-id-2\" class=\"sk-toggleable__label sk-toggleable__label-arrow\">estimator: LogisticRegression</label><div class=\"sk-toggleable__content\"><pre>LogisticRegression(max_iter=1000000)</pre></div></div></div><div class=\"sk-serial\"><div class=\"sk-item\"><div class=\"sk-estimator sk-toggleable\"><input class=\"sk-toggleable__control sk-hidden--visually\" id=\"sk-estimator-id-3\" type=\"checkbox\" ><label for=\"sk-estimator-id-3\" class=\"sk-toggleable__label sk-toggleable__label-arrow\">LogisticRegression</label><div class=\"sk-toggleable__content\"><pre>LogisticRegression(max_iter=1000000)</pre></div></div></div></div></div></div></div></div></div></div>"
      ],
      "text/plain": [
       "RFE(estimator=LogisticRegression(max_iter=1000000), n_features_to_select=8)"
      ]
     },
     "execution_count": 67,
     "metadata": {},
     "output_type": "execute_result"
    }
   ],
   "source": [
    "seleccion_RFE = RFE(modelo, n_features_to_select = 8 )\n",
    "seleccion_RFE"
   ]
  },
  {
   "cell_type": "code",
   "execution_count": 69,
   "id": "c9bc1318-c73e-4d97-954b-9a050c278a5e",
   "metadata": {
    "tags": []
   },
   "outputs": [
    {
     "data": {
      "text/html": [
       "<style>#sk-container-id-2 {color: black;background-color: white;}#sk-container-id-2 pre{padding: 0;}#sk-container-id-2 div.sk-toggleable {background-color: white;}#sk-container-id-2 label.sk-toggleable__label {cursor: pointer;display: block;width: 100%;margin-bottom: 0;padding: 0.3em;box-sizing: border-box;text-align: center;}#sk-container-id-2 label.sk-toggleable__label-arrow:before {content: \"▸\";float: left;margin-right: 0.25em;color: #696969;}#sk-container-id-2 label.sk-toggleable__label-arrow:hover:before {color: black;}#sk-container-id-2 div.sk-estimator:hover label.sk-toggleable__label-arrow:before {color: black;}#sk-container-id-2 div.sk-toggleable__content {max-height: 0;max-width: 0;overflow: hidden;text-align: left;background-color: #f0f8ff;}#sk-container-id-2 div.sk-toggleable__content pre {margin: 0.2em;color: black;border-radius: 0.25em;background-color: #f0f8ff;}#sk-container-id-2 input.sk-toggleable__control:checked~div.sk-toggleable__content {max-height: 200px;max-width: 100%;overflow: auto;}#sk-container-id-2 input.sk-toggleable__control:checked~label.sk-toggleable__label-arrow:before {content: \"▾\";}#sk-container-id-2 div.sk-estimator input.sk-toggleable__control:checked~label.sk-toggleable__label {background-color: #d4ebff;}#sk-container-id-2 div.sk-label input.sk-toggleable__control:checked~label.sk-toggleable__label {background-color: #d4ebff;}#sk-container-id-2 input.sk-hidden--visually {border: 0;clip: rect(1px 1px 1px 1px);clip: rect(1px, 1px, 1px, 1px);height: 1px;margin: -1px;overflow: hidden;padding: 0;position: absolute;width: 1px;}#sk-container-id-2 div.sk-estimator {font-family: monospace;background-color: #f0f8ff;border: 1px dotted black;border-radius: 0.25em;box-sizing: border-box;margin-bottom: 0.5em;}#sk-container-id-2 div.sk-estimator:hover {background-color: #d4ebff;}#sk-container-id-2 div.sk-parallel-item::after {content: \"\";width: 100%;border-bottom: 1px solid gray;flex-grow: 1;}#sk-container-id-2 div.sk-label:hover label.sk-toggleable__label {background-color: #d4ebff;}#sk-container-id-2 div.sk-serial::before {content: \"\";position: absolute;border-left: 1px solid gray;box-sizing: border-box;top: 0;bottom: 0;left: 50%;z-index: 0;}#sk-container-id-2 div.sk-serial {display: flex;flex-direction: column;align-items: center;background-color: white;padding-right: 0.2em;padding-left: 0.2em;position: relative;}#sk-container-id-2 div.sk-item {position: relative;z-index: 1;}#sk-container-id-2 div.sk-parallel {display: flex;align-items: stretch;justify-content: center;background-color: white;position: relative;}#sk-container-id-2 div.sk-item::before, #sk-container-id-2 div.sk-parallel-item::before {content: \"\";position: absolute;border-left: 1px solid gray;box-sizing: border-box;top: 0;bottom: 0;left: 50%;z-index: -1;}#sk-container-id-2 div.sk-parallel-item {display: flex;flex-direction: column;z-index: 1;position: relative;background-color: white;}#sk-container-id-2 div.sk-parallel-item:first-child::after {align-self: flex-end;width: 50%;}#sk-container-id-2 div.sk-parallel-item:last-child::after {align-self: flex-start;width: 50%;}#sk-container-id-2 div.sk-parallel-item:only-child::after {width: 0;}#sk-container-id-2 div.sk-dashed-wrapped {border: 1px dashed gray;margin: 0 0.4em 0.5em 0.4em;box-sizing: border-box;padding-bottom: 0.4em;background-color: white;}#sk-container-id-2 div.sk-label label {font-family: monospace;font-weight: bold;display: inline-block;line-height: 1.2em;}#sk-container-id-2 div.sk-label-container {text-align: center;}#sk-container-id-2 div.sk-container {/* jupyter's `normalize.less` sets `[hidden] { display: none; }` but bootstrap.min.css set `[hidden] { display: none !important; }` so we also need the `!important` here to be able to override the default hidden behavior on the sphinx rendered scikit-learn.org. See: https://github.com/scikit-learn/scikit-learn/issues/21755 */display: inline-block !important;position: relative;}#sk-container-id-2 div.sk-text-repr-fallback {display: none;}</style><div id=\"sk-container-id-2\" class=\"sk-top-container\"><div class=\"sk-text-repr-fallback\"><pre>RFE(estimator=LogisticRegression(max_iter=1000000), n_features_to_select=8)</pre><b>In a Jupyter environment, please rerun this cell to show the HTML representation or trust the notebook. <br />On GitHub, the HTML representation is unable to render, please try loading this page with nbviewer.org.</b></div><div class=\"sk-container\" hidden><div class=\"sk-item sk-dashed-wrapped\"><div class=\"sk-label-container\"><div class=\"sk-label sk-toggleable\"><input class=\"sk-toggleable__control sk-hidden--visually\" id=\"sk-estimator-id-4\" type=\"checkbox\" ><label for=\"sk-estimator-id-4\" class=\"sk-toggleable__label sk-toggleable__label-arrow\">RFE</label><div class=\"sk-toggleable__content\"><pre>RFE(estimator=LogisticRegression(max_iter=1000000), n_features_to_select=8)</pre></div></div></div><div class=\"sk-parallel\"><div class=\"sk-parallel-item\"><div class=\"sk-item\"><div class=\"sk-label-container\"><div class=\"sk-label sk-toggleable\"><input class=\"sk-toggleable__control sk-hidden--visually\" id=\"sk-estimator-id-5\" type=\"checkbox\" ><label for=\"sk-estimator-id-5\" class=\"sk-toggleable__label sk-toggleable__label-arrow\">estimator: LogisticRegression</label><div class=\"sk-toggleable__content\"><pre>LogisticRegression(max_iter=1000000)</pre></div></div></div><div class=\"sk-serial\"><div class=\"sk-item\"><div class=\"sk-estimator sk-toggleable\"><input class=\"sk-toggleable__control sk-hidden--visually\" id=\"sk-estimator-id-6\" type=\"checkbox\" ><label for=\"sk-estimator-id-6\" class=\"sk-toggleable__label sk-toggleable__label-arrow\">LogisticRegression</label><div class=\"sk-toggleable__content\"><pre>LogisticRegression(max_iter=1000000)</pre></div></div></div></div></div></div></div></div></div></div>"
      ],
      "text/plain": [
       "RFE(estimator=LogisticRegression(max_iter=1000000), n_features_to_select=8)"
      ]
     },
     "execution_count": 69,
     "metadata": {},
     "output_type": "execute_result"
    }
   ],
   "source": [
    "seleccion_RFE.fit(X_train, y_train)"
   ]
  },
  {
   "cell_type": "code",
   "execution_count": 71,
   "id": "32ffaad5-210e-42e3-8b5a-c03250bc0203",
   "metadata": {
    "tags": []
   },
   "outputs": [
    {
     "data": {
      "text/plain": [
       "array([False,  True,  True,  True, False,  True,  True,  True,  True,\n",
       "        True])"
      ]
     },
     "execution_count": 71,
     "metadata": {},
     "output_type": "execute_result"
    }
   ],
   "source": [
    "seleccion_RFE.support_"
   ]
  },
  {
   "cell_type": "code",
   "execution_count": 73,
   "id": "9d58803d-0af1-4729-98a3-c99df009a6ac",
   "metadata": {
    "tags": []
   },
   "outputs": [
    {
     "data": {
      "text/html": [
       "<div>\n",
       "<style scoped>\n",
       "    .dataframe tbody tr th:only-of-type {\n",
       "        vertical-align: middle;\n",
       "    }\n",
       "\n",
       "    .dataframe tbody tr th {\n",
       "        vertical-align: top;\n",
       "    }\n",
       "\n",
       "    .dataframe thead th {\n",
       "        text-align: right;\n",
       "    }\n",
       "</style>\n",
       "<table border=\"1\" class=\"dataframe\">\n",
       "  <thead>\n",
       "    <tr style=\"text-align: right;\">\n",
       "      <th></th>\n",
       "      <th>columna</th>\n",
       "      <th>SeQueda</th>\n",
       "      <th>Posicion</th>\n",
       "    </tr>\n",
       "  </thead>\n",
       "  <tbody>\n",
       "    <tr>\n",
       "      <th>1</th>\n",
       "      <td>Age</td>\n",
       "      <td>True</td>\n",
       "      <td>1</td>\n",
       "    </tr>\n",
       "    <tr>\n",
       "      <th>2</th>\n",
       "      <td>SibSp</td>\n",
       "      <td>True</td>\n",
       "      <td>1</td>\n",
       "    </tr>\n",
       "    <tr>\n",
       "      <th>3</th>\n",
       "      <td>Parch</td>\n",
       "      <td>True</td>\n",
       "      <td>1</td>\n",
       "    </tr>\n",
       "    <tr>\n",
       "      <th>5</th>\n",
       "      <td>Sex_male</td>\n",
       "      <td>True</td>\n",
       "      <td>1</td>\n",
       "    </tr>\n",
       "    <tr>\n",
       "      <th>6</th>\n",
       "      <td>Pclass_2</td>\n",
       "      <td>True</td>\n",
       "      <td>1</td>\n",
       "    </tr>\n",
       "    <tr>\n",
       "      <th>7</th>\n",
       "      <td>Pclass_3</td>\n",
       "      <td>True</td>\n",
       "      <td>1</td>\n",
       "    </tr>\n",
       "    <tr>\n",
       "      <th>8</th>\n",
       "      <td>Embarked_Q</td>\n",
       "      <td>True</td>\n",
       "      <td>1</td>\n",
       "    </tr>\n",
       "    <tr>\n",
       "      <th>9</th>\n",
       "      <td>Embarked_S</td>\n",
       "      <td>True</td>\n",
       "      <td>1</td>\n",
       "    </tr>\n",
       "    <tr>\n",
       "      <th>4</th>\n",
       "      <td>Fare</td>\n",
       "      <td>False</td>\n",
       "      <td>2</td>\n",
       "    </tr>\n",
       "    <tr>\n",
       "      <th>0</th>\n",
       "      <td>PassengerId</td>\n",
       "      <td>False</td>\n",
       "      <td>3</td>\n",
       "    </tr>\n",
       "  </tbody>\n",
       "</table>\n",
       "</div>"
      ],
      "text/plain": [
       "       columna  SeQueda  Posicion\n",
       "1          Age     True         1\n",
       "2        SibSp     True         1\n",
       "3        Parch     True         1\n",
       "5     Sex_male     True         1\n",
       "6     Pclass_2     True         1\n",
       "7     Pclass_3     True         1\n",
       "8   Embarked_Q     True         1\n",
       "9   Embarked_S     True         1\n",
       "4         Fare    False         2\n",
       "0  PassengerId    False         3"
      ]
     },
     "execution_count": 73,
     "metadata": {},
     "output_type": "execute_result"
    }
   ],
   "source": [
    "tabla_columnas = pd.DataFrame({\n",
    "    \"columna\": X_train.columns, \n",
    "    \"SeQueda\": seleccion_RFE.support_,\n",
    "    \"Posicion\": seleccion_RFE.ranking_\n",
    "})\n",
    "tabla_columnas.sort_values(\"Posicion\")"
   ]
  },
  {
   "cell_type": "code",
   "execution_count": 75,
   "id": "aebe7999-6e38-4797-b6ff-d5ae2f579a70",
   "metadata": {
    "collapsed": true,
    "jupyter": {
     "outputs_hidden": true
    },
    "tags": []
   },
   "outputs": [
    {
     "data": {
      "text/html": [
       "<div>\n",
       "<style scoped>\n",
       "    .dataframe tbody tr th:only-of-type {\n",
       "        vertical-align: middle;\n",
       "    }\n",
       "\n",
       "    .dataframe tbody tr th {\n",
       "        vertical-align: top;\n",
       "    }\n",
       "\n",
       "    .dataframe thead th {\n",
       "        text-align: right;\n",
       "    }\n",
       "</style>\n",
       "<table border=\"1\" class=\"dataframe\">\n",
       "  <thead>\n",
       "    <tr style=\"text-align: right;\">\n",
       "      <th></th>\n",
       "      <th>Age</th>\n",
       "      <th>SibSp</th>\n",
       "      <th>Parch</th>\n",
       "      <th>Sex_male</th>\n",
       "      <th>Pclass_2</th>\n",
       "      <th>Pclass_3</th>\n",
       "      <th>Embarked_Q</th>\n",
       "      <th>Embarked_S</th>\n",
       "    </tr>\n",
       "  </thead>\n",
       "  <tbody>\n",
       "    <tr>\n",
       "      <th>0</th>\n",
       "      <td>22.0</td>\n",
       "      <td>1</td>\n",
       "      <td>0</td>\n",
       "      <td>True</td>\n",
       "      <td>False</td>\n",
       "      <td>True</td>\n",
       "      <td>False</td>\n",
       "      <td>True</td>\n",
       "    </tr>\n",
       "    <tr>\n",
       "      <th>1</th>\n",
       "      <td>38.0</td>\n",
       "      <td>1</td>\n",
       "      <td>0</td>\n",
       "      <td>False</td>\n",
       "      <td>False</td>\n",
       "      <td>False</td>\n",
       "      <td>False</td>\n",
       "      <td>False</td>\n",
       "    </tr>\n",
       "    <tr>\n",
       "      <th>2</th>\n",
       "      <td>26.0</td>\n",
       "      <td>0</td>\n",
       "      <td>0</td>\n",
       "      <td>False</td>\n",
       "      <td>False</td>\n",
       "      <td>True</td>\n",
       "      <td>False</td>\n",
       "      <td>True</td>\n",
       "    </tr>\n",
       "    <tr>\n",
       "      <th>3</th>\n",
       "      <td>35.0</td>\n",
       "      <td>1</td>\n",
       "      <td>0</td>\n",
       "      <td>False</td>\n",
       "      <td>False</td>\n",
       "      <td>False</td>\n",
       "      <td>False</td>\n",
       "      <td>True</td>\n",
       "    </tr>\n",
       "    <tr>\n",
       "      <th>4</th>\n",
       "      <td>35.0</td>\n",
       "      <td>0</td>\n",
       "      <td>0</td>\n",
       "      <td>True</td>\n",
       "      <td>False</td>\n",
       "      <td>True</td>\n",
       "      <td>False</td>\n",
       "      <td>True</td>\n",
       "    </tr>\n",
       "    <tr>\n",
       "      <th>...</th>\n",
       "      <td>...</td>\n",
       "      <td>...</td>\n",
       "      <td>...</td>\n",
       "      <td>...</td>\n",
       "      <td>...</td>\n",
       "      <td>...</td>\n",
       "      <td>...</td>\n",
       "      <td>...</td>\n",
       "    </tr>\n",
       "    <tr>\n",
       "      <th>886</th>\n",
       "      <td>27.0</td>\n",
       "      <td>0</td>\n",
       "      <td>0</td>\n",
       "      <td>True</td>\n",
       "      <td>True</td>\n",
       "      <td>False</td>\n",
       "      <td>False</td>\n",
       "      <td>True</td>\n",
       "    </tr>\n",
       "    <tr>\n",
       "      <th>887</th>\n",
       "      <td>19.0</td>\n",
       "      <td>0</td>\n",
       "      <td>0</td>\n",
       "      <td>False</td>\n",
       "      <td>False</td>\n",
       "      <td>False</td>\n",
       "      <td>False</td>\n",
       "      <td>True</td>\n",
       "    </tr>\n",
       "    <tr>\n",
       "      <th>888</th>\n",
       "      <td>27.0</td>\n",
       "      <td>1</td>\n",
       "      <td>2</td>\n",
       "      <td>False</td>\n",
       "      <td>False</td>\n",
       "      <td>True</td>\n",
       "      <td>False</td>\n",
       "      <td>True</td>\n",
       "    </tr>\n",
       "    <tr>\n",
       "      <th>889</th>\n",
       "      <td>26.0</td>\n",
       "      <td>0</td>\n",
       "      <td>0</td>\n",
       "      <td>True</td>\n",
       "      <td>False</td>\n",
       "      <td>False</td>\n",
       "      <td>False</td>\n",
       "      <td>False</td>\n",
       "    </tr>\n",
       "    <tr>\n",
       "      <th>890</th>\n",
       "      <td>32.0</td>\n",
       "      <td>0</td>\n",
       "      <td>0</td>\n",
       "      <td>True</td>\n",
       "      <td>False</td>\n",
       "      <td>True</td>\n",
       "      <td>True</td>\n",
       "      <td>False</td>\n",
       "    </tr>\n",
       "  </tbody>\n",
       "</table>\n",
       "<p>891 rows × 8 columns</p>\n",
       "</div>"
      ],
      "text/plain": [
       "      Age  SibSp  Parch  Sex_male  Pclass_2  Pclass_3  Embarked_Q  Embarked_S\n",
       "0    22.0      1      0      True     False      True       False        True\n",
       "1    38.0      1      0     False     False     False       False       False\n",
       "2    26.0      0      0     False     False      True       False        True\n",
       "3    35.0      1      0     False     False     False       False        True\n",
       "4    35.0      0      0      True     False      True       False        True\n",
       "..    ...    ...    ...       ...       ...       ...         ...         ...\n",
       "886  27.0      0      0      True      True     False       False        True\n",
       "887  19.0      0      0     False     False     False       False        True\n",
       "888  27.0      1      2     False     False      True       False        True\n",
       "889  26.0      0      0      True     False     False       False       False\n",
       "890  32.0      0      0      True     False      True        True       False\n",
       "\n",
       "[891 rows x 8 columns]"
      ]
     },
     "execution_count": 75,
     "metadata": {},
     "output_type": "execute_result"
    }
   ],
   "source": [
    "X_train_final = X_train.loc[:,seleccion_RFE.support_]\n",
    "X_train_final"
   ]
  },
  {
   "cell_type": "code",
   "execution_count": 77,
   "id": "53b01d6c-6638-448e-a196-bf7e13176992",
   "metadata": {
    "collapsed": true,
    "jupyter": {
     "outputs_hidden": true
    },
    "tags": []
   },
   "outputs": [
    {
     "data": {
      "text/html": [
       "<div>\n",
       "<style scoped>\n",
       "    .dataframe tbody tr th:only-of-type {\n",
       "        vertical-align: middle;\n",
       "    }\n",
       "\n",
       "    .dataframe tbody tr th {\n",
       "        vertical-align: top;\n",
       "    }\n",
       "\n",
       "    .dataframe thead th {\n",
       "        text-align: right;\n",
       "    }\n",
       "</style>\n",
       "<table border=\"1\" class=\"dataframe\">\n",
       "  <thead>\n",
       "    <tr style=\"text-align: right;\">\n",
       "      <th></th>\n",
       "      <th>Age</th>\n",
       "      <th>SibSp</th>\n",
       "      <th>Parch</th>\n",
       "      <th>Sex_male</th>\n",
       "      <th>Pclass_2</th>\n",
       "      <th>Pclass_3</th>\n",
       "      <th>Embarked_Q</th>\n",
       "      <th>Embarked_S</th>\n",
       "    </tr>\n",
       "  </thead>\n",
       "  <tbody>\n",
       "    <tr>\n",
       "      <th>0</th>\n",
       "      <td>34.5</td>\n",
       "      <td>0</td>\n",
       "      <td>0</td>\n",
       "      <td>True</td>\n",
       "      <td>False</td>\n",
       "      <td>True</td>\n",
       "      <td>True</td>\n",
       "      <td>False</td>\n",
       "    </tr>\n",
       "    <tr>\n",
       "      <th>1</th>\n",
       "      <td>47.0</td>\n",
       "      <td>1</td>\n",
       "      <td>0</td>\n",
       "      <td>False</td>\n",
       "      <td>False</td>\n",
       "      <td>True</td>\n",
       "      <td>False</td>\n",
       "      <td>True</td>\n",
       "    </tr>\n",
       "    <tr>\n",
       "      <th>2</th>\n",
       "      <td>62.0</td>\n",
       "      <td>0</td>\n",
       "      <td>0</td>\n",
       "      <td>True</td>\n",
       "      <td>True</td>\n",
       "      <td>False</td>\n",
       "      <td>True</td>\n",
       "      <td>False</td>\n",
       "    </tr>\n",
       "    <tr>\n",
       "      <th>3</th>\n",
       "      <td>27.0</td>\n",
       "      <td>0</td>\n",
       "      <td>0</td>\n",
       "      <td>True</td>\n",
       "      <td>False</td>\n",
       "      <td>True</td>\n",
       "      <td>False</td>\n",
       "      <td>True</td>\n",
       "    </tr>\n",
       "    <tr>\n",
       "      <th>4</th>\n",
       "      <td>22.0</td>\n",
       "      <td>1</td>\n",
       "      <td>1</td>\n",
       "      <td>False</td>\n",
       "      <td>False</td>\n",
       "      <td>True</td>\n",
       "      <td>False</td>\n",
       "      <td>True</td>\n",
       "    </tr>\n",
       "    <tr>\n",
       "      <th>...</th>\n",
       "      <td>...</td>\n",
       "      <td>...</td>\n",
       "      <td>...</td>\n",
       "      <td>...</td>\n",
       "      <td>...</td>\n",
       "      <td>...</td>\n",
       "      <td>...</td>\n",
       "      <td>...</td>\n",
       "    </tr>\n",
       "    <tr>\n",
       "      <th>413</th>\n",
       "      <td>27.0</td>\n",
       "      <td>0</td>\n",
       "      <td>0</td>\n",
       "      <td>True</td>\n",
       "      <td>False</td>\n",
       "      <td>True</td>\n",
       "      <td>False</td>\n",
       "      <td>True</td>\n",
       "    </tr>\n",
       "    <tr>\n",
       "      <th>414</th>\n",
       "      <td>39.0</td>\n",
       "      <td>0</td>\n",
       "      <td>0</td>\n",
       "      <td>False</td>\n",
       "      <td>False</td>\n",
       "      <td>False</td>\n",
       "      <td>False</td>\n",
       "      <td>False</td>\n",
       "    </tr>\n",
       "    <tr>\n",
       "      <th>415</th>\n",
       "      <td>38.5</td>\n",
       "      <td>0</td>\n",
       "      <td>0</td>\n",
       "      <td>True</td>\n",
       "      <td>False</td>\n",
       "      <td>True</td>\n",
       "      <td>False</td>\n",
       "      <td>True</td>\n",
       "    </tr>\n",
       "    <tr>\n",
       "      <th>416</th>\n",
       "      <td>27.0</td>\n",
       "      <td>0</td>\n",
       "      <td>0</td>\n",
       "      <td>True</td>\n",
       "      <td>False</td>\n",
       "      <td>True</td>\n",
       "      <td>False</td>\n",
       "      <td>True</td>\n",
       "    </tr>\n",
       "    <tr>\n",
       "      <th>417</th>\n",
       "      <td>27.0</td>\n",
       "      <td>1</td>\n",
       "      <td>1</td>\n",
       "      <td>True</td>\n",
       "      <td>False</td>\n",
       "      <td>True</td>\n",
       "      <td>False</td>\n",
       "      <td>False</td>\n",
       "    </tr>\n",
       "  </tbody>\n",
       "</table>\n",
       "<p>418 rows × 8 columns</p>\n",
       "</div>"
      ],
      "text/plain": [
       "      Age  SibSp  Parch  Sex_male  Pclass_2  Pclass_3  Embarked_Q  Embarked_S\n",
       "0    34.5      0      0      True     False      True        True       False\n",
       "1    47.0      1      0     False     False      True       False        True\n",
       "2    62.0      0      0      True      True     False        True       False\n",
       "3    27.0      0      0      True     False      True       False        True\n",
       "4    22.0      1      1     False     False      True       False        True\n",
       "..    ...    ...    ...       ...       ...       ...         ...         ...\n",
       "413  27.0      0      0      True     False      True       False        True\n",
       "414  39.0      0      0     False     False     False       False       False\n",
       "415  38.5      0      0      True     False      True       False        True\n",
       "416  27.0      0      0      True     False      True       False        True\n",
       "417  27.0      1      1      True     False      True       False       False\n",
       "\n",
       "[418 rows x 8 columns]"
      ]
     },
     "execution_count": 77,
     "metadata": {},
     "output_type": "execute_result"
    }
   ],
   "source": [
    "X_test_final = X_test.loc[:,seleccion_RFE.support_]\n",
    "X_test_final"
   ]
  },
  {
   "cell_type": "markdown",
   "id": "84153db7-4a10-423a-8fda-73cd616369f7",
   "metadata": {},
   "source": [
    "7. Agregar una columna llamada \"IsMinor\" que sea 1 en caso de tener 16 años o menos y 0 en caso contrario. Hacerlo para testing y training"
   ]
  },
  {
   "cell_type": "code",
   "execution_count": 83,
   "id": "c638100f-753c-46a6-a215-322791b8eabc",
   "metadata": {
    "tags": []
   },
   "outputs": [],
   "source": [
    "filtro_age = X_train_final['Age'] <= 16\n",
    "X_train_final.loc[:,'IsMinor'] = np.where(filtro_age, 1, 0)"
   ]
  },
  {
   "cell_type": "code",
   "execution_count": 85,
   "id": "ea40f447-faf9-499a-b0ef-9129ca20dd47",
   "metadata": {
    "collapsed": true,
    "jupyter": {
     "outputs_hidden": true
    },
    "tags": []
   },
   "outputs": [
    {
     "data": {
      "text/html": [
       "<div>\n",
       "<style scoped>\n",
       "    .dataframe tbody tr th:only-of-type {\n",
       "        vertical-align: middle;\n",
       "    }\n",
       "\n",
       "    .dataframe tbody tr th {\n",
       "        vertical-align: top;\n",
       "    }\n",
       "\n",
       "    .dataframe thead th {\n",
       "        text-align: right;\n",
       "    }\n",
       "</style>\n",
       "<table border=\"1\" class=\"dataframe\">\n",
       "  <thead>\n",
       "    <tr style=\"text-align: right;\">\n",
       "      <th></th>\n",
       "      <th>Age</th>\n",
       "      <th>SibSp</th>\n",
       "      <th>Parch</th>\n",
       "      <th>Sex_male</th>\n",
       "      <th>Pclass_2</th>\n",
       "      <th>Pclass_3</th>\n",
       "      <th>Embarked_Q</th>\n",
       "      <th>Embarked_S</th>\n",
       "      <th>IsMinor</th>\n",
       "    </tr>\n",
       "  </thead>\n",
       "  <tbody>\n",
       "    <tr>\n",
       "      <th>0</th>\n",
       "      <td>22.0</td>\n",
       "      <td>1</td>\n",
       "      <td>0</td>\n",
       "      <td>True</td>\n",
       "      <td>False</td>\n",
       "      <td>True</td>\n",
       "      <td>False</td>\n",
       "      <td>True</td>\n",
       "      <td>0</td>\n",
       "    </tr>\n",
       "    <tr>\n",
       "      <th>1</th>\n",
       "      <td>38.0</td>\n",
       "      <td>1</td>\n",
       "      <td>0</td>\n",
       "      <td>False</td>\n",
       "      <td>False</td>\n",
       "      <td>False</td>\n",
       "      <td>False</td>\n",
       "      <td>False</td>\n",
       "      <td>0</td>\n",
       "    </tr>\n",
       "    <tr>\n",
       "      <th>2</th>\n",
       "      <td>26.0</td>\n",
       "      <td>0</td>\n",
       "      <td>0</td>\n",
       "      <td>False</td>\n",
       "      <td>False</td>\n",
       "      <td>True</td>\n",
       "      <td>False</td>\n",
       "      <td>True</td>\n",
       "      <td>0</td>\n",
       "    </tr>\n",
       "    <tr>\n",
       "      <th>3</th>\n",
       "      <td>35.0</td>\n",
       "      <td>1</td>\n",
       "      <td>0</td>\n",
       "      <td>False</td>\n",
       "      <td>False</td>\n",
       "      <td>False</td>\n",
       "      <td>False</td>\n",
       "      <td>True</td>\n",
       "      <td>0</td>\n",
       "    </tr>\n",
       "    <tr>\n",
       "      <th>4</th>\n",
       "      <td>35.0</td>\n",
       "      <td>0</td>\n",
       "      <td>0</td>\n",
       "      <td>True</td>\n",
       "      <td>False</td>\n",
       "      <td>True</td>\n",
       "      <td>False</td>\n",
       "      <td>True</td>\n",
       "      <td>0</td>\n",
       "    </tr>\n",
       "    <tr>\n",
       "      <th>...</th>\n",
       "      <td>...</td>\n",
       "      <td>...</td>\n",
       "      <td>...</td>\n",
       "      <td>...</td>\n",
       "      <td>...</td>\n",
       "      <td>...</td>\n",
       "      <td>...</td>\n",
       "      <td>...</td>\n",
       "      <td>...</td>\n",
       "    </tr>\n",
       "    <tr>\n",
       "      <th>886</th>\n",
       "      <td>27.0</td>\n",
       "      <td>0</td>\n",
       "      <td>0</td>\n",
       "      <td>True</td>\n",
       "      <td>True</td>\n",
       "      <td>False</td>\n",
       "      <td>False</td>\n",
       "      <td>True</td>\n",
       "      <td>0</td>\n",
       "    </tr>\n",
       "    <tr>\n",
       "      <th>887</th>\n",
       "      <td>19.0</td>\n",
       "      <td>0</td>\n",
       "      <td>0</td>\n",
       "      <td>False</td>\n",
       "      <td>False</td>\n",
       "      <td>False</td>\n",
       "      <td>False</td>\n",
       "      <td>True</td>\n",
       "      <td>0</td>\n",
       "    </tr>\n",
       "    <tr>\n",
       "      <th>888</th>\n",
       "      <td>27.0</td>\n",
       "      <td>1</td>\n",
       "      <td>2</td>\n",
       "      <td>False</td>\n",
       "      <td>False</td>\n",
       "      <td>True</td>\n",
       "      <td>False</td>\n",
       "      <td>True</td>\n",
       "      <td>0</td>\n",
       "    </tr>\n",
       "    <tr>\n",
       "      <th>889</th>\n",
       "      <td>26.0</td>\n",
       "      <td>0</td>\n",
       "      <td>0</td>\n",
       "      <td>True</td>\n",
       "      <td>False</td>\n",
       "      <td>False</td>\n",
       "      <td>False</td>\n",
       "      <td>False</td>\n",
       "      <td>0</td>\n",
       "    </tr>\n",
       "    <tr>\n",
       "      <th>890</th>\n",
       "      <td>32.0</td>\n",
       "      <td>0</td>\n",
       "      <td>0</td>\n",
       "      <td>True</td>\n",
       "      <td>False</td>\n",
       "      <td>True</td>\n",
       "      <td>True</td>\n",
       "      <td>False</td>\n",
       "      <td>0</td>\n",
       "    </tr>\n",
       "  </tbody>\n",
       "</table>\n",
       "<p>891 rows × 9 columns</p>\n",
       "</div>"
      ],
      "text/plain": [
       "      Age  SibSp  Parch  Sex_male  Pclass_2  Pclass_3  Embarked_Q  Embarked_S  \\\n",
       "0    22.0      1      0      True     False      True       False        True   \n",
       "1    38.0      1      0     False     False     False       False       False   \n",
       "2    26.0      0      0     False     False      True       False        True   \n",
       "3    35.0      1      0     False     False     False       False        True   \n",
       "4    35.0      0      0      True     False      True       False        True   \n",
       "..    ...    ...    ...       ...       ...       ...         ...         ...   \n",
       "886  27.0      0      0      True      True     False       False        True   \n",
       "887  19.0      0      0     False     False     False       False        True   \n",
       "888  27.0      1      2     False     False      True       False        True   \n",
       "889  26.0      0      0      True     False     False       False       False   \n",
       "890  32.0      0      0      True     False      True        True       False   \n",
       "\n",
       "     IsMinor  \n",
       "0          0  \n",
       "1          0  \n",
       "2          0  \n",
       "3          0  \n",
       "4          0  \n",
       "..       ...  \n",
       "886        0  \n",
       "887        0  \n",
       "888        0  \n",
       "889        0  \n",
       "890        0  \n",
       "\n",
       "[891 rows x 9 columns]"
      ]
     },
     "execution_count": 85,
     "metadata": {},
     "output_type": "execute_result"
    }
   ],
   "source": [
    "X_train_final"
   ]
  },
  {
   "cell_type": "code",
   "execution_count": 87,
   "id": "3b5d8319-7a97-421c-93db-b7f7ce29c63f",
   "metadata": {
    "tags": []
   },
   "outputs": [
    {
     "name": "stderr",
     "output_type": "stream",
     "text": [
      "C:\\Users\\deepn\\AppData\\Local\\Temp\\ipykernel_3040\\1866477767.py:2: SettingWithCopyWarning: \n",
      "A value is trying to be set on a copy of a slice from a DataFrame.\n",
      "Try using .loc[row_indexer,col_indexer] = value instead\n",
      "\n",
      "See the caveats in the documentation: https://pandas.pydata.org/pandas-docs/stable/user_guide/indexing.html#returning-a-view-versus-a-copy\n",
      "  X_test_final.loc[:,'IsMinor'] = np.where(filtro_age, 1, 0)\n"
     ]
    }
   ],
   "source": [
    "filtro_age = X_test_final['Age'] <= 16\n",
    "X_test_final.loc[:,'IsMinor'] = np.where(filtro_age, 1, 0)"
   ]
  },
  {
   "cell_type": "code",
   "execution_count": 89,
   "id": "62325f36-fb76-4f99-97cb-689476791449",
   "metadata": {
    "collapsed": true,
    "jupyter": {
     "outputs_hidden": true
    },
    "tags": []
   },
   "outputs": [
    {
     "data": {
      "text/html": [
       "<div>\n",
       "<style scoped>\n",
       "    .dataframe tbody tr th:only-of-type {\n",
       "        vertical-align: middle;\n",
       "    }\n",
       "\n",
       "    .dataframe tbody tr th {\n",
       "        vertical-align: top;\n",
       "    }\n",
       "\n",
       "    .dataframe thead th {\n",
       "        text-align: right;\n",
       "    }\n",
       "</style>\n",
       "<table border=\"1\" class=\"dataframe\">\n",
       "  <thead>\n",
       "    <tr style=\"text-align: right;\">\n",
       "      <th></th>\n",
       "      <th>Age</th>\n",
       "      <th>SibSp</th>\n",
       "      <th>Parch</th>\n",
       "      <th>Sex_male</th>\n",
       "      <th>Pclass_2</th>\n",
       "      <th>Pclass_3</th>\n",
       "      <th>Embarked_Q</th>\n",
       "      <th>Embarked_S</th>\n",
       "      <th>IsMinor</th>\n",
       "    </tr>\n",
       "  </thead>\n",
       "  <tbody>\n",
       "    <tr>\n",
       "      <th>0</th>\n",
       "      <td>34.5</td>\n",
       "      <td>0</td>\n",
       "      <td>0</td>\n",
       "      <td>True</td>\n",
       "      <td>False</td>\n",
       "      <td>True</td>\n",
       "      <td>True</td>\n",
       "      <td>False</td>\n",
       "      <td>0</td>\n",
       "    </tr>\n",
       "    <tr>\n",
       "      <th>1</th>\n",
       "      <td>47.0</td>\n",
       "      <td>1</td>\n",
       "      <td>0</td>\n",
       "      <td>False</td>\n",
       "      <td>False</td>\n",
       "      <td>True</td>\n",
       "      <td>False</td>\n",
       "      <td>True</td>\n",
       "      <td>0</td>\n",
       "    </tr>\n",
       "    <tr>\n",
       "      <th>2</th>\n",
       "      <td>62.0</td>\n",
       "      <td>0</td>\n",
       "      <td>0</td>\n",
       "      <td>True</td>\n",
       "      <td>True</td>\n",
       "      <td>False</td>\n",
       "      <td>True</td>\n",
       "      <td>False</td>\n",
       "      <td>0</td>\n",
       "    </tr>\n",
       "    <tr>\n",
       "      <th>3</th>\n",
       "      <td>27.0</td>\n",
       "      <td>0</td>\n",
       "      <td>0</td>\n",
       "      <td>True</td>\n",
       "      <td>False</td>\n",
       "      <td>True</td>\n",
       "      <td>False</td>\n",
       "      <td>True</td>\n",
       "      <td>0</td>\n",
       "    </tr>\n",
       "    <tr>\n",
       "      <th>4</th>\n",
       "      <td>22.0</td>\n",
       "      <td>1</td>\n",
       "      <td>1</td>\n",
       "      <td>False</td>\n",
       "      <td>False</td>\n",
       "      <td>True</td>\n",
       "      <td>False</td>\n",
       "      <td>True</td>\n",
       "      <td>0</td>\n",
       "    </tr>\n",
       "    <tr>\n",
       "      <th>...</th>\n",
       "      <td>...</td>\n",
       "      <td>...</td>\n",
       "      <td>...</td>\n",
       "      <td>...</td>\n",
       "      <td>...</td>\n",
       "      <td>...</td>\n",
       "      <td>...</td>\n",
       "      <td>...</td>\n",
       "      <td>...</td>\n",
       "    </tr>\n",
       "    <tr>\n",
       "      <th>413</th>\n",
       "      <td>27.0</td>\n",
       "      <td>0</td>\n",
       "      <td>0</td>\n",
       "      <td>True</td>\n",
       "      <td>False</td>\n",
       "      <td>True</td>\n",
       "      <td>False</td>\n",
       "      <td>True</td>\n",
       "      <td>0</td>\n",
       "    </tr>\n",
       "    <tr>\n",
       "      <th>414</th>\n",
       "      <td>39.0</td>\n",
       "      <td>0</td>\n",
       "      <td>0</td>\n",
       "      <td>False</td>\n",
       "      <td>False</td>\n",
       "      <td>False</td>\n",
       "      <td>False</td>\n",
       "      <td>False</td>\n",
       "      <td>0</td>\n",
       "    </tr>\n",
       "    <tr>\n",
       "      <th>415</th>\n",
       "      <td>38.5</td>\n",
       "      <td>0</td>\n",
       "      <td>0</td>\n",
       "      <td>True</td>\n",
       "      <td>False</td>\n",
       "      <td>True</td>\n",
       "      <td>False</td>\n",
       "      <td>True</td>\n",
       "      <td>0</td>\n",
       "    </tr>\n",
       "    <tr>\n",
       "      <th>416</th>\n",
       "      <td>27.0</td>\n",
       "      <td>0</td>\n",
       "      <td>0</td>\n",
       "      <td>True</td>\n",
       "      <td>False</td>\n",
       "      <td>True</td>\n",
       "      <td>False</td>\n",
       "      <td>True</td>\n",
       "      <td>0</td>\n",
       "    </tr>\n",
       "    <tr>\n",
       "      <th>417</th>\n",
       "      <td>27.0</td>\n",
       "      <td>1</td>\n",
       "      <td>1</td>\n",
       "      <td>True</td>\n",
       "      <td>False</td>\n",
       "      <td>True</td>\n",
       "      <td>False</td>\n",
       "      <td>False</td>\n",
       "      <td>0</td>\n",
       "    </tr>\n",
       "  </tbody>\n",
       "</table>\n",
       "<p>418 rows × 9 columns</p>\n",
       "</div>"
      ],
      "text/plain": [
       "      Age  SibSp  Parch  Sex_male  Pclass_2  Pclass_3  Embarked_Q  Embarked_S  \\\n",
       "0    34.5      0      0      True     False      True        True       False   \n",
       "1    47.0      1      0     False     False      True       False        True   \n",
       "2    62.0      0      0      True      True     False        True       False   \n",
       "3    27.0      0      0      True     False      True       False        True   \n",
       "4    22.0      1      1     False     False      True       False        True   \n",
       "..    ...    ...    ...       ...       ...       ...         ...         ...   \n",
       "413  27.0      0      0      True     False      True       False        True   \n",
       "414  39.0      0      0     False     False     False       False       False   \n",
       "415  38.5      0      0      True     False      True       False        True   \n",
       "416  27.0      0      0      True     False      True       False        True   \n",
       "417  27.0      1      1      True     False      True       False       False   \n",
       "\n",
       "     IsMinor  \n",
       "0          0  \n",
       "1          0  \n",
       "2          0  \n",
       "3          0  \n",
       "4          0  \n",
       "..       ...  \n",
       "413        0  \n",
       "414        0  \n",
       "415        0  \n",
       "416        0  \n",
       "417        0  \n",
       "\n",
       "[418 rows x 9 columns]"
      ]
     },
     "execution_count": 89,
     "metadata": {},
     "output_type": "execute_result"
    }
   ],
   "source": [
    "X_test_final"
   ]
  },
  {
   "cell_type": "markdown",
   "id": "cf42e214-90db-4a7d-8de3-fdbb6225c316",
   "metadata": {},
   "source": [
    "8. Ajustar modelo considerando todas las variables del dataset de testing."
   ]
  },
  {
   "cell_type": "code",
   "execution_count": null,
   "id": "a3107511-5e79-4238-8762-21caebb6ad10",
   "metadata": {},
   "outputs": [],
   "source": [
    "# Ajustamos con train el modelo"
   ]
  },
  {
   "cell_type": "code",
   "execution_count": 91,
   "id": "3d768251-2539-4e1f-bd58-503ffe3377f5",
   "metadata": {
    "tags": []
   },
   "outputs": [
    {
     "data": {
      "text/html": [
       "<style>#sk-container-id-3 {color: black;background-color: white;}#sk-container-id-3 pre{padding: 0;}#sk-container-id-3 div.sk-toggleable {background-color: white;}#sk-container-id-3 label.sk-toggleable__label {cursor: pointer;display: block;width: 100%;margin-bottom: 0;padding: 0.3em;box-sizing: border-box;text-align: center;}#sk-container-id-3 label.sk-toggleable__label-arrow:before {content: \"▸\";float: left;margin-right: 0.25em;color: #696969;}#sk-container-id-3 label.sk-toggleable__label-arrow:hover:before {color: black;}#sk-container-id-3 div.sk-estimator:hover label.sk-toggleable__label-arrow:before {color: black;}#sk-container-id-3 div.sk-toggleable__content {max-height: 0;max-width: 0;overflow: hidden;text-align: left;background-color: #f0f8ff;}#sk-container-id-3 div.sk-toggleable__content pre {margin: 0.2em;color: black;border-radius: 0.25em;background-color: #f0f8ff;}#sk-container-id-3 input.sk-toggleable__control:checked~div.sk-toggleable__content {max-height: 200px;max-width: 100%;overflow: auto;}#sk-container-id-3 input.sk-toggleable__control:checked~label.sk-toggleable__label-arrow:before {content: \"▾\";}#sk-container-id-3 div.sk-estimator input.sk-toggleable__control:checked~label.sk-toggleable__label {background-color: #d4ebff;}#sk-container-id-3 div.sk-label input.sk-toggleable__control:checked~label.sk-toggleable__label {background-color: #d4ebff;}#sk-container-id-3 input.sk-hidden--visually {border: 0;clip: rect(1px 1px 1px 1px);clip: rect(1px, 1px, 1px, 1px);height: 1px;margin: -1px;overflow: hidden;padding: 0;position: absolute;width: 1px;}#sk-container-id-3 div.sk-estimator {font-family: monospace;background-color: #f0f8ff;border: 1px dotted black;border-radius: 0.25em;box-sizing: border-box;margin-bottom: 0.5em;}#sk-container-id-3 div.sk-estimator:hover {background-color: #d4ebff;}#sk-container-id-3 div.sk-parallel-item::after {content: \"\";width: 100%;border-bottom: 1px solid gray;flex-grow: 1;}#sk-container-id-3 div.sk-label:hover label.sk-toggleable__label {background-color: #d4ebff;}#sk-container-id-3 div.sk-serial::before {content: \"\";position: absolute;border-left: 1px solid gray;box-sizing: border-box;top: 0;bottom: 0;left: 50%;z-index: 0;}#sk-container-id-3 div.sk-serial {display: flex;flex-direction: column;align-items: center;background-color: white;padding-right: 0.2em;padding-left: 0.2em;position: relative;}#sk-container-id-3 div.sk-item {position: relative;z-index: 1;}#sk-container-id-3 div.sk-parallel {display: flex;align-items: stretch;justify-content: center;background-color: white;position: relative;}#sk-container-id-3 div.sk-item::before, #sk-container-id-3 div.sk-parallel-item::before {content: \"\";position: absolute;border-left: 1px solid gray;box-sizing: border-box;top: 0;bottom: 0;left: 50%;z-index: -1;}#sk-container-id-3 div.sk-parallel-item {display: flex;flex-direction: column;z-index: 1;position: relative;background-color: white;}#sk-container-id-3 div.sk-parallel-item:first-child::after {align-self: flex-end;width: 50%;}#sk-container-id-3 div.sk-parallel-item:last-child::after {align-self: flex-start;width: 50%;}#sk-container-id-3 div.sk-parallel-item:only-child::after {width: 0;}#sk-container-id-3 div.sk-dashed-wrapped {border: 1px dashed gray;margin: 0 0.4em 0.5em 0.4em;box-sizing: border-box;padding-bottom: 0.4em;background-color: white;}#sk-container-id-3 div.sk-label label {font-family: monospace;font-weight: bold;display: inline-block;line-height: 1.2em;}#sk-container-id-3 div.sk-label-container {text-align: center;}#sk-container-id-3 div.sk-container {/* jupyter's `normalize.less` sets `[hidden] { display: none; }` but bootstrap.min.css set `[hidden] { display: none !important; }` so we also need the `!important` here to be able to override the default hidden behavior on the sphinx rendered scikit-learn.org. See: https://github.com/scikit-learn/scikit-learn/issues/21755 */display: inline-block !important;position: relative;}#sk-container-id-3 div.sk-text-repr-fallback {display: none;}</style><div id=\"sk-container-id-3\" class=\"sk-top-container\"><div class=\"sk-text-repr-fallback\"><pre>LogisticRegression(max_iter=1000000)</pre><b>In a Jupyter environment, please rerun this cell to show the HTML representation or trust the notebook. <br />On GitHub, the HTML representation is unable to render, please try loading this page with nbviewer.org.</b></div><div class=\"sk-container\" hidden><div class=\"sk-item\"><div class=\"sk-estimator sk-toggleable\"><input class=\"sk-toggleable__control sk-hidden--visually\" id=\"sk-estimator-id-7\" type=\"checkbox\" checked><label for=\"sk-estimator-id-7\" class=\"sk-toggleable__label sk-toggleable__label-arrow\">LogisticRegression</label><div class=\"sk-toggleable__content\"><pre>LogisticRegression(max_iter=1000000)</pre></div></div></div></div></div>"
      ],
      "text/plain": [
       "LogisticRegression(max_iter=1000000)"
      ]
     },
     "execution_count": 91,
     "metadata": {},
     "output_type": "execute_result"
    }
   ],
   "source": [
    "modelo = LogisticRegression(max_iter = 1000000)\n",
    "modelo.fit(X_train_final, y_train)"
   ]
  },
  {
   "cell_type": "markdown",
   "id": "a9dba403-7294-47b1-bf56-44f23da9491f",
   "metadata": {},
   "source": [
    "9. Validar el modelo con datos de testing, agregar dos columnas a test_data:\n",
    "    * predicción: valor 0 o 1\n",
    "    * probabilidad_prediccion: valor de la probabilidad devuelta por el modelo"
   ]
  },
  {
   "cell_type": "code",
   "execution_count": 93,
   "id": "562b38e1-da8e-43d2-b822-ce681460d387",
   "metadata": {},
   "outputs": [],
   "source": [
    "y_prediction = modelo.predict(X_test_final)"
   ]
  },
  {
   "cell_type": "code",
   "execution_count": 95,
   "id": "4302073b-7168-435b-a312-7060551089be",
   "metadata": {
    "collapsed": true,
    "jupyter": {
     "outputs_hidden": true
    },
    "tags": []
   },
   "outputs": [
    {
     "data": {
      "text/plain": [
       "array([0, 0, 0, 0, 1, 0, 1, 0, 1, 0, 0, 0, 1, 0, 1, 1, 0, 0, 0, 1, 0, 0,\n",
       "       1, 1, 1, 0, 1, 0, 0, 0, 0, 0, 0, 0, 0, 0, 1, 1, 0, 0, 0, 0, 0, 1,\n",
       "       1, 0, 0, 0, 1, 0, 0, 0, 1, 1, 0, 0, 0, 0, 0, 1, 0, 0, 0, 1, 1, 1,\n",
       "       1, 0, 1, 1, 1, 0, 1, 1, 1, 1, 0, 1, 0, 1, 0, 0, 0, 0, 0, 0, 1, 1,\n",
       "       1, 1, 1, 0, 1, 0, 1, 0, 1, 0, 1, 0, 1, 0, 0, 0, 1, 0, 0, 0, 0, 0,\n",
       "       0, 1, 1, 1, 1, 0, 0, 1, 1, 1, 1, 0, 1, 0, 0, 1, 0, 1, 0, 0, 0, 0,\n",
       "       0, 0, 0, 0, 0, 0, 1, 0, 0, 1, 0, 0, 0, 0, 0, 0, 0, 0, 1, 0, 0, 0,\n",
       "       0, 0, 1, 1, 0, 1, 1, 0, 1, 0, 0, 0, 0, 0, 1, 1, 0, 0, 0, 0, 0, 1,\n",
       "       1, 0, 1, 1, 0, 0, 1, 0, 1, 0, 1, 0, 0, 0, 0, 0, 0, 0, 1, 0, 1, 1,\n",
       "       0, 1, 1, 0, 0, 1, 0, 1, 1, 0, 1, 0, 0, 0, 0, 1, 0, 0, 1, 0, 1, 0,\n",
       "       1, 0, 1, 0, 1, 1, 0, 1, 0, 0, 1, 1, 0, 0, 0, 0, 0, 0, 1, 1, 1, 1,\n",
       "       0, 0, 0, 0, 1, 0, 1, 1, 1, 0, 0, 0, 0, 0, 0, 0, 1, 0, 0, 0, 1, 1,\n",
       "       0, 0, 0, 0, 1, 0, 0, 0, 1, 1, 0, 1, 0, 0, 0, 0, 1, 0, 1, 1, 1, 0,\n",
       "       0, 0, 0, 0, 0, 1, 0, 0, 0, 0, 1, 0, 0, 0, 0, 0, 0, 0, 1, 1, 0, 0,\n",
       "       0, 0, 0, 0, 0, 1, 1, 1, 0, 0, 0, 0, 0, 0, 0, 0, 1, 0, 1, 0, 0, 0,\n",
       "       1, 0, 0, 1, 0, 0, 0, 0, 0, 0, 0, 0, 0, 1, 0, 1, 0, 1, 0, 1, 1, 0,\n",
       "       0, 0, 1, 0, 1, 0, 0, 0, 0, 1, 1, 0, 1, 0, 0, 1, 1, 0, 0, 1, 0, 0,\n",
       "       1, 1, 0, 0, 0, 0, 0, 0, 1, 1, 0, 1, 0, 0, 0, 0, 0, 1, 0, 0, 0, 1,\n",
       "       0, 1, 0, 0, 1, 0, 1, 1, 0, 0, 0, 0, 1, 1, 1, 1, 1, 0, 1, 0, 0, 0],\n",
       "      dtype=int64)"
      ]
     },
     "execution_count": 95,
     "metadata": {},
     "output_type": "execute_result"
    }
   ],
   "source": [
    "y_prediction"
   ]
  },
  {
   "cell_type": "code",
   "execution_count": 125,
   "id": "40fc46d5-855c-4445-95e9-dd9dd290c7ea",
   "metadata": {
    "collapsed": true,
    "jupyter": {
     "outputs_hidden": true
    },
    "tags": []
   },
   "outputs": [
    {
     "data": {
      "text/plain": [
       "array([[0.8851719 , 0.1148281 ],\n",
       "       [0.61839901, 0.38160099],\n",
       "       [0.8146213 , 0.1853787 ],\n",
       "       [0.90652348, 0.09347652],\n",
       "       [0.49954968, 0.50045032],\n",
       "       [0.73696225, 0.26303775],\n",
       "       [0.33545944, 0.66454056],\n",
       "       [0.81705474, 0.18294526],\n",
       "       [0.26355115, 0.73644885],\n",
       "       [0.94469863, 0.05530137],\n",
       "       [0.90652348, 0.09347652],\n",
       "       [0.65781034, 0.34218966],\n",
       "       [0.10360796, 0.89639204],\n",
       "       [0.90605024, 0.09394976],\n",
       "       [0.16977088, 0.83022912],\n",
       "       [0.14851397, 0.85148603],\n",
       "       [0.69814854, 0.30185146],\n",
       "       [0.84059893, 0.15940107],\n",
       "       [0.50183296, 0.49816704],\n",
       "       [0.40473683, 0.59526317],\n",
       "       [0.68033259, 0.31966741],\n",
       "       [0.73518797, 0.26481203],\n",
       "       [0.08188001, 0.91811999],\n",
       "       [0.42614535, 0.57385465],\n",
       "       [0.15434806, 0.84565194],\n",
       "       [0.9598071 , 0.0401929 ],\n",
       "       [0.05251094, 0.94748906],\n",
       "       [0.84531887, 0.15468113],\n",
       "       [0.63057745, 0.36942255],\n",
       "       [0.92512499, 0.07487501],\n",
       "       [0.87624126, 0.12375874],\n",
       "       [0.84470327, 0.15529673],\n",
       "       [0.59131563, 0.40868437],\n",
       "       [0.55645297, 0.44354703],\n",
       "       [0.54016764, 0.45983236],\n",
       "       [0.83247392, 0.16752608],\n",
       "       [0.41409485, 0.58590515],\n",
       "       [0.3799664 , 0.6200336 ],\n",
       "       [0.90241617, 0.09758383],\n",
       "       [0.90652348, 0.09347652],\n",
       "       [0.90027631, 0.09972369],\n",
       "       [0.55030333, 0.44969667],\n",
       "       [0.93116378, 0.06883622],\n",
       "       [0.18369919, 0.81630081],\n",
       "       [0.16317461, 0.83682539],\n",
       "       [0.90241617, 0.09758383],\n",
       "       [0.54070786, 0.45929214],\n",
       "       [0.86576955, 0.13423045],\n",
       "       [0.10917392, 0.89082608],\n",
       "       [0.5215681 , 0.4784319 ],\n",
       "       [0.61892246, 0.38107754],\n",
       "       [0.64326985, 0.35673015],\n",
       "       [0.28685997, 0.71314003],\n",
       "       [0.24774588, 0.75225412],\n",
       "       [0.64326985, 0.35673015],\n",
       "       [0.88641264, 0.11358736],\n",
       "       [0.92144016, 0.07855984],\n",
       "       [0.90241617, 0.09758383],\n",
       "       [0.93253523, 0.06746477],\n",
       "       [0.064784  , 0.935216  ],\n",
       "       [0.88434068, 0.11565932],\n",
       "       [0.76405279, 0.23594721],\n",
       "       [0.88674994, 0.11325006],\n",
       "       [0.29447139, 0.70552861],\n",
       "       [0.35391059, 0.64608941],\n",
       "       [0.17324561, 0.82675439],\n",
       "       [0.27510963, 0.72489037],\n",
       "       [0.66314092, 0.33685908],\n",
       "       [0.45769988, 0.54230012],\n",
       "       [0.30167574, 0.69832426],\n",
       "       [0.30444433, 0.69555567],\n",
       "       [0.89371651, 0.10628349],\n",
       "       [0.42567477, 0.57432523],\n",
       "       [0.44299045, 0.55700955],\n",
       "       [0.06335858, 0.93664142],\n",
       "       [0.46656276, 0.53343724],\n",
       "       [0.90652348, 0.09347652],\n",
       "       [0.26063195, 0.73936805],\n",
       "       [0.75537468, 0.24462532],\n",
       "       [0.30444433, 0.69555567],\n",
       "       [0.69795934, 0.30204066],\n",
       "       [0.81863757, 0.18136243],\n",
       "       [0.67367753, 0.32632247],\n",
       "       [0.90652348, 0.09347652],\n",
       "       [0.65663318, 0.34336682],\n",
       "       [0.89657302, 0.10342698],\n",
       "       [0.31975263, 0.68024737],\n",
       "       [0.363315  , 0.636685  ],\n",
       "       [0.31975263, 0.68024737],\n",
       "       [0.49834175, 0.50165825],\n",
       "       [0.47214768, 0.52785232],\n",
       "       [0.90652348, 0.09347652],\n",
       "       [0.13666956, 0.86333044],\n",
       "       [0.90652348, 0.09347652],\n",
       "       [0.42256958, 0.57743042],\n",
       "       [0.90241617, 0.09758383],\n",
       "       [0.28948563, 0.71051437],\n",
       "       [0.91047506, 0.08952494],\n",
       "       [0.37438227, 0.62561773],\n",
       "       [0.91792895, 0.08207105],\n",
       "       [0.10443174, 0.89556826],\n",
       "       [0.80385535, 0.19614465],\n",
       "       [0.86576955, 0.13423045],\n",
       "       [0.90448957, 0.09551043],\n",
       "       [0.17600427, 0.82399573],\n",
       "       [0.90851846, 0.09148154],\n",
       "       [0.84831329, 0.15168671],\n",
       "       [0.86576955, 0.13423045],\n",
       "       [0.90652348, 0.09347652],\n",
       "       [0.70142984, 0.29857016],\n",
       "       [0.71552746, 0.28447254],\n",
       "       [0.31975263, 0.68024737],\n",
       "       [0.064784  , 0.935216  ],\n",
       "       [0.27748624, 0.72251376],\n",
       "       [0.23024811, 0.76975189],\n",
       "       [0.87498489, 0.12501511],\n",
       "       [0.8587952 , 0.1412048 ],\n",
       "       [0.19253225, 0.80746775],\n",
       "       [0.48731541, 0.51268459],\n",
       "       [0.23851107, 0.76148893],\n",
       "       [0.05457764, 0.94542236],\n",
       "       [0.90189462, 0.09810538],\n",
       "       [0.08793644, 0.91206356],\n",
       "       [0.90851846, 0.09148154],\n",
       "       [0.86576955, 0.13423045],\n",
       "       [0.38342105, 0.61657895],\n",
       "       [0.89595345, 0.10404655],\n",
       "       [0.48847221, 0.51152779],\n",
       "       [0.80419808, 0.19580192],\n",
       "       [0.90030272, 0.09969728],\n",
       "       [0.91612024, 0.08387976],\n",
       "       [0.58743292, 0.41256708],\n",
       "       [0.52294163, 0.47705837],\n",
       "       [0.89657302, 0.10342698],\n",
       "       [0.9341494 , 0.0658506 ],\n",
       "       [0.90030272, 0.09969728],\n",
       "       [0.85734772, 0.14265228],\n",
       "       [0.73738109, 0.26261891],\n",
       "       [0.39122922, 0.60877078],\n",
       "       [0.97323862, 0.02676138],\n",
       "       [0.57630056, 0.42369944],\n",
       "       [0.09326162, 0.90673838],\n",
       "       [0.77331044, 0.22668956],\n",
       "       [0.74648329, 0.25351671],\n",
       "       [0.63609758, 0.36390242],\n",
       "       [0.96863442, 0.03136558],\n",
       "       [0.55030333, 0.44969667],\n",
       "       [0.89595345, 0.10404655],\n",
       "       [0.55030333, 0.44969667],\n",
       "       [0.83084171, 0.16915829],\n",
       "       [0.05370631, 0.94629369],\n",
       "       [0.8587952 , 0.1412048 ],\n",
       "       [0.95556376, 0.04443624],\n",
       "       [0.5215681 , 0.4784319 ],\n",
       "       [0.93360885, 0.06639115],\n",
       "       [0.90030272, 0.09969728],\n",
       "       [0.08552585, 0.91447415],\n",
       "       [0.39122922, 0.60877078],\n",
       "       [0.63609758, 0.36390242],\n",
       "       [0.4622253 , 0.5377747 ],\n",
       "       [0.31975263, 0.68024737],\n",
       "       [0.70294692, 0.29705308],\n",
       "       [0.16986721, 0.83013279],\n",
       "       [0.90652348, 0.09347652],\n",
       "       [0.80042788, 0.19957212],\n",
       "       [0.52330411, 0.47669589],\n",
       "       [0.55835946, 0.44164054],\n",
       "       [0.95194684, 0.04805316],\n",
       "       [0.05296721, 0.94703279],\n",
       "       [0.3855825 , 0.6144175 ],\n",
       "       [0.90652348, 0.09347652],\n",
       "       [0.8587952 , 0.1412048 ],\n",
       "       [0.92630142, 0.07369858],\n",
       "       [0.8587952 , 0.1412048 ],\n",
       "       [0.97022752, 0.02977248],\n",
       "       [0.07167455, 0.92832545],\n",
       "       [0.15069037, 0.84930963],\n",
       "       [0.67514079, 0.32485921],\n",
       "       [0.26508876, 0.73491124],\n",
       "       [0.14372686, 0.85627314],\n",
       "       [0.75537468, 0.24462532],\n",
       "       [0.60757741, 0.39242259],\n",
       "       [0.09307785, 0.90692215],\n",
       "       [0.86576955, 0.13423045],\n",
       "       [0.08169457, 0.91830543],\n",
       "       [0.79660344, 0.20339656],\n",
       "       [0.1685832 , 0.8314168 ],\n",
       "       [0.93951583, 0.06048417],\n",
       "       [0.93747022, 0.06252978],\n",
       "       [0.79660344, 0.20339656],\n",
       "       [0.82877443, 0.17122557],\n",
       "       [0.55030333, 0.44969667],\n",
       "       [0.80766815, 0.19233185],\n",
       "       [0.81100463, 0.18899537],\n",
       "       [0.47285762, 0.52714238],\n",
       "       [0.91792895, 0.08207105],\n",
       "       [0.18586851, 0.81413149],\n",
       "       [0.363315  , 0.636685  ],\n",
       "       [0.72333937, 0.27666063],\n",
       "       [0.41409485, 0.58590515],\n",
       "       [0.31975263, 0.68024737],\n",
       "       [0.71600531, 0.28399469],\n",
       "       [0.63763871, 0.36236129],\n",
       "       [0.07706038, 0.92293962],\n",
       "       [0.73275186, 0.26724814],\n",
       "       [0.43421087, 0.56578913],\n",
       "       [0.36245183, 0.63754817],\n",
       "       [0.72807113, 0.27192887],\n",
       "       [0.06059509, 0.93940491],\n",
       "       [0.90241617, 0.09758383],\n",
       "       [0.91612024, 0.08387976],\n",
       "       [0.90652348, 0.09347652],\n",
       "       [0.69390912, 0.30609088],\n",
       "       [0.39557221, 0.60442779],\n",
       "       [0.82512272, 0.17487728],\n",
       "       [0.63609758, 0.36390242],\n",
       "       [0.31975263, 0.68024737],\n",
       "       [0.79885514, 0.20114486],\n",
       "       [0.13321784, 0.86678216],\n",
       "       [0.90652348, 0.09347652],\n",
       "       [0.16746845, 0.83253155],\n",
       "       [0.89371651, 0.10628349],\n",
       "       [0.15687658, 0.84312342],\n",
       "       [0.89371651, 0.10628349],\n",
       "       [0.09401178, 0.90598822],\n",
       "       [0.35567097, 0.64432903],\n",
       "       [0.89814866, 0.10185134],\n",
       "       [0.31975263, 0.68024737],\n",
       "       [0.93039803, 0.06960197],\n",
       "       [0.78076228, 0.21923772],\n",
       "       [0.45375868, 0.54624132],\n",
       "       [0.07177745, 0.92822255],\n",
       "       [0.92298931, 0.07701069],\n",
       "       [0.86576955, 0.13423045],\n",
       "       [0.59265682, 0.40734318],\n",
       "       [0.89143732, 0.10856268],\n",
       "       [0.7249685 , 0.2750315 ],\n",
       "       [0.83738791, 0.16261209],\n",
       "       [0.21204858, 0.78795142],\n",
       "       [0.11608193, 0.88391807],\n",
       "       [0.09814006, 0.90185994],\n",
       "       [0.28588252, 0.71411748],\n",
       "       [0.65187947, 0.34812053],\n",
       "       [0.90652348, 0.09347652],\n",
       "       [0.94509849, 0.05490151],\n",
       "       [0.70870227, 0.29129773],\n",
       "       [0.15687658, 0.84312342],\n",
       "       [0.86725008, 0.13274992],\n",
       "       [0.23851107, 0.76148893],\n",
       "       [0.38716242, 0.61283758],\n",
       "       [0.07299608, 0.92700392],\n",
       "       [0.89143732, 0.10856268],\n",
       "       [0.52241087, 0.47758913],\n",
       "       [0.90030272, 0.09969728],\n",
       "       [0.91702908, 0.08297092],\n",
       "       [0.90652348, 0.09347652],\n",
       "       [0.86576955, 0.13423045],\n",
       "       [0.90851846, 0.09148154],\n",
       "       [0.14767325, 0.85232675],\n",
       "       [0.89371651, 0.10628349],\n",
       "       [0.94542863, 0.05457137],\n",
       "       [0.89371651, 0.10628349],\n",
       "       [0.21487141, 0.78512859],\n",
       "       [0.19253225, 0.80746775],\n",
       "       [0.65946223, 0.34053777],\n",
       "       [0.90652348, 0.09347652],\n",
       "       [0.55030333, 0.44969667],\n",
       "       [0.90652348, 0.09347652],\n",
       "       [0.41409485, 0.58590515],\n",
       "       [0.88434068, 0.11565932],\n",
       "       [0.54660532, 0.45339468],\n",
       "       [0.86576955, 0.13423045],\n",
       "       [0.0722227 , 0.9277773 ],\n",
       "       [0.40118883, 0.59881117],\n",
       "       [0.8587952 , 0.1412048 ],\n",
       "       [0.20184514, 0.79815486],\n",
       "       [0.74648329, 0.25351671],\n",
       "       [0.84807656, 0.15192344],\n",
       "       [0.81485651, 0.18514349],\n",
       "       [0.7185571 , 0.2814429 ],\n",
       "       [0.39122922, 0.60877078],\n",
       "       [0.76483762, 0.23516238],\n",
       "       [0.31975263, 0.68024737],\n",
       "       [0.15315641, 0.84684359],\n",
       "       [0.19625486, 0.80374514],\n",
       "       [0.92314378, 0.07685622],\n",
       "       [0.90652348, 0.09347652],\n",
       "       [0.61892246, 0.38107754],\n",
       "       [0.8587952 , 0.1412048 ],\n",
       "       [0.90652348, 0.09347652],\n",
       "       [0.55030333, 0.44969667],\n",
       "       [0.33545944, 0.66454056],\n",
       "       [0.8587952 , 0.1412048 ],\n",
       "       [0.78314162, 0.21685838],\n",
       "       [0.92314378, 0.07685622],\n",
       "       [0.90448957, 0.09551043],\n",
       "       [0.04714486, 0.95285514],\n",
       "       [0.92512499, 0.07487501],\n",
       "       [0.56788086, 0.43211914],\n",
       "       [0.91047506, 0.08952494],\n",
       "       [0.91612024, 0.08387976],\n",
       "       [0.64326985, 0.35673015],\n",
       "       [0.82436955, 0.17563045],\n",
       "       [0.90030272, 0.09969728],\n",
       "       [0.31975263, 0.68024737],\n",
       "       [0.25475401, 0.74524599],\n",
       "       [0.69994837, 0.30005163],\n",
       "       [0.69569783, 0.30430217],\n",
       "       [0.7911071 , 0.2088929 ],\n",
       "       [0.60711844, 0.39288156],\n",
       "       [0.88674994, 0.11325006],\n",
       "       [0.84375838, 0.15624162],\n",
       "       [0.90652348, 0.09347652],\n",
       "       [0.37350823, 0.62649177],\n",
       "       [0.09814006, 0.90185994],\n",
       "       [0.27039448, 0.72960552],\n",
       "       [0.69058237, 0.30941763],\n",
       "       [0.70391303, 0.29608697],\n",
       "       [0.90652348, 0.09347652],\n",
       "       [0.83836395, 0.16163605],\n",
       "       [0.90448957, 0.09551043],\n",
       "       [0.85293096, 0.14706904],\n",
       "       [0.73738109, 0.26261891],\n",
       "       [0.58528911, 0.41471089],\n",
       "       [0.10604259, 0.89395741],\n",
       "       [0.89814866, 0.10185134],\n",
       "       [0.11573082, 0.88426918],\n",
       "       [0.54660532, 0.45339468],\n",
       "       [0.81124337, 0.18875663],\n",
       "       [0.71372488, 0.28627512],\n",
       "       [0.30066093, 0.69933907],\n",
       "       [0.505141  , 0.494859  ],\n",
       "       [0.8587952 , 0.1412048 ],\n",
       "       [0.36825673, 0.63174327],\n",
       "       [0.90652348, 0.09347652],\n",
       "       [0.56788086, 0.43211914],\n",
       "       [0.76405279, 0.23594721],\n",
       "       [0.90970366, 0.09029634],\n",
       "       [0.73275186, 0.26724814],\n",
       "       [0.8587952 , 0.1412048 ],\n",
       "       [0.69893473, 0.30106527],\n",
       "       [0.91612024, 0.08387976],\n",
       "       [0.97375828, 0.02624172],\n",
       "       [0.11536989, 0.88463011],\n",
       "       [0.93911922, 0.06088078],\n",
       "       [0.17636267, 0.82363733],\n",
       "       [0.73738109, 0.26261891],\n",
       "       [0.36536207, 0.63463793],\n",
       "       [0.72807113, 0.27192887],\n",
       "       [0.18729062, 0.81270938],\n",
       "       [0.08737998, 0.91262002],\n",
       "       [0.73275186, 0.26724814],\n",
       "       [0.69893473, 0.30106527],\n",
       "       [0.8959472 , 0.1040528 ],\n",
       "       [0.20691109, 0.79308891],\n",
       "       [0.67888159, 0.32111841],\n",
       "       [0.27936748, 0.72063252],\n",
       "       [0.90652348, 0.09347652],\n",
       "       [0.86576955, 0.13423045],\n",
       "       [0.51965133, 0.48034867],\n",
       "       [0.98364497, 0.01635503],\n",
       "       [0.16293088, 0.83706912],\n",
       "       [0.18729062, 0.81270938],\n",
       "       [0.90652348, 0.09347652],\n",
       "       [0.07064598, 0.92935402],\n",
       "       [0.73004347, 0.26995653],\n",
       "       [0.89657302, 0.10342698],\n",
       "       [0.3855825 , 0.6144175 ],\n",
       "       [0.08737998, 0.91262002],\n",
       "       [0.6541038 , 0.3458962 ],\n",
       "       [0.78038973, 0.21961027],\n",
       "       [0.05794467, 0.94205533],\n",
       "       [0.67367753, 0.32632247],\n",
       "       [0.81157622, 0.18842378],\n",
       "       [0.21229795, 0.78770205],\n",
       "       [0.07901712, 0.92098288],\n",
       "       [0.5604208 , 0.4395792 ],\n",
       "       [0.71372488, 0.28627512],\n",
       "       [0.70422387, 0.29577613],\n",
       "       [0.92080413, 0.07919587],\n",
       "       [0.86576955, 0.13423045],\n",
       "       [0.86298293, 0.13701707],\n",
       "       [0.41409485, 0.58590515],\n",
       "       [0.45441723, 0.54558277],\n",
       "       [0.74195837, 0.25804163],\n",
       "       [0.25725793, 0.74274207],\n",
       "       [0.90030272, 0.09969728],\n",
       "       [0.85437208, 0.14562792],\n",
       "       [0.84831329, 0.15168671],\n",
       "       [0.88215278, 0.11784722],\n",
       "       [0.5266774 , 0.4733226 ],\n",
       "       [0.14971502, 0.85028498],\n",
       "       [0.77310276, 0.22689724],\n",
       "       [0.8222401 , 0.1777599 ],\n",
       "       [0.97046952, 0.02953048],\n",
       "       [0.09307785, 0.90692215],\n",
       "       [0.8572637 , 0.1427363 ],\n",
       "       [0.12782314, 0.87217686],\n",
       "       [0.89595345, 0.10404655],\n",
       "       [0.8764405 , 0.1235595 ],\n",
       "       [0.08740344, 0.91259656],\n",
       "       [0.84184915, 0.15815085],\n",
       "       [0.05251094, 0.94748906],\n",
       "       [0.49104673, 0.50895327],\n",
       "       [0.61539435, 0.38460565],\n",
       "       [0.60424524, 0.39575476],\n",
       "       [0.78842899, 0.21157101],\n",
       "       [0.67834305, 0.32165695],\n",
       "       [0.31975263, 0.68024737],\n",
       "       [0.20003162, 0.79996838],\n",
       "       [0.31975263, 0.68024737],\n",
       "       [0.09684249, 0.90315751],\n",
       "       [0.41987378, 0.58012622],\n",
       "       [0.90652348, 0.09347652],\n",
       "       [0.06924115, 0.93075885],\n",
       "       [0.92725557, 0.07274443],\n",
       "       [0.90652348, 0.09347652],\n",
       "       [0.90631403, 0.09368597]])"
      ]
     },
     "execution_count": 125,
     "metadata": {},
     "output_type": "execute_result"
    }
   ],
   "source": [
    "# calculas la probabilidad de que cada elemento sea 0(no) o 1(si) \n",
    "\n",
    "y_prediction_proba = modelo.predict_proba(X_test_final)\n",
    "y_prediction_proba"
   ]
  },
  {
   "cell_type": "code",
   "execution_count": 129,
   "id": "43ac5905-a9c9-4f6e-87c2-2fc52f463422",
   "metadata": {
    "collapsed": true,
    "jupyter": {
     "outputs_hidden": true
    },
    "tags": []
   },
   "outputs": [
    {
     "data": {
      "text/plain": [
       "array([0.1148281 , 0.38160099, 0.1853787 , 0.09347652, 0.50045032,\n",
       "       0.26303775, 0.66454056, 0.18294526, 0.73644885, 0.05530137,\n",
       "       0.09347652, 0.34218966, 0.89639204, 0.09394976, 0.83022912,\n",
       "       0.85148603, 0.30185146, 0.15940107, 0.49816704, 0.59526317,\n",
       "       0.31966741, 0.26481203, 0.91811999, 0.57385465, 0.84565194,\n",
       "       0.0401929 , 0.94748906, 0.15468113, 0.36942255, 0.07487501,\n",
       "       0.12375874, 0.15529673, 0.40868437, 0.44354703, 0.45983236,\n",
       "       0.16752608, 0.58590515, 0.6200336 , 0.09758383, 0.09347652,\n",
       "       0.09972369, 0.44969667, 0.06883622, 0.81630081, 0.83682539,\n",
       "       0.09758383, 0.45929214, 0.13423045, 0.89082608, 0.4784319 ,\n",
       "       0.38107754, 0.35673015, 0.71314003, 0.75225412, 0.35673015,\n",
       "       0.11358736, 0.07855984, 0.09758383, 0.06746477, 0.935216  ,\n",
       "       0.11565932, 0.23594721, 0.11325006, 0.70552861, 0.64608941,\n",
       "       0.82675439, 0.72489037, 0.33685908, 0.54230012, 0.69832426,\n",
       "       0.69555567, 0.10628349, 0.57432523, 0.55700955, 0.93664142,\n",
       "       0.53343724, 0.09347652, 0.73936805, 0.24462532, 0.69555567,\n",
       "       0.30204066, 0.18136243, 0.32632247, 0.09347652, 0.34336682,\n",
       "       0.10342698, 0.68024737, 0.636685  , 0.68024737, 0.50165825,\n",
       "       0.52785232, 0.09347652, 0.86333044, 0.09347652, 0.57743042,\n",
       "       0.09758383, 0.71051437, 0.08952494, 0.62561773, 0.08207105,\n",
       "       0.89556826, 0.19614465, 0.13423045, 0.09551043, 0.82399573,\n",
       "       0.09148154, 0.15168671, 0.13423045, 0.09347652, 0.29857016,\n",
       "       0.28447254, 0.68024737, 0.935216  , 0.72251376, 0.76975189,\n",
       "       0.12501511, 0.1412048 , 0.80746775, 0.51268459, 0.76148893,\n",
       "       0.94542236, 0.09810538, 0.91206356, 0.09148154, 0.13423045,\n",
       "       0.61657895, 0.10404655, 0.51152779, 0.19580192, 0.09969728,\n",
       "       0.08387976, 0.41256708, 0.47705837, 0.10342698, 0.0658506 ,\n",
       "       0.09969728, 0.14265228, 0.26261891, 0.60877078, 0.02676138,\n",
       "       0.42369944, 0.90673838, 0.22668956, 0.25351671, 0.36390242,\n",
       "       0.03136558, 0.44969667, 0.10404655, 0.44969667, 0.16915829,\n",
       "       0.94629369, 0.1412048 , 0.04443624, 0.4784319 , 0.06639115,\n",
       "       0.09969728, 0.91447415, 0.60877078, 0.36390242, 0.5377747 ,\n",
       "       0.68024737, 0.29705308, 0.83013279, 0.09347652, 0.19957212,\n",
       "       0.47669589, 0.44164054, 0.04805316, 0.94703279, 0.6144175 ,\n",
       "       0.09347652, 0.1412048 , 0.07369858, 0.1412048 , 0.02977248,\n",
       "       0.92832545, 0.84930963, 0.32485921, 0.73491124, 0.85627314,\n",
       "       0.24462532, 0.39242259, 0.90692215, 0.13423045, 0.91830543,\n",
       "       0.20339656, 0.8314168 , 0.06048417, 0.06252978, 0.20339656,\n",
       "       0.17122557, 0.44969667, 0.19233185, 0.18899537, 0.52714238,\n",
       "       0.08207105, 0.81413149, 0.636685  , 0.27666063, 0.58590515,\n",
       "       0.68024737, 0.28399469, 0.36236129, 0.92293962, 0.26724814,\n",
       "       0.56578913, 0.63754817, 0.27192887, 0.93940491, 0.09758383,\n",
       "       0.08387976, 0.09347652, 0.30609088, 0.60442779, 0.17487728,\n",
       "       0.36390242, 0.68024737, 0.20114486, 0.86678216, 0.09347652,\n",
       "       0.83253155, 0.10628349, 0.84312342, 0.10628349, 0.90598822,\n",
       "       0.64432903, 0.10185134, 0.68024737, 0.06960197, 0.21923772,\n",
       "       0.54624132, 0.92822255, 0.07701069, 0.13423045, 0.40734318,\n",
       "       0.10856268, 0.2750315 , 0.16261209, 0.78795142, 0.88391807,\n",
       "       0.90185994, 0.71411748, 0.34812053, 0.09347652, 0.05490151,\n",
       "       0.29129773, 0.84312342, 0.13274992, 0.76148893, 0.61283758,\n",
       "       0.92700392, 0.10856268, 0.47758913, 0.09969728, 0.08297092,\n",
       "       0.09347652, 0.13423045, 0.09148154, 0.85232675, 0.10628349,\n",
       "       0.05457137, 0.10628349, 0.78512859, 0.80746775, 0.34053777,\n",
       "       0.09347652, 0.44969667, 0.09347652, 0.58590515, 0.11565932,\n",
       "       0.45339468, 0.13423045, 0.9277773 , 0.59881117, 0.1412048 ,\n",
       "       0.79815486, 0.25351671, 0.15192344, 0.18514349, 0.2814429 ,\n",
       "       0.60877078, 0.23516238, 0.68024737, 0.84684359, 0.80374514,\n",
       "       0.07685622, 0.09347652, 0.38107754, 0.1412048 , 0.09347652,\n",
       "       0.44969667, 0.66454056, 0.1412048 , 0.21685838, 0.07685622,\n",
       "       0.09551043, 0.95285514, 0.07487501, 0.43211914, 0.08952494,\n",
       "       0.08387976, 0.35673015, 0.17563045, 0.09969728, 0.68024737,\n",
       "       0.74524599, 0.30005163, 0.30430217, 0.2088929 , 0.39288156,\n",
       "       0.11325006, 0.15624162, 0.09347652, 0.62649177, 0.90185994,\n",
       "       0.72960552, 0.30941763, 0.29608697, 0.09347652, 0.16163605,\n",
       "       0.09551043, 0.14706904, 0.26261891, 0.41471089, 0.89395741,\n",
       "       0.10185134, 0.88426918, 0.45339468, 0.18875663, 0.28627512,\n",
       "       0.69933907, 0.494859  , 0.1412048 , 0.63174327, 0.09347652,\n",
       "       0.43211914, 0.23594721, 0.09029634, 0.26724814, 0.1412048 ,\n",
       "       0.30106527, 0.08387976, 0.02624172, 0.88463011, 0.06088078,\n",
       "       0.82363733, 0.26261891, 0.63463793, 0.27192887, 0.81270938,\n",
       "       0.91262002, 0.26724814, 0.30106527, 0.1040528 , 0.79308891,\n",
       "       0.32111841, 0.72063252, 0.09347652, 0.13423045, 0.48034867,\n",
       "       0.01635503, 0.83706912, 0.81270938, 0.09347652, 0.92935402,\n",
       "       0.26995653, 0.10342698, 0.6144175 , 0.91262002, 0.3458962 ,\n",
       "       0.21961027, 0.94205533, 0.32632247, 0.18842378, 0.78770205,\n",
       "       0.92098288, 0.4395792 , 0.28627512, 0.29577613, 0.07919587,\n",
       "       0.13423045, 0.13701707, 0.58590515, 0.54558277, 0.25804163,\n",
       "       0.74274207, 0.09969728, 0.14562792, 0.15168671, 0.11784722,\n",
       "       0.4733226 , 0.85028498, 0.22689724, 0.1777599 , 0.02953048,\n",
       "       0.90692215, 0.1427363 , 0.87217686, 0.10404655, 0.1235595 ,\n",
       "       0.91259656, 0.15815085, 0.94748906, 0.50895327, 0.38460565,\n",
       "       0.39575476, 0.21157101, 0.32165695, 0.68024737, 0.79996838,\n",
       "       0.68024737, 0.90315751, 0.58012622, 0.09347652, 0.93075885,\n",
       "       0.07274443, 0.09347652, 0.09368597])"
      ]
     },
     "execution_count": 129,
     "metadata": {},
     "output_type": "execute_result"
    }
   ],
   "source": [
    "y_pred_proba = modelo.predict_proba(X_test_final)[:,1]\n",
    "y_pred_proba"
   ]
  },
  {
   "cell_type": "code",
   "execution_count": 103,
   "id": "950ecb60-2ff2-4f63-aded-b42358ad9d56",
   "metadata": {
    "collapsed": true,
    "jupyter": {
     "outputs_hidden": true
    },
    "tags": []
   },
   "outputs": [
    {
     "data": {
      "text/plain": [
       "array([0, 0, 0, 0, 1, 0, 1, 0, 1, 0, 0, 0, 1, 0, 1, 1, 0, 0, 0, 1, 0, 0,\n",
       "       1, 1, 1, 0, 1, 0, 0, 0, 0, 0, 0, 0, 0, 0, 1, 1, 0, 0, 0, 0, 0, 1,\n",
       "       1, 0, 0, 0, 1, 0, 0, 0, 1, 1, 0, 0, 0, 0, 0, 1, 0, 0, 0, 1, 1, 1,\n",
       "       1, 0, 1, 1, 1, 0, 1, 1, 1, 1, 0, 1, 0, 1, 0, 0, 0, 0, 0, 0, 1, 1,\n",
       "       1, 1, 1, 0, 1, 0, 1, 0, 1, 0, 1, 0, 1, 0, 0, 0, 1, 0, 0, 0, 0, 0,\n",
       "       0, 1, 1, 1, 1, 0, 0, 1, 1, 1, 1, 0, 1, 0, 0, 1, 0, 1, 0, 0, 0, 0,\n",
       "       0, 0, 0, 0, 0, 0, 1, 0, 0, 1, 0, 0, 0, 0, 0, 0, 0, 0, 1, 0, 0, 0,\n",
       "       0, 0, 1, 1, 0, 1, 1, 0, 1, 0, 0, 0, 0, 0, 1, 1, 0, 0, 0, 0, 0, 1,\n",
       "       1, 0, 1, 1, 0, 0, 1, 0, 1, 0, 1, 0, 0, 0, 0, 0, 0, 0, 1, 0, 1, 1,\n",
       "       0, 1, 1, 0, 0, 1, 0, 1, 1, 0, 1, 0, 0, 0, 0, 1, 0, 0, 1, 0, 1, 0,\n",
       "       1, 0, 1, 0, 1, 1, 0, 1, 0, 0, 1, 1, 0, 0, 0, 0, 0, 0, 1, 1, 1, 1,\n",
       "       0, 0, 0, 0, 1, 0, 1, 1, 1, 0, 0, 0, 0, 0, 0, 0, 1, 0, 0, 0, 1, 1,\n",
       "       0, 0, 0, 0, 1, 0, 0, 0, 1, 1, 0, 1, 0, 0, 0, 0, 1, 0, 1, 1, 1, 0,\n",
       "       0, 0, 0, 0, 0, 1, 0, 0, 0, 0, 1, 0, 0, 0, 0, 0, 0, 0, 1, 1, 0, 0,\n",
       "       0, 0, 0, 0, 0, 1, 1, 1, 0, 0, 0, 0, 0, 0, 0, 0, 1, 0, 1, 0, 0, 0,\n",
       "       1, 0, 0, 1, 0, 0, 0, 0, 0, 0, 0, 0, 0, 1, 0, 1, 0, 1, 0, 1, 1, 0,\n",
       "       0, 0, 1, 0, 1, 0, 0, 0, 0, 1, 1, 0, 1, 0, 0, 1, 1, 0, 0, 1, 0, 0,\n",
       "       1, 1, 0, 0, 0, 0, 0, 0, 1, 1, 0, 1, 0, 0, 0, 0, 0, 1, 0, 0, 0, 1,\n",
       "       0, 1, 0, 0, 1, 0, 1, 1, 0, 0, 0, 0, 1, 1, 1, 1, 1, 0, 1, 0, 0, 0])"
      ]
     },
     "execution_count": 103,
     "metadata": {},
     "output_type": "execute_result"
    }
   ],
   "source": [
    "# Esto no te sirve a no ser que quieras cambiar a mano el threshold \n",
    "# para no hacerlo a mano usas la curva de ROC que ve la sensibilidad y especificidad segun cambia el threshold\n",
    "\n",
    "y_pred_final = (y_prediction_proba[:,1] > 0.5)*1\n",
    "y_pred_final"
   ]
  },
  {
   "cell_type": "markdown",
   "id": "bd025fd1-e1d5-47df-a9cb-e4992af54672",
   "metadata": {},
   "source": [
    "10. Calcular matriz de confusión"
   ]
  },
  {
   "cell_type": "code",
   "execution_count": 99,
   "id": "c16cda76-6460-4ed3-9426-95b5e559968f",
   "metadata": {},
   "outputs": [],
   "source": [
    "from sklearn.metrics import confusion_matrix, roc_curve, roc_auc_score"
   ]
  },
  {
   "cell_type": "code",
   "execution_count": 105,
   "id": "0a4830cb-e05a-4f54-8e5c-593597220bf4",
   "metadata": {},
   "outputs": [
    {
     "data": {
      "text/plain": [
       "array([[253,  13],\n",
       "       [ 15, 137]], dtype=int64)"
      ]
     },
     "execution_count": 105,
     "metadata": {},
     "output_type": "execute_result"
    }
   ],
   "source": [
    "matriz_confusion = confusion_matrix(y_test, y_pred_final)\n",
    "matriz_confusion"
   ]
  },
  {
   "cell_type": "code",
   "execution_count": 100,
   "id": "30dcf05f-d049-4f7e-ab7c-30d2f44eeb02",
   "metadata": {},
   "outputs": [
    {
     "data": {
      "text/html": [
       "<div>\n",
       "<style scoped>\n",
       "    .dataframe tbody tr th:only-of-type {\n",
       "        vertical-align: middle;\n",
       "    }\n",
       "\n",
       "    .dataframe tbody tr th {\n",
       "        vertical-align: top;\n",
       "    }\n",
       "\n",
       "    .dataframe thead th {\n",
       "        text-align: right;\n",
       "    }\n",
       "</style>\n",
       "<table border=\"1\" class=\"dataframe\">\n",
       "  <thead>\n",
       "    <tr style=\"text-align: right;\">\n",
       "      <th></th>\n",
       "      <th>y_test</th>\n",
       "      <th>y_pred_final</th>\n",
       "      <th>0</th>\n",
       "    </tr>\n",
       "  </thead>\n",
       "  <tbody>\n",
       "    <tr>\n",
       "      <th>0</th>\n",
       "      <td>0</td>\n",
       "      <td>0</td>\n",
       "      <td>253</td>\n",
       "    </tr>\n",
       "    <tr>\n",
       "      <th>1</th>\n",
       "      <td>0</td>\n",
       "      <td>1</td>\n",
       "      <td>13</td>\n",
       "    </tr>\n",
       "    <tr>\n",
       "      <th>2</th>\n",
       "      <td>1</td>\n",
       "      <td>0</td>\n",
       "      <td>14</td>\n",
       "    </tr>\n",
       "    <tr>\n",
       "      <th>3</th>\n",
       "      <td>1</td>\n",
       "      <td>1</td>\n",
       "      <td>138</td>\n",
       "    </tr>\n",
       "  </tbody>\n",
       "</table>\n",
       "</div>"
      ],
      "text/plain": [
       "   y_test  y_pred_final    0\n",
       "0       0             0  253\n",
       "1       0             1   13\n",
       "2       1             0   14\n",
       "3       1             1  138"
      ]
     },
     "execution_count": 100,
     "metadata": {},
     "output_type": "execute_result"
    }
   ],
   "source": [
    "pd.DataFrame({\n",
    "    \"y_test\": y_test,\n",
    "    \"y_pred_final\": y_pred_final\n",
    "}).groupby([\"y_test\", \"y_pred_final\"]).size().reset_index()"
   ]
  },
  {
   "cell_type": "code",
   "execution_count": 109,
   "id": "30d109d7-1122-4ef5-a63a-c108fd627067",
   "metadata": {
    "tags": []
   },
   "outputs": [],
   "source": [
    "TN = matriz_confusion[0][0]\n",
    "TP = matriz_confusion[1][1]\n",
    "FN = matriz_confusion[1][0]\n",
    "FP = matriz_confusion[0][1]"
   ]
  },
  {
   "cell_type": "markdown",
   "id": "b0647506-fa6e-489b-b19f-b06aac31c2e3",
   "metadata": {},
   "source": [
    "11. Calcular Accuracy"
   ]
  },
  {
   "cell_type": "code",
   "execution_count": 115,
   "id": "2d4c7729-dc25-448e-a0f5-2b411f429952",
   "metadata": {},
   "outputs": [
    {
     "data": {
      "text/plain": [
       "0.9330143540669856"
      ]
     },
     "execution_count": 115,
     "metadata": {},
     "output_type": "execute_result"
    }
   ],
   "source": [
    "(TP + TN) / (TP +TN + FP + FN)"
   ]
  },
  {
   "cell_type": "markdown",
   "id": "9de944c0-8c5c-4499-a612-c469202705c6",
   "metadata": {},
   "source": [
    "12. Calcular sensibilidad"
   ]
  },
  {
   "cell_type": "code",
   "execution_count": 113,
   "id": "23d46e37-0c7e-47d5-9cfe-d89d9cb8ff01",
   "metadata": {},
   "outputs": [
    {
     "data": {
      "text/plain": [
       "0.9013157894736842"
      ]
     },
     "execution_count": 113,
     "metadata": {},
     "output_type": "execute_result"
    }
   ],
   "source": [
    "TP / (TP + FN)"
   ]
  },
  {
   "cell_type": "markdown",
   "id": "8bd49b7a-8622-40a8-a859-36a2892bfaed",
   "metadata": {},
   "source": [
    "13. Calcular especificidad"
   ]
  },
  {
   "cell_type": "code",
   "execution_count": 117,
   "id": "4489c898-321d-485e-aa23-77f0329e5ce1",
   "metadata": {},
   "outputs": [
    {
     "data": {
      "text/plain": [
       "0.9511278195488722"
      ]
     },
     "execution_count": 117,
     "metadata": {},
     "output_type": "execute_result"
    }
   ],
   "source": [
    "TN / (TN + FP)"
   ]
  },
  {
   "cell_type": "markdown",
   "id": "26c35c86-fe11-48c8-bb86-a3c21da3fe99",
   "metadata": {},
   "source": [
    "14. Graficar curva de ROC"
   ]
  },
  {
   "cell_type": "code",
   "execution_count": 131,
   "id": "8d1acb6b-bf41-4e07-b793-f323fb6d757a",
   "metadata": {
    "collapsed": true,
    "jupyter": {
     "outputs_hidden": true
    },
    "tags": []
   },
   "outputs": [
    {
     "data": {
      "text/plain": [
       "(array([0.        , 0.        , 0.        , 0.        , 0.        ,\n",
       "        0.        , 0.        , 0.        , 0.        , 0.        ,\n",
       "        0.        , 0.        , 0.        , 0.        , 0.0037594 ,\n",
       "        0.0037594 , 0.0037594 , 0.0037594 , 0.0037594 , 0.0037594 ,\n",
       "        0.0037594 , 0.0037594 , 0.0075188 , 0.0075188 , 0.0075188 ,\n",
       "        0.0075188 , 0.0075188 , 0.0075188 , 0.0075188 , 0.0075188 ,\n",
       "        0.0075188 , 0.0075188 , 0.0112782 , 0.0112782 , 0.02631579,\n",
       "        0.02631579, 0.03007519, 0.03007519, 0.03383459, 0.03383459,\n",
       "        0.04135338, 0.04135338, 0.04887218, 0.04887218, 0.05263158,\n",
       "        0.05263158, 0.05263158, 0.05639098, 0.05639098, 0.06766917,\n",
       "        0.07518797, 0.09774436, 0.09774436, 0.10150376, 0.10150376,\n",
       "        0.10902256, 0.10902256, 0.11654135, 0.11654135, 0.12406015,\n",
       "        0.12406015, 0.13157895, 0.13157895, 0.13909774, 0.14285714,\n",
       "        0.15413534, 0.15789474, 0.16917293, 0.19172932, 0.19924812,\n",
       "        0.23308271, 0.2406015 , 0.26315789, 0.27067669, 0.28947368,\n",
       "        0.29699248, 0.29699248, 0.30827068, 0.31578947, 0.32706767,\n",
       "        0.33082707, 0.35338346, 0.38345865, 0.39097744, 0.44360902,\n",
       "        0.44360902, 0.48496241, 0.4924812 , 0.5075188 , 0.54135338,\n",
       "        0.54511278, 0.58270677, 0.60150376, 0.60902256, 0.61654135,\n",
       "        0.63157895, 0.65037594, 0.65413534, 0.67669173, 0.68421053,\n",
       "        0.68796992, 0.71052632, 0.71428571, 0.73308271, 0.7443609 ,\n",
       "        0.7518797 , 0.84586466, 0.85714286, 0.86090226, 0.86842105,\n",
       "        0.88345865, 0.88721805, 0.89473684, 0.90601504, 0.92105263,\n",
       "        0.94736842, 0.94736842, 1.        ]),\n",
       " array([0.        , 0.00657895, 0.01973684, 0.05921053, 0.07236842,\n",
       "        0.14473684, 0.15789474, 0.17105263, 0.18421053, 0.20394737,\n",
       "        0.21710526, 0.32894737, 0.34210526, 0.40789474, 0.40789474,\n",
       "        0.43421053, 0.48684211, 0.5       , 0.60526316, 0.61842105,\n",
       "        0.69078947, 0.70394737, 0.70394737, 0.71710526, 0.73026316,\n",
       "        0.76973684, 0.78289474, 0.78947368, 0.80921053, 0.82894737,\n",
       "        0.85526316, 0.86184211, 0.86184211, 0.86842105, 0.86842105,\n",
       "        0.875     , 0.875     , 0.88157895, 0.88157895, 0.88815789,\n",
       "        0.88815789, 0.89473684, 0.89473684, 0.90789474, 0.90789474,\n",
       "        0.91447368, 0.92763158, 0.92763158, 0.94078947, 0.94078947,\n",
       "        0.94078947, 0.94078947, 0.94736842, 0.94736842, 0.95394737,\n",
       "        0.95394737, 0.96052632, 0.96052632, 0.96710526, 0.96710526,\n",
       "        0.97368421, 0.97368421, 0.98026316, 0.98026316, 0.98026316,\n",
       "        0.98026316, 0.98026316, 0.98026316, 0.98026316, 0.98026316,\n",
       "        0.98026316, 0.98026316, 0.98026316, 0.98026316, 0.98026316,\n",
       "        0.98026316, 0.98684211, 0.98684211, 0.98684211, 0.98684211,\n",
       "        0.98684211, 0.98684211, 0.98684211, 0.98684211, 0.98684211,\n",
       "        0.99342105, 0.99342105, 0.99342105, 0.99342105, 0.99342105,\n",
       "        0.99342105, 0.99342105, 0.99342105, 0.99342105, 0.99342105,\n",
       "        0.99342105, 0.99342105, 0.99342105, 0.99342105, 0.99342105,\n",
       "        0.99342105, 0.99342105, 0.99342105, 0.99342105, 0.99342105,\n",
       "        0.99342105, 0.99342105, 0.99342105, 0.99342105, 0.99342105,\n",
       "        0.99342105, 0.99342105, 0.99342105, 0.99342105, 0.99342105,\n",
       "        0.99342105, 1.        , 1.        ]),\n",
       " array([1.95285514, 0.95285514, 0.94748906, 0.93664142, 0.935216  ,\n",
       "        0.91447415, 0.91262002, 0.91206356, 0.90692215, 0.90315751,\n",
       "        0.90185994, 0.84565194, 0.84312342, 0.81630081, 0.81413149,\n",
       "        0.80746775, 0.76975189, 0.76148893, 0.69832426, 0.69555567,\n",
       "        0.68024737, 0.66454056, 0.64608941, 0.63754817, 0.636685  ,\n",
       "        0.61657895, 0.6144175 , 0.61283758, 0.60877078, 0.59526317,\n",
       "        0.58590515, 0.58012622, 0.57743042, 0.57432523, 0.54624132,\n",
       "        0.54558277, 0.54230012, 0.5377747 , 0.53343724, 0.52785232,\n",
       "        0.51268459, 0.51152779, 0.50165825, 0.49816704, 0.494859  ,\n",
       "        0.48034867, 0.4784319 , 0.47758913, 0.47669589, 0.45929214,\n",
       "        0.45339468, 0.44969667, 0.44354703, 0.44164054, 0.4395792 ,\n",
       "        0.43211914, 0.42369944, 0.41256708, 0.40868437, 0.39575476,\n",
       "        0.39288156, 0.38460565, 0.38160099, 0.38107754, 0.36942255,\n",
       "        0.36390242, 0.36236129, 0.35673015, 0.33685908, 0.32632247,\n",
       "        0.30185146, 0.30106527, 0.29129773, 0.28627512, 0.2750315 ,\n",
       "        0.27192887, 0.26995653, 0.26724814, 0.26303775, 0.26261891,\n",
       "        0.25804163, 0.23594721, 0.2088929 , 0.20339656, 0.17563045,\n",
       "        0.17487728, 0.15192344, 0.15168671, 0.14265228, 0.1412048 ,\n",
       "        0.13701707, 0.13423045, 0.11784722, 0.11565932, 0.11358736,\n",
       "        0.10856268, 0.10628349, 0.1040528 , 0.10342698, 0.10185134,\n",
       "        0.09972369, 0.09969728, 0.09810538, 0.09758383, 0.09551043,\n",
       "        0.09368597, 0.09347652, 0.09148154, 0.09029634, 0.08952494,\n",
       "        0.08387976, 0.08297092, 0.08207105, 0.07701069, 0.07487501,\n",
       "        0.0658506 , 0.06252978, 0.01635503]))"
      ]
     },
     "execution_count": 131,
     "metadata": {},
     "output_type": "execute_result"
    }
   ],
   "source": [
    "roc_curve(y_test, y_pred_proba)"
   ]
  },
  {
   "cell_type": "code",
   "execution_count": 135,
   "id": "39aeb597-ffa2-4ae0-be89-c1e54ca8024e",
   "metadata": {
    "tags": []
   },
   "outputs": [],
   "source": [
    "especificidad_inv, sensibilidad, threshold = roc_curve(y_test, y_pred_proba)"
   ]
  },
  {
   "cell_type": "code",
   "execution_count": 137,
   "id": "83d4fb22-a690-45ec-a65a-f21954883932",
   "metadata": {},
   "outputs": [
    {
     "data": {
      "text/plain": [
       "<Axes: >"
      ]
     },
     "execution_count": 137,
     "metadata": {},
     "output_type": "execute_result"
    },
    {
     "data": {
      "image/png": "[encoded data removed]",
      "text/plain": [
       "<Figure size 640x480 with 1 Axes>"
      ]
     },
     "metadata": {},
     "output_type": "display_data"
    }
   ],
   "source": [
    "recta_x = [i * 0.01 for i in range(101)]\n",
    "recta_y = recta_x\n",
    "\n",
    "\n",
    "sns.lineplot(x=especificidad_inv, y=sensibilidad)\n",
    "sns.lineplot(x= recta_x, y=recta_y, color='red', ls = '--')"
   ]
  },
  {
   "cell_type": "code",
   "execution_count": null,
   "id": "63b48c35-2576-4b2c-afb1-1cadd0a354fe",
   "metadata": {},
   "outputs": [],
   "source": []
  },
  {
   "cell_type": "markdown",
   "id": "01f5ec9f-8abc-40bf-a64b-0f3121a3ef0a",
   "metadata": {},
   "source": [
    "15. Calcular valor de área bajo la curva de ROC"
   ]
  },
  {
   "cell_type": "code",
   "execution_count": null,
   "id": "df5af997-62ea-4584-9a61-3e163047a727",
   "metadata": {},
   "outputs": [],
   "source": [
    "roc_auc_score(test_data[\"Survived\"], test_data[\"y_pred_proba\"])"
   ]
  },
  {
   "cell_type": "code",
   "execution_count": null,
   "id": "ceb765cf-e590-49e9-a903-1dd84e9ccf30",
   "metadata": {},
   "outputs": [],
   "source": []
  }
 ],
 "metadata": {
  "kernelspec": {
   "display_name": "Python 3 (ipykernel)",
   "language": "python",
   "name": "python3"
  },
  "language_info": {
   "codemirror_mode": {
    "name": "ipython",
    "version": 3
   },
   "file_extension": ".py",
   "mimetype": "text/x-python",
   "name": "python",
   "nbconvert_exporter": "python",
   "pygments_lexer": "ipython3",
   "version": "3.11.7"
  }
 },
 "nbformat": 4,
 "nbformat_minor": 5
}
