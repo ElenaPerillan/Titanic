{
 "cells": [
  {
   "cell_type": "code",
   "execution_count": 108,
   "id": "8216603c-a712-4a35-971f-b74ac406dc1f",
   "metadata": {
    "tags": []
   },
   "outputs": [],
   "source": [
    "import seaborn as sns\n",
    "import pandas as pd\n",
    "import numpy as np\n",
    "import matplotlib.pyplot as plt\n",
    "import warnings \n",
    "warnings.filterwarnings('ignore')"
   ]
  },
  {
   "cell_type": "markdown",
   "id": "69282111-dab9-4f8c-8518-40e4e2e10dd7",
   "metadata": {},
   "source": [
    "## Titanic\n",
    "This exercise aims to develop a machine learning model to predict the survival probability of Titanic passengers. By analyzing various passenger attributes such as age, gender, class, and other relevant features, the model will identify patterns and factors that influenced survival rates. Utilizing techniques like data preprocessing, feature engineering, and model evaluation, this project seeks to provide insights into the tragic event and demonstrate the power of machine learning in predictive analytics. The end goal is to create an accurate and reliable model that can be used for educational purposes to enhance understanding of data analysis. \n",
    "\n",
    "https://www.kaggle.com/c/titanic/data?select=train.csv"
   ]
  },
  {
   "cell_type": "markdown",
   "id": "c2c2204d-ff76-40cb-aa7c-24984f9ce1e7",
   "metadata": {},
   "source": [
    "# Import data"
   ]
  },
  {
   "cell_type": "code",
   "execution_count": 3,
   "id": "a617b09c-dc05-4b49-9576-e722b5196a07",
   "metadata": {
    "tags": []
   },
   "outputs": [],
   "source": [
    "train = pd.read_csv(\"Titanic KNN/train.csv\")"
   ]
  },
  {
   "cell_type": "code",
   "execution_count": 5,
   "id": "352d746b-eaf5-4995-a1b3-1d335d034eff",
   "metadata": {
    "tags": []
   },
   "outputs": [
    {
     "data": {
      "text/plain": [
       "Index(['PassengerId', 'Survived', 'Pclass', 'Name', 'Sex', 'Age', 'SibSp',\n",
       "       'Parch', 'Ticket', 'Fare', 'Cabin', 'Embarked'],\n",
       "      dtype='object')"
      ]
     },
     "execution_count": 5,
     "metadata": {},
     "output_type": "execute_result"
    }
   ],
   "source": [
    "train.columns"
   ]
  },
  {
   "cell_type": "code",
   "execution_count": 7,
   "id": "703429b7-a053-47d1-a9f6-5bfe4e54be31",
   "metadata": {
    "tags": []
   },
   "outputs": [],
   "source": [
    "test = pd.read_csv(\"Titanic KNN/test.csv\")"
   ]
  },
  {
   "cell_type": "code",
   "execution_count": 9,
   "id": "cc14c463-6db1-4a3e-a687-c6f46b13a9f4",
   "metadata": {
    "tags": []
   },
   "outputs": [],
   "source": [
    "results = pd.read_csv(\"Titanic KNN/gender_submission.csv\")"
   ]
  },
  {
   "cell_type": "code",
   "execution_count": 11,
   "id": "9e068273-234b-470b-b6bc-4e012655bd58",
   "metadata": {
    "tags": []
   },
   "outputs": [],
   "source": [
    "test = test.merge(results, how = 'left')"
   ]
  },
  {
   "cell_type": "code",
   "execution_count": 19,
   "id": "0a37eac7-ce68-46e2-9d94-14e7cd87d668",
   "metadata": {
    "collapsed": true,
    "jupyter": {
     "outputs_hidden": true
    },
    "tags": []
   },
   "outputs": [
    {
     "data": {
      "text/html": [
       "<div>\n",
       "<style scoped>\n",
       "    .dataframe tbody tr th:only-of-type {\n",
       "        vertical-align: middle;\n",
       "    }\n",
       "\n",
       "    .dataframe tbody tr th {\n",
       "        vertical-align: top;\n",
       "    }\n",
       "\n",
       "    .dataframe thead th {\n",
       "        text-align: right;\n",
       "    }\n",
       "</style>\n",
       "<table border=\"1\" class=\"dataframe\">\n",
       "  <thead>\n",
       "    <tr style=\"text-align: right;\">\n",
       "      <th></th>\n",
       "      <th>PassengerId</th>\n",
       "      <th>Survived</th>\n",
       "      <th>Pclass</th>\n",
       "      <th>Name</th>\n",
       "      <th>Sex</th>\n",
       "      <th>Age</th>\n",
       "      <th>SibSp</th>\n",
       "      <th>Parch</th>\n",
       "      <th>Ticket</th>\n",
       "      <th>Fare</th>\n",
       "      <th>Cabin</th>\n",
       "      <th>Embarked</th>\n",
       "    </tr>\n",
       "  </thead>\n",
       "  <tbody>\n",
       "    <tr>\n",
       "      <th>0</th>\n",
       "      <td>1</td>\n",
       "      <td>0</td>\n",
       "      <td>3</td>\n",
       "      <td>Braund, Mr. Owen Harris</td>\n",
       "      <td>male</td>\n",
       "      <td>22.0</td>\n",
       "      <td>1</td>\n",
       "      <td>0</td>\n",
       "      <td>A/5 21171</td>\n",
       "      <td>7.2500</td>\n",
       "      <td>NaN</td>\n",
       "      <td>S</td>\n",
       "    </tr>\n",
       "    <tr>\n",
       "      <th>1</th>\n",
       "      <td>2</td>\n",
       "      <td>1</td>\n",
       "      <td>1</td>\n",
       "      <td>Cumings, Mrs. John Bradley (Florence Briggs Th...</td>\n",
       "      <td>female</td>\n",
       "      <td>38.0</td>\n",
       "      <td>1</td>\n",
       "      <td>0</td>\n",
       "      <td>PC 17599</td>\n",
       "      <td>71.2833</td>\n",
       "      <td>C85</td>\n",
       "      <td>C</td>\n",
       "    </tr>\n",
       "    <tr>\n",
       "      <th>2</th>\n",
       "      <td>3</td>\n",
       "      <td>1</td>\n",
       "      <td>3</td>\n",
       "      <td>Heikkinen, Miss. Laina</td>\n",
       "      <td>female</td>\n",
       "      <td>26.0</td>\n",
       "      <td>0</td>\n",
       "      <td>0</td>\n",
       "      <td>STON/O2. 3101282</td>\n",
       "      <td>7.9250</td>\n",
       "      <td>NaN</td>\n",
       "      <td>S</td>\n",
       "    </tr>\n",
       "    <tr>\n",
       "      <th>3</th>\n",
       "      <td>4</td>\n",
       "      <td>1</td>\n",
       "      <td>1</td>\n",
       "      <td>Futrelle, Mrs. Jacques Heath (Lily May Peel)</td>\n",
       "      <td>female</td>\n",
       "      <td>35.0</td>\n",
       "      <td>1</td>\n",
       "      <td>0</td>\n",
       "      <td>113803</td>\n",
       "      <td>53.1000</td>\n",
       "      <td>C123</td>\n",
       "      <td>S</td>\n",
       "    </tr>\n",
       "    <tr>\n",
       "      <th>4</th>\n",
       "      <td>5</td>\n",
       "      <td>0</td>\n",
       "      <td>3</td>\n",
       "      <td>Allen, Mr. William Henry</td>\n",
       "      <td>male</td>\n",
       "      <td>35.0</td>\n",
       "      <td>0</td>\n",
       "      <td>0</td>\n",
       "      <td>373450</td>\n",
       "      <td>8.0500</td>\n",
       "      <td>NaN</td>\n",
       "      <td>S</td>\n",
       "    </tr>\n",
       "    <tr>\n",
       "      <th>...</th>\n",
       "      <td>...</td>\n",
       "      <td>...</td>\n",
       "      <td>...</td>\n",
       "      <td>...</td>\n",
       "      <td>...</td>\n",
       "      <td>...</td>\n",
       "      <td>...</td>\n",
       "      <td>...</td>\n",
       "      <td>...</td>\n",
       "      <td>...</td>\n",
       "      <td>...</td>\n",
       "      <td>...</td>\n",
       "    </tr>\n",
       "    <tr>\n",
       "      <th>886</th>\n",
       "      <td>887</td>\n",
       "      <td>0</td>\n",
       "      <td>2</td>\n",
       "      <td>Montvila, Rev. Juozas</td>\n",
       "      <td>male</td>\n",
       "      <td>27.0</td>\n",
       "      <td>0</td>\n",
       "      <td>0</td>\n",
       "      <td>211536</td>\n",
       "      <td>13.0000</td>\n",
       "      <td>NaN</td>\n",
       "      <td>S</td>\n",
       "    </tr>\n",
       "    <tr>\n",
       "      <th>887</th>\n",
       "      <td>888</td>\n",
       "      <td>1</td>\n",
       "      <td>1</td>\n",
       "      <td>Graham, Miss. Margaret Edith</td>\n",
       "      <td>female</td>\n",
       "      <td>19.0</td>\n",
       "      <td>0</td>\n",
       "      <td>0</td>\n",
       "      <td>112053</td>\n",
       "      <td>30.0000</td>\n",
       "      <td>B42</td>\n",
       "      <td>S</td>\n",
       "    </tr>\n",
       "    <tr>\n",
       "      <th>888</th>\n",
       "      <td>889</td>\n",
       "      <td>0</td>\n",
       "      <td>3</td>\n",
       "      <td>Johnston, Miss. Catherine Helen \"Carrie\"</td>\n",
       "      <td>female</td>\n",
       "      <td>NaN</td>\n",
       "      <td>1</td>\n",
       "      <td>2</td>\n",
       "      <td>W./C. 6607</td>\n",
       "      <td>23.4500</td>\n",
       "      <td>NaN</td>\n",
       "      <td>S</td>\n",
       "    </tr>\n",
       "    <tr>\n",
       "      <th>889</th>\n",
       "      <td>890</td>\n",
       "      <td>1</td>\n",
       "      <td>1</td>\n",
       "      <td>Behr, Mr. Karl Howell</td>\n",
       "      <td>male</td>\n",
       "      <td>26.0</td>\n",
       "      <td>0</td>\n",
       "      <td>0</td>\n",
       "      <td>111369</td>\n",
       "      <td>30.0000</td>\n",
       "      <td>C148</td>\n",
       "      <td>C</td>\n",
       "    </tr>\n",
       "    <tr>\n",
       "      <th>890</th>\n",
       "      <td>891</td>\n",
       "      <td>0</td>\n",
       "      <td>3</td>\n",
       "      <td>Dooley, Mr. Patrick</td>\n",
       "      <td>male</td>\n",
       "      <td>32.0</td>\n",
       "      <td>0</td>\n",
       "      <td>0</td>\n",
       "      <td>370376</td>\n",
       "      <td>7.7500</td>\n",
       "      <td>NaN</td>\n",
       "      <td>Q</td>\n",
       "    </tr>\n",
       "  </tbody>\n",
       "</table>\n",
       "<p>891 rows × 12 columns</p>\n",
       "</div>"
      ],
      "text/plain": [
       "     PassengerId  Survived  Pclass  \\\n",
       "0              1         0       3   \n",
       "1              2         1       1   \n",
       "2              3         1       3   \n",
       "3              4         1       1   \n",
       "4              5         0       3   \n",
       "..           ...       ...     ...   \n",
       "886          887         0       2   \n",
       "887          888         1       1   \n",
       "888          889         0       3   \n",
       "889          890         1       1   \n",
       "890          891         0       3   \n",
       "\n",
       "                                                  Name     Sex   Age  SibSp  \\\n",
       "0                              Braund, Mr. Owen Harris    male  22.0      1   \n",
       "1    Cumings, Mrs. John Bradley (Florence Briggs Th...  female  38.0      1   \n",
       "2                               Heikkinen, Miss. Laina  female  26.0      0   \n",
       "3         Futrelle, Mrs. Jacques Heath (Lily May Peel)  female  35.0      1   \n",
       "4                             Allen, Mr. William Henry    male  35.0      0   \n",
       "..                                                 ...     ...   ...    ...   \n",
       "886                              Montvila, Rev. Juozas    male  27.0      0   \n",
       "887                       Graham, Miss. Margaret Edith  female  19.0      0   \n",
       "888           Johnston, Miss. Catherine Helen \"Carrie\"  female   NaN      1   \n",
       "889                              Behr, Mr. Karl Howell    male  26.0      0   \n",
       "890                                Dooley, Mr. Patrick    male  32.0      0   \n",
       "\n",
       "     Parch            Ticket     Fare Cabin Embarked  \n",
       "0        0         A/5 21171   7.2500   NaN        S  \n",
       "1        0          PC 17599  71.2833   C85        C  \n",
       "2        0  STON/O2. 3101282   7.9250   NaN        S  \n",
       "3        0            113803  53.1000  C123        S  \n",
       "4        0            373450   8.0500   NaN        S  \n",
       "..     ...               ...      ...   ...      ...  \n",
       "886      0            211536  13.0000   NaN        S  \n",
       "887      0            112053  30.0000   B42        S  \n",
       "888      2        W./C. 6607  23.4500   NaN        S  \n",
       "889      0            111369  30.0000  C148        C  \n",
       "890      0            370376   7.7500   NaN        Q  \n",
       "\n",
       "[891 rows x 12 columns]"
      ]
     },
     "execution_count": 19,
     "metadata": {},
     "output_type": "execute_result"
    }
   ],
   "source": [
    "train"
   ]
  },
  {
   "cell_type": "markdown",
   "id": "16d9cf11-4163-4ea5-8d52-10a8d75a07a8",
   "metadata": {},
   "source": [
    "# Cleaning and preparation"
   ]
  },
  {
   "cell_type": "code",
   "execution_count": 13,
   "id": "2bc2336c-1557-4b8a-8ff3-849bacee99e6",
   "metadata": {
    "tags": []
   },
   "outputs": [
    {
     "data": {
      "text/plain": [
       "PassengerId     0.000000\n",
       "Survived        0.000000\n",
       "Pclass          0.000000\n",
       "Name            0.000000\n",
       "Sex             0.000000\n",
       "Age            19.865320\n",
       "SibSp           0.000000\n",
       "Parch           0.000000\n",
       "Ticket          0.000000\n",
       "Fare            0.000000\n",
       "Cabin          77.104377\n",
       "Embarked        0.224467\n",
       "dtype: float64"
      ]
     },
     "execution_count": 13,
     "metadata": {},
     "output_type": "execute_result"
    }
   ],
   "source": [
    "train.isnull().sum()/len(train)*100"
   ]
  },
  {
   "cell_type": "code",
   "execution_count": 15,
   "id": "ee8daad9-ad17-4028-b1ce-289b3a4096bd",
   "metadata": {
    "tags": []
   },
   "outputs": [
    {
     "data": {
      "text/plain": [
       "PassengerId     0.000000\n",
       "Pclass          0.000000\n",
       "Name            0.000000\n",
       "Sex             0.000000\n",
       "Age             9.652076\n",
       "SibSp           0.000000\n",
       "Parch           0.000000\n",
       "Ticket          0.000000\n",
       "Fare            0.112233\n",
       "Cabin          36.700337\n",
       "Embarked        0.000000\n",
       "Survived        0.000000\n",
       "dtype: float64"
      ]
     },
     "execution_count": 15,
     "metadata": {},
     "output_type": "execute_result"
    }
   ],
   "source": [
    "test.isnull().sum()/len(train)*100"
   ]
  },
  {
   "cell_type": "code",
   "execution_count": 17,
   "id": "e23fcd4c-e1be-4edf-a935-9ceddfbaa852",
   "metadata": {
    "tags": []
   },
   "outputs": [
    {
     "name": "stdout",
     "output_type": "stream",
     "text": [
      "For PassengerId: 0.0% of nulls\n",
      "For Survived: 0.0% of nulls\n",
      "For Pclass: 0.0% of nulls\n",
      "For Name: 0.0% of nulls\n",
      "For Sex: 0.0% of nulls\n",
      "For Age: 19.865319865319865% of nulls\n",
      "For SibSp: 0.0% of nulls\n",
      "For Parch: 0.0% of nulls\n",
      "For Ticket: 0.0% of nulls\n",
      "For Fare: 0.0% of nulls\n",
      "For Cabin: 77.10437710437711% of nulls\n",
      "For Embarked: 0.22446689113355783% of nulls\n"
     ]
    }
   ],
   "source": [
    "for col in train.columns:\n",
    "    nulls = train[col].isnull().sum()/len(train[col])*100\n",
    "    print(f\"For {col}: {nulls}% of nulls\")"
   ]
  },
  {
   "cell_type": "code",
   "execution_count": 13,
   "id": "dbbc0168-132c-48a0-bfbe-0e51ae5a61ae",
   "metadata": {
    "tags": []
   },
   "outputs": [],
   "source": [
    "train.drop('Cabin', axis=1, inplace=True)\n",
    "test.drop('Cabin', axis=1, inplace=True)"
   ]
  },
  {
   "cell_type": "code",
   "execution_count": 23,
   "id": "dda972fc-296a-4ab4-b53e-a64ae7bbb555",
   "metadata": {
    "tags": []
   },
   "outputs": [
    {
     "name": "stdout",
     "output_type": "stream",
     "text": [
      "28.0\n",
      "29.69911764705882\n"
     ]
    }
   ],
   "source": [
    "print(train[\"Age\"].median())\n",
    "print(train[\"Age\"].mean())"
   ]
  },
  {
   "cell_type": "code",
   "execution_count": 17,
   "id": "4ad9acee-8a6b-4ae2-8c4e-8b7a787f3c77",
   "metadata": {
    "tags": []
   },
   "outputs": [],
   "source": [
    "train['Age'].fillna(train[\"Age\"].median(), inplace = True)\n",
    "train['Embarked'].fillna(train['Embarked'].mode()[0], inplace = True)"
   ]
  },
  {
   "cell_type": "code",
   "execution_count": 29,
   "id": "000b4b5f-aeb6-4be2-82a3-faf9ee79487d",
   "metadata": {
    "tags": []
   },
   "outputs": [
    {
     "data": {
      "text/plain": [
       "PassengerId    0\n",
       "Survived       0\n",
       "Pclass         0\n",
       "Name           0\n",
       "Sex            0\n",
       "Age            0\n",
       "SibSp          0\n",
       "Parch          0\n",
       "Ticket         0\n",
       "Fare           0\n",
       "Embarked       0\n",
       "dtype: int64"
      ]
     },
     "execution_count": 29,
     "metadata": {},
     "output_type": "execute_result"
    }
   ],
   "source": [
    "train.isnull().sum()"
   ]
  },
  {
   "cell_type": "code",
   "execution_count": 31,
   "id": "efed1432-a3e3-4172-9565-45810e21c630",
   "metadata": {
    "tags": []
   },
   "outputs": [
    {
     "data": {
      "text/plain": [
       "0"
      ]
     },
     "execution_count": 31,
     "metadata": {},
     "output_type": "execute_result"
    }
   ],
   "source": [
    "train.duplicated().sum()"
   ]
  },
  {
   "cell_type": "code",
   "execution_count": 34,
   "id": "ae38e200-1aee-4c7b-ba62-ffd962c33f7b",
   "metadata": {
    "tags": []
   },
   "outputs": [
    {
     "data": {
      "text/plain": [
       "PassengerId     0\n",
       "Pclass          0\n",
       "Name            0\n",
       "Sex             0\n",
       "Age            86\n",
       "SibSp           0\n",
       "Parch           0\n",
       "Ticket          0\n",
       "Fare            1\n",
       "Embarked        0\n",
       "Survived        0\n",
       "dtype: int64"
      ]
     },
     "execution_count": 34,
     "metadata": {},
     "output_type": "execute_result"
    }
   ],
   "source": [
    "test.isnull().sum()"
   ]
  },
  {
   "cell_type": "code",
   "execution_count": 19,
   "id": "c3927370-a3fc-4780-a1ec-37846318993c",
   "metadata": {
    "tags": []
   },
   "outputs": [],
   "source": [
    "test['Age'].fillna(test[\"Age\"].median(), inplace = True)\n",
    "test['Fare'].fillna(test['Fare'].mode()[0], inplace = True)"
   ]
  },
  {
   "cell_type": "markdown",
   "id": "c9b75276-f73f-495b-8c4f-3b8327ba5977",
   "metadata": {},
   "source": [
    "# EDA"
   ]
  },
  {
   "cell_type": "markdown",
   "id": "cd63e46e-1a87-4b6b-9bf2-e3cd1839e9fb",
   "metadata": {},
   "source": [
    "### Survivors per class"
   ]
  },
  {
   "cell_type": "code",
   "execution_count": 115,
   "id": "a6f34ae6-e224-4af3-94ce-93f2e20a791d",
   "metadata": {
    "tags": []
   },
   "outputs": [
    {
     "data": {
      "image/png": "[encoded data removed]",
      "text/plain": [
       "<Figure size 640x480 with 1 Axes>"
      ]
     },
     "metadata": {},
     "output_type": "display_data"
    }
   ],
   "source": [
    "# Seaborn's barplot function by default aggregates data using the mean (estimator=np.mean). If you want to show the sum directly, you should specify estimator=sum \n",
    "# Therefore this is the survival rate per class\n",
    "\n",
    "sns.barplot(data= train, x= 'Pclass', y= 'Survived')\n",
    "plt.show()"
   ]
  },
  {
   "cell_type": "code",
   "execution_count": 117,
   "id": "cfa4bf5e-f642-45fa-abc9-847dd564c9e2",
   "metadata": {
    "tags": []
   },
   "outputs": [
    {
     "data": {
      "image/png": "[encoded data removed]",
      "text/plain": [
       "<Figure size 640x480 with 1 Axes>"
      ]
     },
     "metadata": {},
     "output_type": "display_data"
    }
   ],
   "source": [
    "# total amount of survivors per class\n",
    "\n",
    "sns.barplot(data= train, x= 'Pclass', y= 'Survived', estimator=sum)\n",
    "plt.show()\n"
   ]
  },
  {
   "cell_type": "code",
   "execution_count": 113,
   "id": "e3409543-75cc-40dc-b1ac-e755ff42cf5a",
   "metadata": {
    "tags": []
   },
   "outputs": [],
   "source": [
    "# Using a groupby is the same - total of survivors\n",
    "\n",
    "data_plot = train.groupby(\"Pclass\").agg({\"Survived\":\"sum\"}).reset_index()\n",
    "sns.barplot(x=data_plot[\"Pclass\"], y=data_plot[\"Survived\"])"
   ]
  },
  {
   "cell_type": "code",
   "execution_count": 154,
   "id": "b039726b-1c7b-4b56-8c41-8ace3048c0ed",
   "metadata": {
    "tags": []
   },
   "outputs": [
    {
     "data": {
      "image/png": "[encoded data removed]",
      "text/plain": [
       "<Figure size 500x500 with 1 Axes>"
      ]
     },
     "metadata": {},
     "output_type": "display_data"
    }
   ],
   "source": [
    "# Percentaje of survivors per class from total survivors\n",
    "\n",
    "\n",
    "grouped_data = train.groupby(\"Pclass\").agg({\"Survived\": \"sum\"}).reset_index()\n",
    "\n",
    "# Sizes and labels for your pie chart\n",
    "sizes = grouped_data['Survived'].values\n",
    "labels = ['Pclass 1', 'Pclass 2', 'Pclass 3']  # Change labels to correspond to Pclass groups\n",
    "\n",
    "plt.figure(figsize=(5, 5))\n",
    "plt.pie(sizes, labels=labels, autopct='%1.1f%%', startangle=140)\n",
    "plt.title(label = 'Percentage of survivors per class')\n",
    "\n",
    "# Ensure the pie chart is a circle\n",
    "plt.axis('equal')\n",
    "plt.show()\n"
   ]
  },
  {
   "cell_type": "markdown",
   "id": "31feed2a-0834-46b7-a5b2-d1ef95d0083d",
   "metadata": {},
   "source": [
    "### Survivors per sex"
   ]
  },
  {
   "cell_type": "code",
   "execution_count": 142,
   "id": "f2127221-27d1-4338-ad09-72b66ab10ee3",
   "metadata": {
    "tags": []
   },
   "outputs": [
    {
     "data": {
      "text/html": [
       "<div>\n",
       "<style scoped>\n",
       "    .dataframe tbody tr th:only-of-type {\n",
       "        vertical-align: middle;\n",
       "    }\n",
       "\n",
       "    .dataframe tbody tr th {\n",
       "        vertical-align: top;\n",
       "    }\n",
       "\n",
       "    .dataframe thead th {\n",
       "        text-align: right;\n",
       "    }\n",
       "</style>\n",
       "<table border=\"1\" class=\"dataframe\">\n",
       "  <thead>\n",
       "    <tr style=\"text-align: right;\">\n",
       "      <th></th>\n",
       "      <th>Sex</th>\n",
       "      <th>Survived</th>\n",
       "    </tr>\n",
       "  </thead>\n",
       "  <tbody>\n",
       "    <tr>\n",
       "      <th>0</th>\n",
       "      <td>female</td>\n",
       "      <td>233</td>\n",
       "    </tr>\n",
       "    <tr>\n",
       "      <th>1</th>\n",
       "      <td>male</td>\n",
       "      <td>109</td>\n",
       "    </tr>\n",
       "  </tbody>\n",
       "</table>\n",
       "</div>"
      ],
      "text/plain": [
       "      Sex  Survived\n",
       "0  female       233\n",
       "1    male       109"
      ]
     },
     "execution_count": 142,
     "metadata": {},
     "output_type": "execute_result"
    }
   ],
   "source": [
    "sex = train.groupby('Sex').agg({'Survived':'sum'}).reset_index()\n",
    "sex"
   ]
  },
  {
   "cell_type": "code",
   "execution_count": 156,
   "id": "f12ca70c-a297-4792-8978-dbc82ca9e12d",
   "metadata": {
    "tags": []
   },
   "outputs": [
    {
     "data": {
      "image/png": "[encoded data removed]",
      "text/plain": [
       "<Figure size 640x480 with 1 Axes>"
      ]
     },
     "metadata": {},
     "output_type": "display_data"
    }
   ],
   "source": [
    "sns.barplot(data=sex, x='Sex', y='Survived')\n",
    "plt.title(label = 'Number of survivors per sex')\n",
    "plt.show()"
   ]
  },
  {
   "cell_type": "code",
   "execution_count": 150,
   "id": "ac9c8a78-45ce-4930-a0f5-ab00eb838182",
   "metadata": {
    "tags": []
   },
   "outputs": [
    {
     "data": {
      "image/png": "[encoded data removed]",
      "text/plain": [
       "<Figure size 400x400 with 1 Axes>"
      ]
     },
     "metadata": {},
     "output_type": "display_data"
    }
   ],
   "source": [
    "# Sizes and labels for your pie chart\n",
    "sizes = sex['Survived'].values\n",
    "labels = ['Female', 'Male']  \n",
    "\n",
    "plt.figure(figsize=(4, 4))\n",
    "plt.pie(sizes, labels=labels, autopct='%1.1f%%', startangle=140)\n",
    "\n",
    "# Ensure the pie chart is a circle\n",
    "plt.axis('equal')\n",
    "plt.show()"
   ]
  },
  {
   "cell_type": "markdown",
   "id": "39be9100-03ba-4e3d-b965-f821c558a7a9",
   "metadata": {},
   "source": [
    "### Survivors per fare"
   ]
  },
  {
   "cell_type": "code",
   "execution_count": 158,
   "id": "4e6b690d-a18a-4daf-8514-696546128b95",
   "metadata": {
    "collapsed": true,
    "jupyter": {
     "outputs_hidden": true
    },
    "tags": []
   },
   "outputs": [
    {
     "data": {
      "text/html": [
       "<div>\n",
       "<style scoped>\n",
       "    .dataframe tbody tr th:only-of-type {\n",
       "        vertical-align: middle;\n",
       "    }\n",
       "\n",
       "    .dataframe tbody tr th {\n",
       "        vertical-align: top;\n",
       "    }\n",
       "\n",
       "    .dataframe thead th {\n",
       "        text-align: right;\n",
       "    }\n",
       "</style>\n",
       "<table border=\"1\" class=\"dataframe\">\n",
       "  <thead>\n",
       "    <tr style=\"text-align: right;\">\n",
       "      <th></th>\n",
       "      <th>Fare</th>\n",
       "      <th>Survived</th>\n",
       "    </tr>\n",
       "  </thead>\n",
       "  <tbody>\n",
       "    <tr>\n",
       "      <th>0</th>\n",
       "      <td>0.0000</td>\n",
       "      <td>1</td>\n",
       "    </tr>\n",
       "    <tr>\n",
       "      <th>1</th>\n",
       "      <td>4.0125</td>\n",
       "      <td>0</td>\n",
       "    </tr>\n",
       "    <tr>\n",
       "      <th>2</th>\n",
       "      <td>5.0000</td>\n",
       "      <td>0</td>\n",
       "    </tr>\n",
       "    <tr>\n",
       "      <th>3</th>\n",
       "      <td>6.2375</td>\n",
       "      <td>0</td>\n",
       "    </tr>\n",
       "    <tr>\n",
       "      <th>4</th>\n",
       "      <td>6.4375</td>\n",
       "      <td>0</td>\n",
       "    </tr>\n",
       "    <tr>\n",
       "      <th>...</th>\n",
       "      <td>...</td>\n",
       "      <td>...</td>\n",
       "    </tr>\n",
       "    <tr>\n",
       "      <th>243</th>\n",
       "      <td>227.5250</td>\n",
       "      <td>3</td>\n",
       "    </tr>\n",
       "    <tr>\n",
       "      <th>244</th>\n",
       "      <td>247.5208</td>\n",
       "      <td>1</td>\n",
       "    </tr>\n",
       "    <tr>\n",
       "      <th>245</th>\n",
       "      <td>262.3750</td>\n",
       "      <td>2</td>\n",
       "    </tr>\n",
       "    <tr>\n",
       "      <th>246</th>\n",
       "      <td>263.0000</td>\n",
       "      <td>2</td>\n",
       "    </tr>\n",
       "    <tr>\n",
       "      <th>247</th>\n",
       "      <td>512.3292</td>\n",
       "      <td>3</td>\n",
       "    </tr>\n",
       "  </tbody>\n",
       "</table>\n",
       "<p>248 rows × 2 columns</p>\n",
       "</div>"
      ],
      "text/plain": [
       "         Fare  Survived\n",
       "0      0.0000         1\n",
       "1      4.0125         0\n",
       "2      5.0000         0\n",
       "3      6.2375         0\n",
       "4      6.4375         0\n",
       "..        ...       ...\n",
       "243  227.5250         3\n",
       "244  247.5208         1\n",
       "245  262.3750         2\n",
       "246  263.0000         2\n",
       "247  512.3292         3\n",
       "\n",
       "[248 rows x 2 columns]"
      ]
     },
     "execution_count": 158,
     "metadata": {},
     "output_type": "execute_result"
    }
   ],
   "source": [
    "fare = train.groupby('Fare').agg({'Survived':'sum'}).reset_index()\n",
    "fare"
   ]
  },
  {
   "cell_type": "code",
   "execution_count": 178,
   "id": "95837f0f-9a13-45e2-9ea2-9d79841ad1f2",
   "metadata": {
    "tags": []
   },
   "outputs": [
    {
     "data": {
      "text/plain": [
       "<Axes: xlabel='Fare', ylabel='Count'>"
      ]
     },
     "execution_count": 178,
     "metadata": {},
     "output_type": "execute_result"
    },
    {
     "data": {
      "image/png": "[encoded data removed]",
      "text/plain": [
       "<Figure size 640x480 with 1 Axes>"
      ]
     },
     "metadata": {},
     "output_type": "display_data"
    }
   ],
   "source": [
    "sns.histplot(x=train[\"Fare\"], hue=train[\"Survived\"],kde =True)\n"
   ]
  },
  {
   "cell_type": "code",
   "execution_count": 27,
   "id": "508761cc-5e16-4d8b-b3ce-afce11bca24b",
   "metadata": {
    "tags": []
   },
   "outputs": [
    {
     "data": {
      "image/png": "[encoded data removed]",
      "text/plain": [
       "<Figure size 2000x800 with 1 Axes>"
      ]
     },
     "metadata": {},
     "output_type": "display_data"
    }
   ],
   "source": [
    "# checking for outliers \n",
    "fareOut = train.loc[:,train.columns == 'Fare'] \n",
    "plt.figure(figsize=(20, 8))\n",
    "sns.boxplot(data=fareOut)\n",
    "plt.title('Fare ouliers')\n",
    "plt.xticks(rotation=90)\n",
    "plt.show()"
   ]
  },
  {
   "cell_type": "markdown",
   "id": "62a9d855-9078-45bc-ba03-632620d4b258",
   "metadata": {},
   "source": [
    "# Feature engeneering"
   ]
  },
  {
   "cell_type": "code",
   "execution_count": 21,
   "id": "987a6ab5-0eaa-4d19-bb9c-789a5b4a7274",
   "metadata": {
    "tags": []
   },
   "outputs": [],
   "source": [
    "# Get rid of columns you won't use in the analysis\n",
    "\n",
    "train = train.drop(columns = ['SibSp', 'Parch', 'Ticket','PassengerId', 'Name'])"
   ]
  },
  {
   "cell_type": "code",
   "execution_count": 23,
   "id": "a64fed45-a479-409d-bd54-6a8e5991ec68",
   "metadata": {
    "tags": []
   },
   "outputs": [],
   "source": [
    "test = test.drop(columns = ['SibSp', 'Parch', 'Ticket','PassengerId', 'Name'])"
   ]
  },
  {
   "cell_type": "code",
   "execution_count": null,
   "id": "44f49f86-c468-4988-8d28-1ba732030e7e",
   "metadata": {},
   "outputs": [],
   "source": [
    "# Check for categorical variables and transform them to be able to use them \n",
    "# Get dummies or enconde if possible"
   ]
  },
  {
   "cell_type": "code",
   "execution_count": 39,
   "id": "e77eb639-2d69-470e-b39a-6c4d51d0896d",
   "metadata": {
    "tags": []
   },
   "outputs": [
    {
     "data": {
      "text/plain": [
       "array(['S', 'C', 'Q'], dtype=object)"
      ]
     },
     "execution_count": 39,
     "metadata": {},
     "output_type": "execute_result"
    }
   ],
   "source": [
    "train['Embarked'].unique()"
   ]
  },
  {
   "cell_type": "code",
   "execution_count": 236,
   "id": "1df1f0ed-3266-4904-9064-4b3211543e56",
   "metadata": {
    "tags": []
   },
   "outputs": [],
   "source": [
    "# train.Sex = np.where(train.Sex == 'male', 1, 0)"
   ]
  },
  {
   "cell_type": "code",
   "execution_count": 25,
   "id": "cf47943f-1f20-470a-8365-f6b7920c5b45",
   "metadata": {
    "tags": []
   },
   "outputs": [
    {
     "data": {
      "text/html": [
       "<div>\n",
       "<style scoped>\n",
       "    .dataframe tbody tr th:only-of-type {\n",
       "        vertical-align: middle;\n",
       "    }\n",
       "\n",
       "    .dataframe tbody tr th {\n",
       "        vertical-align: top;\n",
       "    }\n",
       "\n",
       "    .dataframe thead th {\n",
       "        text-align: right;\n",
       "    }\n",
       "</style>\n",
       "<table border=\"1\" class=\"dataframe\">\n",
       "  <thead>\n",
       "    <tr style=\"text-align: right;\">\n",
       "      <th></th>\n",
       "      <th>Age</th>\n",
       "      <th>Fare</th>\n",
       "      <th>Survived</th>\n",
       "      <th>Pclass_2</th>\n",
       "      <th>Pclass_3</th>\n",
       "      <th>Embarked_Q</th>\n",
       "      <th>Embarked_S</th>\n",
       "      <th>Sex_male</th>\n",
       "    </tr>\n",
       "  </thead>\n",
       "  <tbody>\n",
       "    <tr>\n",
       "      <th>0</th>\n",
       "      <td>34.5</td>\n",
       "      <td>7.8292</td>\n",
       "      <td>0</td>\n",
       "      <td>False</td>\n",
       "      <td>True</td>\n",
       "      <td>True</td>\n",
       "      <td>False</td>\n",
       "      <td>True</td>\n",
       "    </tr>\n",
       "    <tr>\n",
       "      <th>1</th>\n",
       "      <td>47.0</td>\n",
       "      <td>7.0000</td>\n",
       "      <td>1</td>\n",
       "      <td>False</td>\n",
       "      <td>True</td>\n",
       "      <td>False</td>\n",
       "      <td>True</td>\n",
       "      <td>False</td>\n",
       "    </tr>\n",
       "    <tr>\n",
       "      <th>2</th>\n",
       "      <td>62.0</td>\n",
       "      <td>9.6875</td>\n",
       "      <td>0</td>\n",
       "      <td>True</td>\n",
       "      <td>False</td>\n",
       "      <td>True</td>\n",
       "      <td>False</td>\n",
       "      <td>True</td>\n",
       "    </tr>\n",
       "    <tr>\n",
       "      <th>3</th>\n",
       "      <td>27.0</td>\n",
       "      <td>8.6625</td>\n",
       "      <td>0</td>\n",
       "      <td>False</td>\n",
       "      <td>True</td>\n",
       "      <td>False</td>\n",
       "      <td>True</td>\n",
       "      <td>True</td>\n",
       "    </tr>\n",
       "    <tr>\n",
       "      <th>4</th>\n",
       "      <td>22.0</td>\n",
       "      <td>12.2875</td>\n",
       "      <td>1</td>\n",
       "      <td>False</td>\n",
       "      <td>True</td>\n",
       "      <td>False</td>\n",
       "      <td>True</td>\n",
       "      <td>False</td>\n",
       "    </tr>\n",
       "    <tr>\n",
       "      <th>...</th>\n",
       "      <td>...</td>\n",
       "      <td>...</td>\n",
       "      <td>...</td>\n",
       "      <td>...</td>\n",
       "      <td>...</td>\n",
       "      <td>...</td>\n",
       "      <td>...</td>\n",
       "      <td>...</td>\n",
       "    </tr>\n",
       "    <tr>\n",
       "      <th>413</th>\n",
       "      <td>27.0</td>\n",
       "      <td>8.0500</td>\n",
       "      <td>0</td>\n",
       "      <td>False</td>\n",
       "      <td>True</td>\n",
       "      <td>False</td>\n",
       "      <td>True</td>\n",
       "      <td>True</td>\n",
       "    </tr>\n",
       "    <tr>\n",
       "      <th>414</th>\n",
       "      <td>39.0</td>\n",
       "      <td>108.9000</td>\n",
       "      <td>1</td>\n",
       "      <td>False</td>\n",
       "      <td>False</td>\n",
       "      <td>False</td>\n",
       "      <td>False</td>\n",
       "      <td>False</td>\n",
       "    </tr>\n",
       "    <tr>\n",
       "      <th>415</th>\n",
       "      <td>38.5</td>\n",
       "      <td>7.2500</td>\n",
       "      <td>0</td>\n",
       "      <td>False</td>\n",
       "      <td>True</td>\n",
       "      <td>False</td>\n",
       "      <td>True</td>\n",
       "      <td>True</td>\n",
       "    </tr>\n",
       "    <tr>\n",
       "      <th>416</th>\n",
       "      <td>27.0</td>\n",
       "      <td>8.0500</td>\n",
       "      <td>0</td>\n",
       "      <td>False</td>\n",
       "      <td>True</td>\n",
       "      <td>False</td>\n",
       "      <td>True</td>\n",
       "      <td>True</td>\n",
       "    </tr>\n",
       "    <tr>\n",
       "      <th>417</th>\n",
       "      <td>27.0</td>\n",
       "      <td>22.3583</td>\n",
       "      <td>0</td>\n",
       "      <td>False</td>\n",
       "      <td>True</td>\n",
       "      <td>False</td>\n",
       "      <td>False</td>\n",
       "      <td>True</td>\n",
       "    </tr>\n",
       "  </tbody>\n",
       "</table>\n",
       "<p>418 rows × 8 columns</p>\n",
       "</div>"
      ],
      "text/plain": [
       "      Age      Fare  Survived  Pclass_2  Pclass_3  Embarked_Q  Embarked_S  \\\n",
       "0    34.5    7.8292         0     False      True        True       False   \n",
       "1    47.0    7.0000         1     False      True       False        True   \n",
       "2    62.0    9.6875         0      True     False        True       False   \n",
       "3    27.0    8.6625         0     False      True       False        True   \n",
       "4    22.0   12.2875         1     False      True       False        True   \n",
       "..    ...       ...       ...       ...       ...         ...         ...   \n",
       "413  27.0    8.0500         0     False      True       False        True   \n",
       "414  39.0  108.9000         1     False     False       False       False   \n",
       "415  38.5    7.2500         0     False      True       False        True   \n",
       "416  27.0    8.0500         0     False      True       False        True   \n",
       "417  27.0   22.3583         0     False      True       False       False   \n",
       "\n",
       "     Sex_male  \n",
       "0        True  \n",
       "1       False  \n",
       "2        True  \n",
       "3        True  \n",
       "4       False  \n",
       "..        ...  \n",
       "413      True  \n",
       "414     False  \n",
       "415      True  \n",
       "416      True  \n",
       "417      True  \n",
       "\n",
       "[418 rows x 8 columns]"
      ]
     },
     "execution_count": 25,
     "metadata": {},
     "output_type": "execute_result"
    }
   ],
   "source": [
    "test_df = pd.get_dummies(data=test, columns = [\"Pclass\",\"Embarked\", \"Sex\"], drop_first = True)\n",
    "test_df"
   ]
  },
  {
   "cell_type": "code",
   "execution_count": 27,
   "id": "813a6665-f27e-47d8-8db2-4233721e0885",
   "metadata": {
    "tags": []
   },
   "outputs": [
    {
     "data": {
      "text/html": [
       "<div>\n",
       "<style scoped>\n",
       "    .dataframe tbody tr th:only-of-type {\n",
       "        vertical-align: middle;\n",
       "    }\n",
       "\n",
       "    .dataframe tbody tr th {\n",
       "        vertical-align: top;\n",
       "    }\n",
       "\n",
       "    .dataframe thead th {\n",
       "        text-align: right;\n",
       "    }\n",
       "</style>\n",
       "<table border=\"1\" class=\"dataframe\">\n",
       "  <thead>\n",
       "    <tr style=\"text-align: right;\">\n",
       "      <th></th>\n",
       "      <th>Survived</th>\n",
       "      <th>Age</th>\n",
       "      <th>Fare</th>\n",
       "      <th>Pclass_2</th>\n",
       "      <th>Pclass_3</th>\n",
       "      <th>Embarked_Q</th>\n",
       "      <th>Embarked_S</th>\n",
       "      <th>Sex_male</th>\n",
       "    </tr>\n",
       "  </thead>\n",
       "  <tbody>\n",
       "    <tr>\n",
       "      <th>0</th>\n",
       "      <td>0</td>\n",
       "      <td>22.0</td>\n",
       "      <td>7.2500</td>\n",
       "      <td>False</td>\n",
       "      <td>True</td>\n",
       "      <td>False</td>\n",
       "      <td>True</td>\n",
       "      <td>True</td>\n",
       "    </tr>\n",
       "    <tr>\n",
       "      <th>1</th>\n",
       "      <td>1</td>\n",
       "      <td>38.0</td>\n",
       "      <td>71.2833</td>\n",
       "      <td>False</td>\n",
       "      <td>False</td>\n",
       "      <td>False</td>\n",
       "      <td>False</td>\n",
       "      <td>False</td>\n",
       "    </tr>\n",
       "    <tr>\n",
       "      <th>2</th>\n",
       "      <td>1</td>\n",
       "      <td>26.0</td>\n",
       "      <td>7.9250</td>\n",
       "      <td>False</td>\n",
       "      <td>True</td>\n",
       "      <td>False</td>\n",
       "      <td>True</td>\n",
       "      <td>False</td>\n",
       "    </tr>\n",
       "    <tr>\n",
       "      <th>3</th>\n",
       "      <td>1</td>\n",
       "      <td>35.0</td>\n",
       "      <td>53.1000</td>\n",
       "      <td>False</td>\n",
       "      <td>False</td>\n",
       "      <td>False</td>\n",
       "      <td>True</td>\n",
       "      <td>False</td>\n",
       "    </tr>\n",
       "    <tr>\n",
       "      <th>4</th>\n",
       "      <td>0</td>\n",
       "      <td>35.0</td>\n",
       "      <td>8.0500</td>\n",
       "      <td>False</td>\n",
       "      <td>True</td>\n",
       "      <td>False</td>\n",
       "      <td>True</td>\n",
       "      <td>True</td>\n",
       "    </tr>\n",
       "    <tr>\n",
       "      <th>...</th>\n",
       "      <td>...</td>\n",
       "      <td>...</td>\n",
       "      <td>...</td>\n",
       "      <td>...</td>\n",
       "      <td>...</td>\n",
       "      <td>...</td>\n",
       "      <td>...</td>\n",
       "      <td>...</td>\n",
       "    </tr>\n",
       "    <tr>\n",
       "      <th>886</th>\n",
       "      <td>0</td>\n",
       "      <td>27.0</td>\n",
       "      <td>13.0000</td>\n",
       "      <td>True</td>\n",
       "      <td>False</td>\n",
       "      <td>False</td>\n",
       "      <td>True</td>\n",
       "      <td>True</td>\n",
       "    </tr>\n",
       "    <tr>\n",
       "      <th>887</th>\n",
       "      <td>1</td>\n",
       "      <td>19.0</td>\n",
       "      <td>30.0000</td>\n",
       "      <td>False</td>\n",
       "      <td>False</td>\n",
       "      <td>False</td>\n",
       "      <td>True</td>\n",
       "      <td>False</td>\n",
       "    </tr>\n",
       "    <tr>\n",
       "      <th>888</th>\n",
       "      <td>0</td>\n",
       "      <td>28.0</td>\n",
       "      <td>23.4500</td>\n",
       "      <td>False</td>\n",
       "      <td>True</td>\n",
       "      <td>False</td>\n",
       "      <td>True</td>\n",
       "      <td>False</td>\n",
       "    </tr>\n",
       "    <tr>\n",
       "      <th>889</th>\n",
       "      <td>1</td>\n",
       "      <td>26.0</td>\n",
       "      <td>30.0000</td>\n",
       "      <td>False</td>\n",
       "      <td>False</td>\n",
       "      <td>False</td>\n",
       "      <td>False</td>\n",
       "      <td>True</td>\n",
       "    </tr>\n",
       "    <tr>\n",
       "      <th>890</th>\n",
       "      <td>0</td>\n",
       "      <td>32.0</td>\n",
       "      <td>7.7500</td>\n",
       "      <td>False</td>\n",
       "      <td>True</td>\n",
       "      <td>True</td>\n",
       "      <td>False</td>\n",
       "      <td>True</td>\n",
       "    </tr>\n",
       "  </tbody>\n",
       "</table>\n",
       "<p>891 rows × 8 columns</p>\n",
       "</div>"
      ],
      "text/plain": [
       "     Survived   Age     Fare  Pclass_2  Pclass_3  Embarked_Q  Embarked_S  \\\n",
       "0           0  22.0   7.2500     False      True       False        True   \n",
       "1           1  38.0  71.2833     False     False       False       False   \n",
       "2           1  26.0   7.9250     False      True       False        True   \n",
       "3           1  35.0  53.1000     False     False       False        True   \n",
       "4           0  35.0   8.0500     False      True       False        True   \n",
       "..        ...   ...      ...       ...       ...         ...         ...   \n",
       "886         0  27.0  13.0000      True     False       False        True   \n",
       "887         1  19.0  30.0000     False     False       False        True   \n",
       "888         0  28.0  23.4500     False      True       False        True   \n",
       "889         1  26.0  30.0000     False     False       False       False   \n",
       "890         0  32.0   7.7500     False      True        True       False   \n",
       "\n",
       "     Sex_male  \n",
       "0        True  \n",
       "1       False  \n",
       "2       False  \n",
       "3       False  \n",
       "4        True  \n",
       "..        ...  \n",
       "886      True  \n",
       "887     False  \n",
       "888     False  \n",
       "889      True  \n",
       "890      True  \n",
       "\n",
       "[891 rows x 8 columns]"
      ]
     },
     "execution_count": 27,
     "metadata": {},
     "output_type": "execute_result"
    }
   ],
   "source": [
    "train_df = pd.get_dummies(data=train, columns = [\"Pclass\",\"Embarked\", \"Sex\"], drop_first = True)\n",
    "train_df"
   ]
  },
  {
   "cell_type": "markdown",
   "id": "84153db7-4a10-423a-8fda-73cd616369f7",
   "metadata": {},
   "source": [
    "I'm adding a column to know if the passenger was a child (under 16)"
   ]
  },
  {
   "cell_type": "code",
   "execution_count": 29,
   "id": "ea40f447-faf9-499a-b0ef-9129ca20dd47",
   "metadata": {
    "tags": []
   },
   "outputs": [
    {
     "data": {
      "text/plain": [
       "Survived      83\n",
       "Age           83\n",
       "Fare          83\n",
       "Pclass_2      83\n",
       "Pclass_3      83\n",
       "Embarked_Q    83\n",
       "Embarked_S    83\n",
       "Sex_male      83\n",
       "dtype: int64"
      ]
     },
     "execution_count": 29,
     "metadata": {},
     "output_type": "execute_result"
    }
   ],
   "source": [
    "train_df.query('Age < 16').count()"
   ]
  },
  {
   "cell_type": "code",
   "execution_count": 31,
   "id": "fa928bd3-9385-4dd0-a6ad-12a638f8ccbc",
   "metadata": {},
   "outputs": [],
   "source": [
    "train_df['Child']=np.where(train_df['Age']<=16, 1, 0)\n",
    "test_df['Child']=np.where(test_df['Age']<=16, 1, 0)"
   ]
  },
  {
   "cell_type": "markdown",
   "id": "b089b636-4088-4180-ad5c-7b52a3597fff",
   "metadata": {},
   "source": [
    "# Logistic Regression"
   ]
  },
  {
   "cell_type": "code",
   "execution_count": 116,
   "id": "1ddc49ab-fbd5-4c78-bc8e-f6fa6ed72a7c",
   "metadata": {
    "tags": []
   },
   "outputs": [],
   "source": [
    "from sklearn.feature_selection import RFE\n",
    "from sklearn.linear_model import LogisticRegression"
   ]
  },
  {
   "cell_type": "code",
   "execution_count": 118,
   "id": "974881ab-0890-4421-a83f-b0d32d85decd",
   "metadata": {
    "tags": []
   },
   "outputs": [],
   "source": [
    "X_train = train_df.loc[:, train_df.columns != 'Survived']\n",
    "y_train = train_df.loc[:, train_df.columns == 'Survived']"
   ]
  },
  {
   "cell_type": "code",
   "execution_count": 120,
   "id": "29b8e1e8-d108-46f9-9e52-2515c0ac576e",
   "metadata": {
    "tags": []
   },
   "outputs": [
    {
     "data": {
      "text/html": [
       "<style>#sk-container-id-6 {color: black;background-color: white;}#sk-container-id-6 pre{padding: 0;}#sk-container-id-6 div.sk-toggleable {background-color: white;}#sk-container-id-6 label.sk-toggleable__label {cursor: pointer;display: block;width: 100%;margin-bottom: 0;padding: 0.3em;box-sizing: border-box;text-align: center;}#sk-container-id-6 label.sk-toggleable__label-arrow:before {content: \"▸\";float: left;margin-right: 0.25em;color: #696969;}#sk-container-id-6 label.sk-toggleable__label-arrow:hover:before {color: black;}#sk-container-id-6 div.sk-estimator:hover label.sk-toggleable__label-arrow:before {color: black;}#sk-container-id-6 div.sk-toggleable__content {max-height: 0;max-width: 0;overflow: hidden;text-align: left;background-color: #f0f8ff;}#sk-container-id-6 div.sk-toggleable__content pre {margin: 0.2em;color: black;border-radius: 0.25em;background-color: #f0f8ff;}#sk-container-id-6 input.sk-toggleable__control:checked~div.sk-toggleable__content {max-height: 200px;max-width: 100%;overflow: auto;}#sk-container-id-6 input.sk-toggleable__control:checked~label.sk-toggleable__label-arrow:before {content: \"▾\";}#sk-container-id-6 div.sk-estimator input.sk-toggleable__control:checked~label.sk-toggleable__label {background-color: #d4ebff;}#sk-container-id-6 div.sk-label input.sk-toggleable__control:checked~label.sk-toggleable__label {background-color: #d4ebff;}#sk-container-id-6 input.sk-hidden--visually {border: 0;clip: rect(1px 1px 1px 1px);clip: rect(1px, 1px, 1px, 1px);height: 1px;margin: -1px;overflow: hidden;padding: 0;position: absolute;width: 1px;}#sk-container-id-6 div.sk-estimator {font-family: monospace;background-color: #f0f8ff;border: 1px dotted black;border-radius: 0.25em;box-sizing: border-box;margin-bottom: 0.5em;}#sk-container-id-6 div.sk-estimator:hover {background-color: #d4ebff;}#sk-container-id-6 div.sk-parallel-item::after {content: \"\";width: 100%;border-bottom: 1px solid gray;flex-grow: 1;}#sk-container-id-6 div.sk-label:hover label.sk-toggleable__label {background-color: #d4ebff;}#sk-container-id-6 div.sk-serial::before {content: \"\";position: absolute;border-left: 1px solid gray;box-sizing: border-box;top: 0;bottom: 0;left: 50%;z-index: 0;}#sk-container-id-6 div.sk-serial {display: flex;flex-direction: column;align-items: center;background-color: white;padding-right: 0.2em;padding-left: 0.2em;position: relative;}#sk-container-id-6 div.sk-item {position: relative;z-index: 1;}#sk-container-id-6 div.sk-parallel {display: flex;align-items: stretch;justify-content: center;background-color: white;position: relative;}#sk-container-id-6 div.sk-item::before, #sk-container-id-6 div.sk-parallel-item::before {content: \"\";position: absolute;border-left: 1px solid gray;box-sizing: border-box;top: 0;bottom: 0;left: 50%;z-index: -1;}#sk-container-id-6 div.sk-parallel-item {display: flex;flex-direction: column;z-index: 1;position: relative;background-color: white;}#sk-container-id-6 div.sk-parallel-item:first-child::after {align-self: flex-end;width: 50%;}#sk-container-id-6 div.sk-parallel-item:last-child::after {align-self: flex-start;width: 50%;}#sk-container-id-6 div.sk-parallel-item:only-child::after {width: 0;}#sk-container-id-6 div.sk-dashed-wrapped {border: 1px dashed gray;margin: 0 0.4em 0.5em 0.4em;box-sizing: border-box;padding-bottom: 0.4em;background-color: white;}#sk-container-id-6 div.sk-label label {font-family: monospace;font-weight: bold;display: inline-block;line-height: 1.2em;}#sk-container-id-6 div.sk-label-container {text-align: center;}#sk-container-id-6 div.sk-container {/* jupyter's `normalize.less` sets `[hidden] { display: none; }` but bootstrap.min.css set `[hidden] { display: none !important; }` so we also need the `!important` here to be able to override the default hidden behavior on the sphinx rendered scikit-learn.org. See: https://github.com/scikit-learn/scikit-learn/issues/21755 */display: inline-block !important;position: relative;}#sk-container-id-6 div.sk-text-repr-fallback {display: none;}</style><div id=\"sk-container-id-6\" class=\"sk-top-container\"><div class=\"sk-text-repr-fallback\"><pre>LogisticRegression(max_iter=100000)</pre><b>In a Jupyter environment, please rerun this cell to show the HTML representation or trust the notebook. <br />On GitHub, the HTML representation is unable to render, please try loading this page with nbviewer.org.</b></div><div class=\"sk-container\" hidden><div class=\"sk-item\"><div class=\"sk-estimator sk-toggleable\"><input class=\"sk-toggleable__control sk-hidden--visually\" id=\"sk-estimator-id-6\" type=\"checkbox\" checked><label for=\"sk-estimator-id-6\" class=\"sk-toggleable__label sk-toggleable__label-arrow\">LogisticRegression</label><div class=\"sk-toggleable__content\"><pre>LogisticRegression(max_iter=100000)</pre></div></div></div></div></div>"
      ],
      "text/plain": [
       "LogisticRegression(max_iter=100000)"
      ]
     },
     "execution_count": 120,
     "metadata": {},
     "output_type": "execute_result"
    }
   ],
   "source": [
    "model = LogisticRegression(max_iter = 100000)\n",
    "# rfe = RFE(model, n_features_to_select = 8) all the features\n",
    "model.fit(X_train, y_train)"
   ]
  },
  {
   "cell_type": "code",
   "execution_count": 122,
   "id": "cfac2cc4-bcaf-4688-b36c-9b5c019ab903",
   "metadata": {
    "tags": []
   },
   "outputs": [],
   "source": [
    "X_test = test_df.loc[:, test_df.columns != 'Survived']\n",
    "y_test = test_df.loc[:, test_df.columns == 'Survived']"
   ]
  },
  {
   "cell_type": "code",
   "execution_count": 124,
   "id": "e497d8f9-1cef-4840-8878-e0236af09853",
   "metadata": {
    "collapsed": true,
    "jupyter": {
     "outputs_hidden": true
    },
    "tags": []
   },
   "outputs": [
    {
     "data": {
      "text/plain": [
       "array([0, 0, 0, 0, 1, 0, 1, 0, 1, 0, 0, 0, 1, 0, 1, 1, 0, 0, 1, 1, 0, 0,\n",
       "       1, 1, 1, 0, 1, 0, 0, 0, 0, 0, 0, 1, 1, 0, 1, 1, 0, 0, 0, 0, 0, 1,\n",
       "       1, 0, 0, 0, 1, 0, 0, 0, 1, 1, 0, 0, 0, 0, 0, 1, 0, 0, 0, 1, 1, 1,\n",
       "       1, 0, 1, 1, 1, 0, 0, 1, 1, 1, 0, 1, 0, 1, 0, 0, 0, 0, 0, 0, 1, 1,\n",
       "       1, 0, 1, 0, 1, 0, 1, 0, 1, 0, 1, 0, 1, 0, 0, 0, 1, 0, 0, 0, 0, 0,\n",
       "       0, 1, 1, 1, 1, 0, 0, 1, 0, 1, 1, 0, 1, 0, 0, 1, 0, 1, 0, 0, 0, 0,\n",
       "       1, 0, 0, 0, 0, 0, 1, 0, 1, 1, 0, 0, 0, 0, 0, 0, 0, 0, 1, 0, 0, 0,\n",
       "       0, 0, 1, 1, 0, 1, 1, 0, 1, 0, 0, 1, 0, 0, 1, 1, 0, 0, 0, 0, 0, 1,\n",
       "       1, 0, 1, 1, 0, 0, 1, 0, 1, 0, 1, 0, 1, 0, 0, 0, 0, 0, 0, 0, 1, 1,\n",
       "       0, 1, 1, 0, 0, 1, 0, 1, 1, 0, 1, 0, 0, 0, 0, 1, 0, 0, 1, 0, 1, 0,\n",
       "       1, 0, 1, 0, 1, 1, 0, 1, 0, 0, 0, 1, 0, 0, 0, 0, 0, 0, 1, 1, 1, 1,\n",
       "       0, 0, 0, 0, 1, 0, 1, 1, 1, 0, 1, 0, 0, 0, 0, 0, 1, 0, 0, 0, 1, 1,\n",
       "       0, 0, 0, 0, 1, 0, 0, 0, 1, 1, 0, 1, 0, 0, 0, 0, 1, 0, 1, 1, 1, 0,\n",
       "       0, 0, 0, 0, 0, 1, 0, 0, 0, 0, 1, 0, 0, 0, 0, 0, 0, 0, 1, 1, 0, 0,\n",
       "       0, 0, 0, 0, 0, 1, 1, 1, 0, 0, 0, 0, 0, 0, 0, 0, 1, 0, 1, 0, 0, 0,\n",
       "       1, 0, 0, 1, 0, 0, 0, 0, 0, 0, 0, 0, 0, 1, 0, 1, 0, 1, 0, 1, 1, 0,\n",
       "       0, 0, 1, 0, 1, 0, 0, 0, 0, 1, 1, 0, 1, 1, 0, 1, 1, 0, 0, 1, 0, 0,\n",
       "       1, 1, 1, 0, 0, 0, 0, 0, 1, 1, 0, 1, 0, 0, 0, 0, 0, 1, 0, 0, 0, 1,\n",
       "       0, 1, 0, 0, 1, 0, 1, 0, 0, 0, 0, 0, 1, 1, 1, 1, 0, 0, 1, 0, 0, 0],\n",
       "      dtype=int64)"
      ]
     },
     "execution_count": 124,
     "metadata": {},
     "output_type": "execute_result"
    }
   ],
   "source": [
    "y_pred = model.predict(X_test)\n",
    "y_pred"
   ]
  },
  {
   "cell_type": "code",
   "execution_count": 126,
   "id": "a765156a-897a-417f-b3f7-0b26a1ac2aeb",
   "metadata": {
    "collapsed": true,
    "jupyter": {
     "outputs_hidden": true
    },
    "tags": []
   },
   "outputs": [
    {
     "data": {
      "text/plain": [
       "array([[0.88879269, 0.11120731],\n",
       "       [0.6084688 , 0.3915312 ],\n",
       "       [0.80543042, 0.19456958],\n",
       "       [0.91950302, 0.08049698],\n",
       "       [0.46630252, 0.53369748],\n",
       "       [0.8400967 , 0.1599033 ],\n",
       "       [0.38302688, 0.61697312],\n",
       "       [0.75178783, 0.24821217],\n",
       "       [0.32148352, 0.67851648],\n",
       "       [0.90741599, 0.09258401],\n",
       "       [0.91956254, 0.08043746],\n",
       "       [0.69574802, 0.30425198],\n",
       "       [0.09891419, 0.90108581],\n",
       "       [0.87603448, 0.12396552],\n",
       "       [0.16250549, 0.83749451],\n",
       "       [0.12843404, 0.87156596],\n",
       "       [0.69036797, 0.30963203],\n",
       "       [0.85498173, 0.14501827],\n",
       "       [0.49591216, 0.50408784],\n",
       "       [0.46729553, 0.53270447],\n",
       "       [0.61571039, 0.38428961],\n",
       "       [0.82509201, 0.17490799],\n",
       "       [0.1125435 , 0.8874565 ],\n",
       "       [0.42400807, 0.57599193],\n",
       "       [0.08674627, 0.91325373],\n",
       "       [0.95046112, 0.04953888],\n",
       "       [0.06083095, 0.93916905],\n",
       "       [0.85917323, 0.14082677],\n",
       "       [0.67003519, 0.32996481],\n",
       "       [0.86943047, 0.13056953],\n",
       "       [0.84008114, 0.15991886],\n",
       "       [0.74267543, 0.25732457],\n",
       "       [0.5267877 , 0.4732123 ],\n",
       "       [0.49184031, 0.50815969],\n",
       "       [0.47571526, 0.52428474],\n",
       "       [0.84776567, 0.15223433],\n",
       "       [0.49587937, 0.50412063],\n",
       "       [0.46157491, 0.53842509],\n",
       "       [0.91599301, 0.08400699],\n",
       "       [0.915709  , 0.084291  ],\n",
       "       [0.89828924, 0.10171076],\n",
       "       [0.59703011, 0.40296989],\n",
       "       [0.94024285, 0.05975715],\n",
       "       [0.22504086, 0.77495914],\n",
       "       [0.15758822, 0.84241178],\n",
       "       [0.91612009, 0.08387991],\n",
       "       [0.56817592, 0.43182408],\n",
       "       [0.87073273, 0.12926727],\n",
       "       [0.13181361, 0.86818639],\n",
       "       [0.5450272 , 0.4549728 ],\n",
       "       [0.57189046, 0.42810954],\n",
       "       [0.65013099, 0.34986901],\n",
       "       [0.18616082, 0.81383918],\n",
       "       [0.09237956, 0.90762044],\n",
       "       [0.65000069, 0.34999931],\n",
       "       [0.73452372, 0.26547628],\n",
       "       [0.93206953, 0.06793047],\n",
       "       [0.91614226, 0.08385774],\n",
       "       [0.9189235 , 0.0810765 ],\n",
       "       [0.0673716 , 0.9326284 ],\n",
       "       [0.90099125, 0.09900875],\n",
       "       [0.77925195, 0.22074805],\n",
       "       [0.90302118, 0.09697882],\n",
       "       [0.34089116, 0.65910884],\n",
       "       [0.23518698, 0.76481302],\n",
       "       [0.21192485, 0.78807515],\n",
       "       [0.32066018, 0.67933982],\n",
       "       [0.69693321, 0.30306679],\n",
       "       [0.48906411, 0.51093589],\n",
       "       [0.17437939, 0.82562061],\n",
       "       [0.35120983, 0.64879017],\n",
       "       [0.90883891, 0.09116109],\n",
       "       [0.50731809, 0.49268191],\n",
       "       [0.47503919, 0.52496081],\n",
       "       [0.06931789, 0.93068211],\n",
       "       [0.44979273, 0.55020727],\n",
       "       [0.91955058, 0.08044942],\n",
       "       [0.19466544, 0.80533456],\n",
       "       [0.77139605, 0.22860395],\n",
       "       [0.35120983, 0.64879017],\n",
       "       [0.71992761, 0.28007239],\n",
       "       [0.75040632, 0.24959368],\n",
       "       [0.7100384 , 0.2899616 ],\n",
       "       [0.91956254, 0.08043746],\n",
       "       [0.65045916, 0.34954084],\n",
       "       [0.87028866, 0.12971134],\n",
       "       [0.36692723, 0.63307277],\n",
       "       [0.44477606, 0.55522394],\n",
       "       [0.36695872, 0.63304128],\n",
       "       [0.52184766, 0.47815234],\n",
       "       [0.46588148, 0.53411852],\n",
       "       [0.91957192, 0.08042808],\n",
       "       [0.11043186, 0.88956814],\n",
       "       [0.91955058, 0.08044942],\n",
       "       [0.45562544, 0.54437456],\n",
       "       [0.91613051, 0.08386949],\n",
       "       [0.26959674, 0.73040326],\n",
       "       [0.92287125, 0.07712875],\n",
       "       [0.45612092, 0.54387908],\n",
       "       [0.92911244, 0.07088756],\n",
       "       [0.09526647, 0.90473353],\n",
       "       [0.75660048, 0.24339952],\n",
       "       [0.87073273, 0.12926727],\n",
       "       [0.91786845, 0.08213155],\n",
       "       [0.21866806, 0.78133194],\n",
       "       [0.92011284, 0.07988716],\n",
       "       [0.85451986, 0.14548014],\n",
       "       [0.87073273, 0.12926727],\n",
       "       [0.91949914, 0.08050086],\n",
       "       [0.72189089, 0.27810911],\n",
       "       [0.71889459, 0.28110541],\n",
       "       [0.3669516 , 0.6330484 ],\n",
       "       [0.08426805, 0.91573195],\n",
       "       [0.32328679, 0.67671321],\n",
       "       [0.1910486 , 0.8089514 ],\n",
       "       [0.84529894, 0.15470106],\n",
       "       [0.87123527, 0.12876473],\n",
       "       [0.25007642, 0.74992358],\n",
       "       [0.50532717, 0.49467283],\n",
       "       [0.21874722, 0.78125278],\n",
       "       [0.10625725, 0.89374275],\n",
       "       [0.87073273, 0.12926727],\n",
       "       [0.08047658, 0.91952342],\n",
       "       [0.92128305, 0.07871695],\n",
       "       [0.87073273, 0.12926727],\n",
       "       [0.4370704 , 0.5629296 ],\n",
       "       [0.91071997, 0.08928003],\n",
       "       [0.3631889 , 0.6368111 ],\n",
       "       [0.81607344, 0.18392656],\n",
       "       [0.91434004, 0.08565996],\n",
       "       [0.92759513, 0.07240487],\n",
       "       [0.61258152, 0.38741848],\n",
       "       [0.49131145, 0.50868855],\n",
       "       [0.87123527, 0.12876473],\n",
       "       [0.94275291, 0.05724709],\n",
       "       [0.91435613, 0.08564387],\n",
       "       [0.8698567 , 0.1301433 ],\n",
       "       [0.75490732, 0.24509268],\n",
       "       [0.47309222, 0.52690778],\n",
       "       [0.93655662, 0.06344338],\n",
       "       [0.28402661, 0.71597339],\n",
       "       [0.1136575 , 0.8863425 ],\n",
       "       [0.59755381, 0.40244619],\n",
       "       [0.76077702, 0.23922298],\n",
       "       [0.67596766, 0.32403234],\n",
       "       [0.92532975, 0.07467025],\n",
       "       [0.59062412, 0.40937588],\n",
       "       [0.91069828, 0.08930172],\n",
       "       [0.59703011, 0.40296989],\n",
       "       [0.76898172, 0.23101828],\n",
       "       [0.06086469, 0.93913531],\n",
       "       [0.87106352, 0.12893648],\n",
       "       [0.96086472, 0.03913528],\n",
       "       [0.54599408, 0.45400592],\n",
       "       [0.83381088, 0.16618912],\n",
       "       [0.91438113, 0.08561887],\n",
       "       [0.09806997, 0.90193003],\n",
       "       [0.47314344, 0.52685656],\n",
       "       [0.67596766, 0.32403234],\n",
       "       [0.48867618, 0.51132382],\n",
       "       [0.36696279, 0.63303721],\n",
       "       [0.72450429, 0.27549571],\n",
       "       [0.20943983, 0.79056017],\n",
       "       [0.91963204, 0.08036796],\n",
       "       [0.81262454, 0.18737546],\n",
       "       [0.48651339, 0.51348661],\n",
       "       [0.57957564, 0.42042436],\n",
       "       [0.90054694, 0.09945306],\n",
       "       [0.06998726, 0.93001274],\n",
       "       [0.46717086, 0.53282914],\n",
       "       [0.91958938, 0.08041062],\n",
       "       [0.87114255, 0.12885745],\n",
       "       [0.91204514, 0.08795486],\n",
       "       [0.87114205, 0.12885795],\n",
       "       [0.93751692, 0.06248308],\n",
       "       [0.11051305, 0.88948695],\n",
       "       [0.18398488, 0.81601512],\n",
       "       [0.61128586, 0.38871414],\n",
       "       [0.24472794, 0.75527206],\n",
       "       [0.14173301, 0.85826699],\n",
       "       [0.77139605, 0.22860395],\n",
       "       [0.50895302, 0.49104698],\n",
       "       [0.09172024, 0.90827976],\n",
       "       [0.87073273, 0.12926727],\n",
       "       [0.05638501, 0.94361499],\n",
       "       [0.80863946, 0.19136054],\n",
       "       [0.1899646 , 0.8100354 ],\n",
       "       [0.90097682, 0.09902318],\n",
       "       [0.47975781, 0.52024219],\n",
       "       [0.80912608, 0.19087392],\n",
       "       [0.78479351, 0.21520649],\n",
       "       [0.59716895, 0.40283105],\n",
       "       [0.83151185, 0.16848815],\n",
       "       [0.80138611, 0.19861389],\n",
       "       [0.55338492, 0.44661508],\n",
       "       [0.92912597, 0.07087403],\n",
       "       [0.23062836, 0.76937164],\n",
       "       [0.44484732, 0.55515268],\n",
       "       [0.74252664, 0.25747336],\n",
       "       [0.49586298, 0.50413702],\n",
       "       [0.36507174, 0.63492826],\n",
       "       [0.79276329, 0.20723671],\n",
       "       [0.52808713, 0.47191287],\n",
       "       [0.09695178, 0.90304822],\n",
       "       [0.75115254, 0.24884746],\n",
       "       [0.46703058, 0.53296942],\n",
       "       [0.41028638, 0.58971362],\n",
       "       [0.74686388, 0.25313612],\n",
       "       [0.07943806, 0.92056194],\n",
       "       [0.91612244, 0.08387756],\n",
       "       [0.9265684 , 0.0734316 ],\n",
       "       [0.91962816, 0.08037184],\n",
       "       [0.70185773, 0.29814227],\n",
       "       [0.36221195, 0.63778805],\n",
       "       [0.55841935, 0.44158065],\n",
       "       [0.67229117, 0.32770883],\n",
       "       [0.36692723, 0.63307277],\n",
       "       [0.71755513, 0.28244487],\n",
       "       [0.09491746, 0.90508254],\n",
       "       [0.91955058, 0.08044942],\n",
       "       [0.14635852, 0.85364148],\n",
       "       [0.9088255 , 0.0911745 ],\n",
       "       [0.19522503, 0.80477497],\n",
       "       [0.9088476 , 0.0911524 ],\n",
       "       [0.11989166, 0.88010834],\n",
       "       [0.36585133, 0.63414867],\n",
       "       [0.91255759, 0.08744241],\n",
       "       [0.36695872, 0.63304128],\n",
       "       [0.93916555, 0.06083445],\n",
       "       [0.79463424, 0.20536576],\n",
       "       [0.5786256 , 0.4213744 ],\n",
       "       [0.10006415, 0.89993585],\n",
       "       [0.90896054, 0.09103946],\n",
       "       [0.87071747, 0.12928253],\n",
       "       [0.52345831, 0.47654169],\n",
       "       [0.9069348 , 0.0930652 ],\n",
       "       [0.65927544, 0.34072456],\n",
       "       [0.85213021, 0.14786979],\n",
       "       [0.18089652, 0.81910348],\n",
       "       [0.10061657, 0.89938343],\n",
       "       [0.12475862, 0.87524138],\n",
       "       [0.28655605, 0.71344395],\n",
       "       [0.5410199 , 0.4589801 ],\n",
       "       [0.91956319, 0.08043681],\n",
       "       [0.91834706, 0.08165294],\n",
       "       [0.66506073, 0.33493927],\n",
       "       [0.19349988, 0.80650012],\n",
       "       [0.81298245, 0.18701755],\n",
       "       [0.21874722, 0.78125278],\n",
       "       [0.36604406, 0.63395594],\n",
       "       [0.08356127, 0.91643873],\n",
       "       [0.90692853, 0.09307147],\n",
       "       [0.4381736 , 0.5618264 ],\n",
       "       [0.91423521, 0.08576479],\n",
       "       [0.92825623, 0.07174377],\n",
       "       [0.91958938, 0.08041062],\n",
       "       [0.87073273, 0.12926727],\n",
       "       [0.92122215, 0.07877785],\n",
       "       [0.18430144, 0.81569856],\n",
       "       [0.90884941, 0.09115059],\n",
       "       [0.93358877, 0.06641123],\n",
       "       [0.90884252, 0.09115748],\n",
       "       [0.21928565, 0.78071435],\n",
       "       [0.25096626, 0.74903374],\n",
       "       [0.66606996, 0.33393004],\n",
       "       [0.91956254, 0.08043746],\n",
       "       [0.60371387, 0.39628613],\n",
       "       [0.91958938, 0.08041062],\n",
       "       [0.49587937, 0.50412063],\n",
       "       [0.90091946, 0.09908054],\n",
       "       [0.56203873, 0.43796127],\n",
       "       [0.87073273, 0.12926727],\n",
       "       [0.06156442, 0.93843558],\n",
       "       [0.36507174, 0.63492826],\n",
       "       [0.87114255, 0.12885745],\n",
       "       [0.18568438, 0.81431562],\n",
       "       [0.76372437, 0.23627563],\n",
       "       [0.80701054, 0.19298946],\n",
       "       [0.76991241, 0.23008759],\n",
       "       [0.73814115, 0.26185885],\n",
       "       [0.47293202, 0.52706798],\n",
       "       [0.79444013, 0.20555987],\n",
       "       [0.36695872, 0.63304128],\n",
       "       [0.19151478, 0.80848522],\n",
       "       [0.25368068, 0.74631932],\n",
       "       [0.93354186, 0.06645814],\n",
       "       [0.91961265, 0.08038735],\n",
       "       [0.56616089, 0.43383911],\n",
       "       [0.87114205, 0.12885795],\n",
       "       [0.91955058, 0.08044942],\n",
       "       [0.59373145, 0.40626855],\n",
       "       [0.38319531, 0.61680469],\n",
       "       [0.87114205, 0.12885795],\n",
       "       [0.71671247, 0.28328753],\n",
       "       [0.93339523, 0.06660477],\n",
       "       [0.91785889, 0.08214111],\n",
       "       [0.05051623, 0.94948377],\n",
       "       [0.86943047, 0.13056953],\n",
       "       [0.6086548 , 0.3913452 ],\n",
       "       [0.92287654, 0.07712346],\n",
       "       [0.9276145 , 0.0723855 ],\n",
       "       [0.650128  , 0.349872  ],\n",
       "       [0.81822783, 0.18177217],\n",
       "       [0.9142897 , 0.0857103 ],\n",
       "       [0.36695872, 0.63304128],\n",
       "       [0.22872059, 0.77127941],\n",
       "       [0.58185331, 0.41814669],\n",
       "       [0.79549438, 0.20450562],\n",
       "       [0.72344669, 0.27655331],\n",
       "       [0.59575196, 0.40424804],\n",
       "       [0.9029373 , 0.0970627 ],\n",
       "       [0.85778744, 0.14221256],\n",
       "       [0.91958744, 0.08041256],\n",
       "       [0.42136914, 0.57863086],\n",
       "       [0.11291071, 0.88708929],\n",
       "       [0.31574418, 0.68425582],\n",
       "       [0.60482084, 0.39517916],\n",
       "       [0.72469877, 0.27530123],\n",
       "       [0.91956577, 0.08043423],\n",
       "       [0.73385979, 0.26614021],\n",
       "       [0.91786845, 0.08213155],\n",
       "       [0.86593305, 0.13406695],\n",
       "       [0.75490732, 0.24509268],\n",
       "       [0.62947942, 0.37052058],\n",
       "       [0.12134349, 0.87865651],\n",
       "       [0.91262001, 0.08737999],\n",
       "       [0.10396265, 0.89603735],\n",
       "       [0.56101612, 0.43898388],\n",
       "       [0.76490416, 0.23509584],\n",
       "       [0.73319491, 0.26680509],\n",
       "       [0.29926232, 0.70073768],\n",
       "       [0.53432949, 0.46567051],\n",
       "       [0.87114255, 0.12885745],\n",
       "       [0.32451892, 0.67548108],\n",
       "       [0.91956254, 0.08043746],\n",
       "       [0.61351746, 0.38648254],\n",
       "       [0.77934218, 0.22065782],\n",
       "       [0.89888089, 0.10111911],\n",
       "       [0.74701101, 0.25298899],\n",
       "       [0.87114205, 0.12885795],\n",
       "       [0.72012407, 0.27987593],\n",
       "       [0.9276283 , 0.0723717 ],\n",
       "       [0.91464572, 0.08535428],\n",
       "       [0.08407962, 0.91592038],\n",
       "       [0.91904849, 0.08095151],\n",
       "       [0.32158164, 0.67841836],\n",
       "       [0.75490732, 0.24509268],\n",
       "       [0.42783228, 0.57216772],\n",
       "       [0.7462683 , 0.2537317 ],\n",
       "       [0.22756545, 0.77243455],\n",
       "       [0.09853201, 0.90146799],\n",
       "       [0.75115254, 0.24884746],\n",
       "       [0.70660936, 0.29339064],\n",
       "       [0.83133205, 0.16866795],\n",
       "       [0.24578773, 0.75421227],\n",
       "       [0.71471265, 0.28528735],\n",
       "       [0.20492825, 0.79507175],\n",
       "       [0.91956383, 0.08043617],\n",
       "       [0.87073273, 0.12926727],\n",
       "       [0.51101992, 0.48898008],\n",
       "       [0.83300239, 0.16699761],\n",
       "       [0.12734761, 0.87265239],\n",
       "       [0.22756545, 0.77243455],\n",
       "       [0.91950302, 0.08049698],\n",
       "       [0.06527776, 0.93472224],\n",
       "       [0.47975781, 0.52024219],\n",
       "       [0.87028818, 0.12971182],\n",
       "       [0.45915507, 0.54084493],\n",
       "       [0.09890154, 0.90109846],\n",
       "       [0.6607132 , 0.3392868 ],\n",
       "       [0.73350268, 0.26649732],\n",
       "       [0.06864622, 0.93135378],\n",
       "       [0.71562278, 0.28437722],\n",
       "       [0.82282331, 0.17717669],\n",
       "       [0.18217006, 0.81782994],\n",
       "       [0.08147555, 0.91852445],\n",
       "       [0.46724922, 0.53275078],\n",
       "       [0.73350268, 0.26649732],\n",
       "       [0.73248486, 0.26751514],\n",
       "       [0.80695983, 0.19304017],\n",
       "       [0.87073273, 0.12926727],\n",
       "       [0.86812764, 0.13187236],\n",
       "       [0.49418759, 0.50581241],\n",
       "       [0.44832662, 0.55167338],\n",
       "       [0.75912765, 0.24087235],\n",
       "       [0.19341535, 0.80658465],\n",
       "       [0.91436264, 0.08563736],\n",
       "       [0.86201932, 0.13798068],\n",
       "       [0.8545291 , 0.1454709 ],\n",
       "       [0.81214512, 0.18785488],\n",
       "       [0.55764373, 0.44235627],\n",
       "       [0.17863797, 0.82136203],\n",
       "       [0.83542394, 0.16457606],\n",
       "       [0.83294665, 0.16705335],\n",
       "       [0.92181155, 0.07818845],\n",
       "       [0.09111888, 0.90888112],\n",
       "       [0.8628941 , 0.1371059 ],\n",
       "       [0.10323128, 0.89676872],\n",
       "       [0.91072175, 0.08927825],\n",
       "       [0.88066291, 0.11933709],\n",
       "       [0.10561594, 0.89438406],\n",
       "       [0.80064354, 0.19935646],\n",
       "       [0.06098574, 0.93901426],\n",
       "       [0.53579178, 0.46420822],\n",
       "       [0.55746086, 0.44253914],\n",
       "       [0.61328742, 0.38671258],\n",
       "       [0.74252664, 0.25747336],\n",
       "       [0.54926977, 0.45073023],\n",
       "       [0.36696584, 0.63303416],\n",
       "       [0.2593193 , 0.7406807 ],\n",
       "       [0.36695872, 0.63304128],\n",
       "       [0.08112215, 0.91887785],\n",
       "       [0.50165468, 0.49834532],\n",
       "       [0.91955058, 0.08044942],\n",
       "       [0.08330188, 0.91669812],\n",
       "       [0.93699396, 0.06300604],\n",
       "       [0.91955058, 0.08044942],\n",
       "       [0.86934956, 0.13065044]])"
      ]
     },
     "execution_count": 126,
     "metadata": {},
     "output_type": "execute_result"
    }
   ],
   "source": [
    "y_prediction_proba = model.predict_proba(X_test)\n",
    "y_prediction_proba"
   ]
  },
  {
   "cell_type": "code",
   "execution_count": 128,
   "id": "981b6979-507e-4d2b-83c1-27761d7bf189",
   "metadata": {
    "tags": []
   },
   "outputs": [],
   "source": [
    "from sklearn.metrics import classification_report, accuracy_score, confusion_matrix, log_loss\n",
    "from sklearn.preprocessing import LabelEncoder"
   ]
  },
  {
   "cell_type": "code",
   "execution_count": 130,
   "id": "47073102-0e34-49fc-89a1-b89b98c94c23",
   "metadata": {
    "tags": []
   },
   "outputs": [
    {
     "data": {
      "text/plain": [
       "array([[256,  10],\n",
       "       [  9, 143]], dtype=int64)"
      ]
     },
     "execution_count": 130,
     "metadata": {},
     "output_type": "execute_result"
    }
   ],
   "source": [
    "matriz_confusion = confusion_matrix(y_test, y_pred)\n",
    "matriz_confusion"
   ]
  },
  {
   "cell_type": "code",
   "execution_count": 132,
   "id": "3b700e5d-4a0f-4658-a205-1f2f8e8d2e43",
   "metadata": {
    "tags": []
   },
   "outputs": [
    {
     "data": {
      "image/png": "[encoded data removed]",
      "text/plain": [
       "<Figure size 640x480 with 2 Axes>"
      ]
     },
     "metadata": {},
     "output_type": "display_data"
    }
   ],
   "source": [
    "\n",
    "label_encoder = LabelEncoder()\n",
    "y_test_encoded = label_encoder.fit_transform(y_test)\n",
    "cm = confusion_matrix(y_test, y_pred)\n",
    "sns.heatmap(cm, annot=True, fmt='d', cmap='Blues', xticklabels=label_encoder.classes_, yticklabels=label_encoder.classes_)\n",
    "plt.xlabel('Predicted')\n",
    "plt.ylabel('True')\n",
    "plt.show()"
   ]
  },
  {
   "cell_type": "code",
   "execution_count": 134,
   "id": "8697e829-3ad5-4aaf-bf2d-7c40eec2f806",
   "metadata": {
    "tags": []
   },
   "outputs": [
    {
     "data": {
      "text/plain": [
       "0.9545454545454546"
      ]
     },
     "execution_count": 134,
     "metadata": {},
     "output_type": "execute_result"
    }
   ],
   "source": [
    "accuracy = accuracy_score(y_test, y_pred)\n",
    "accuracy"
   ]
  },
  {
   "cell_type": "code",
   "execution_count": 136,
   "id": "1dc92546-d2a3-4fb0-8aa6-2e804341edd8",
   "metadata": {
    "tags": []
   },
   "outputs": [
    {
     "data": {
      "text/plain": [
       "0.28435863023243196"
      ]
     },
     "execution_count": 136,
     "metadata": {},
     "output_type": "execute_result"
    }
   ],
   "source": [
    "logloss = log_loss(y_test, y_prediction_proba)\n",
    "logloss"
   ]
  },
  {
   "cell_type": "markdown",
   "id": "93333925-2ee9-4db8-925e-fe889723af39",
   "metadata": {},
   "source": [
    "# KNN"
   ]
  },
  {
   "cell_type": "code",
   "execution_count": 61,
   "id": "8a6491d0-9aaa-497a-a4ad-3b3d41b7dd87",
   "metadata": {
    "tags": []
   },
   "outputs": [],
   "source": [
    "from sklearn.neighbors import KNeighborsClassifier"
   ]
  },
  {
   "cell_type": "code",
   "execution_count": 64,
   "id": "d32629c8-01e7-48a8-bf16-54e0c90a509d",
   "metadata": {
    "tags": []
   },
   "outputs": [],
   "source": [
    "X_train = train_df.loc[:, train_df.columns != 'Survived']\n",
    "y_train = train_df.loc[:, train_df.columns == 'Survived']\n",
    "X_test = test_df.loc[:, test_df.columns != 'Survived']\n",
    "y_test = test_df.loc[:, test_df.columns == 'Survived']"
   ]
  },
  {
   "cell_type": "code",
   "execution_count": 138,
   "id": "b083e1c1-990c-4118-ae09-16d69acf6a3a",
   "metadata": {
    "tags": []
   },
   "outputs": [
    {
     "data": {
      "text/html": [
       "<style>#sk-container-id-7 {color: black;background-color: white;}#sk-container-id-7 pre{padding: 0;}#sk-container-id-7 div.sk-toggleable {background-color: white;}#sk-container-id-7 label.sk-toggleable__label {cursor: pointer;display: block;width: 100%;margin-bottom: 0;padding: 0.3em;box-sizing: border-box;text-align: center;}#sk-container-id-7 label.sk-toggleable__label-arrow:before {content: \"▸\";float: left;margin-right: 0.25em;color: #696969;}#sk-container-id-7 label.sk-toggleable__label-arrow:hover:before {color: black;}#sk-container-id-7 div.sk-estimator:hover label.sk-toggleable__label-arrow:before {color: black;}#sk-container-id-7 div.sk-toggleable__content {max-height: 0;max-width: 0;overflow: hidden;text-align: left;background-color: #f0f8ff;}#sk-container-id-7 div.sk-toggleable__content pre {margin: 0.2em;color: black;border-radius: 0.25em;background-color: #f0f8ff;}#sk-container-id-7 input.sk-toggleable__control:checked~div.sk-toggleable__content {max-height: 200px;max-width: 100%;overflow: auto;}#sk-container-id-7 input.sk-toggleable__control:checked~label.sk-toggleable__label-arrow:before {content: \"▾\";}#sk-container-id-7 div.sk-estimator input.sk-toggleable__control:checked~label.sk-toggleable__label {background-color: #d4ebff;}#sk-container-id-7 div.sk-label input.sk-toggleable__control:checked~label.sk-toggleable__label {background-color: #d4ebff;}#sk-container-id-7 input.sk-hidden--visually {border: 0;clip: rect(1px 1px 1px 1px);clip: rect(1px, 1px, 1px, 1px);height: 1px;margin: -1px;overflow: hidden;padding: 0;position: absolute;width: 1px;}#sk-container-id-7 div.sk-estimator {font-family: monospace;background-color: #f0f8ff;border: 1px dotted black;border-radius: 0.25em;box-sizing: border-box;margin-bottom: 0.5em;}#sk-container-id-7 div.sk-estimator:hover {background-color: #d4ebff;}#sk-container-id-7 div.sk-parallel-item::after {content: \"\";width: 100%;border-bottom: 1px solid gray;flex-grow: 1;}#sk-container-id-7 div.sk-label:hover label.sk-toggleable__label {background-color: #d4ebff;}#sk-container-id-7 div.sk-serial::before {content: \"\";position: absolute;border-left: 1px solid gray;box-sizing: border-box;top: 0;bottom: 0;left: 50%;z-index: 0;}#sk-container-id-7 div.sk-serial {display: flex;flex-direction: column;align-items: center;background-color: white;padding-right: 0.2em;padding-left: 0.2em;position: relative;}#sk-container-id-7 div.sk-item {position: relative;z-index: 1;}#sk-container-id-7 div.sk-parallel {display: flex;align-items: stretch;justify-content: center;background-color: white;position: relative;}#sk-container-id-7 div.sk-item::before, #sk-container-id-7 div.sk-parallel-item::before {content: \"\";position: absolute;border-left: 1px solid gray;box-sizing: border-box;top: 0;bottom: 0;left: 50%;z-index: -1;}#sk-container-id-7 div.sk-parallel-item {display: flex;flex-direction: column;z-index: 1;position: relative;background-color: white;}#sk-container-id-7 div.sk-parallel-item:first-child::after {align-self: flex-end;width: 50%;}#sk-container-id-7 div.sk-parallel-item:last-child::after {align-self: flex-start;width: 50%;}#sk-container-id-7 div.sk-parallel-item:only-child::after {width: 0;}#sk-container-id-7 div.sk-dashed-wrapped {border: 1px dashed gray;margin: 0 0.4em 0.5em 0.4em;box-sizing: border-box;padding-bottom: 0.4em;background-color: white;}#sk-container-id-7 div.sk-label label {font-family: monospace;font-weight: bold;display: inline-block;line-height: 1.2em;}#sk-container-id-7 div.sk-label-container {text-align: center;}#sk-container-id-7 div.sk-container {/* jupyter's `normalize.less` sets `[hidden] { display: none; }` but bootstrap.min.css set `[hidden] { display: none !important; }` so we also need the `!important` here to be able to override the default hidden behavior on the sphinx rendered scikit-learn.org. See: https://github.com/scikit-learn/scikit-learn/issues/21755 */display: inline-block !important;position: relative;}#sk-container-id-7 div.sk-text-repr-fallback {display: none;}</style><div id=\"sk-container-id-7\" class=\"sk-top-container\"><div class=\"sk-text-repr-fallback\"><pre>KNeighborsClassifier(n_neighbors=10)</pre><b>In a Jupyter environment, please rerun this cell to show the HTML representation or trust the notebook. <br />On GitHub, the HTML representation is unable to render, please try loading this page with nbviewer.org.</b></div><div class=\"sk-container\" hidden><div class=\"sk-item\"><div class=\"sk-estimator sk-toggleable\"><input class=\"sk-toggleable__control sk-hidden--visually\" id=\"sk-estimator-id-7\" type=\"checkbox\" checked><label for=\"sk-estimator-id-7\" class=\"sk-toggleable__label sk-toggleable__label-arrow\">KNeighborsClassifier</label><div class=\"sk-toggleable__content\"><pre>KNeighborsClassifier(n_neighbors=10)</pre></div></div></div></div></div>"
      ],
      "text/plain": [
       "KNeighborsClassifier(n_neighbors=10)"
      ]
     },
     "execution_count": 138,
     "metadata": {},
     "output_type": "execute_result"
    }
   ],
   "source": [
    "modeloKNN = KNeighborsClassifier(n_neighbors=10)  \n",
    "modeloKNN.fit(X_train, y_train)"
   ]
  },
  {
   "cell_type": "code",
   "execution_count": 69,
   "id": "c6efa3ea-4d08-43bd-a95f-1933624f6ee4",
   "metadata": {
    "tags": []
   },
   "outputs": [
    {
     "data": {
      "text/plain": [
       "array([0, 0, 0, 0, 0, 0, 0, 1, 0, 1, 0, 0, 1, 0, 1, 1, 0, 0, 0, 0, 0, 1,\n",
       "       1, 1, 1, 0, 1, 0, 0, 0, 0, 1, 0, 1, 1, 0, 0, 0, 0, 1, 0, 0, 0, 1,\n",
       "       1, 0, 0, 0, 1, 0, 1, 0, 0, 1, 0, 0, 0, 0, 0, 1, 0, 0, 0, 1, 1, 0,\n",
       "       0, 0, 0, 1, 0, 0, 0, 0, 1, 1, 0, 0, 0, 0, 1, 1, 1, 0, 0, 0, 1, 0,\n",
       "       1, 1, 0, 0, 1, 0, 0, 0, 1, 0, 0, 0, 1, 0, 0, 0, 1, 0, 0, 0, 0, 0,\n",
       "       0, 1, 0, 0, 1, 0, 0, 1, 1, 0, 0, 0, 1, 0, 0, 0, 0, 0, 0, 0, 0, 0,\n",
       "       0, 0, 0, 0, 0, 0, 0, 0, 0, 1, 1, 0, 0, 0, 1, 0, 0, 0, 1, 0, 0, 0,\n",
       "       0, 0, 1, 0, 0, 0, 1, 1, 0, 0, 0, 0, 0, 0, 0, 0, 0, 0, 0, 0, 0, 0,\n",
       "       0, 0, 0, 1, 0, 1, 1, 0, 1, 0, 0, 0, 0, 0, 1, 0, 0, 0, 0, 0, 1, 0,\n",
       "       0, 0, 0, 1, 1, 0, 0, 0, 0, 0, 1, 0, 0, 0, 0, 0, 0, 0, 1, 1, 1, 0,\n",
       "       1, 0, 0, 0, 0, 0, 0, 1, 0, 0, 1, 1, 0, 0, 1, 0, 1, 0, 0, 1, 0, 0,\n",
       "       1, 0, 0, 1, 0, 0, 0, 0, 0, 0, 1, 0, 0, 0, 0, 0, 0, 0, 0, 0, 0, 1,\n",
       "       1, 0, 0, 0, 0, 0, 1, 0, 1, 0, 0, 1, 0, 0, 0, 0, 0, 1, 1, 1, 1, 0,\n",
       "       0, 1, 0, 0, 0, 0, 0, 1, 0, 0, 0, 0, 0, 0, 0, 0, 0, 0, 1, 0, 1, 1,\n",
       "       1, 0, 0, 0, 0, 0, 1, 0, 1, 0, 0, 1, 0, 0, 0, 1, 1, 0, 0, 1, 0, 0,\n",
       "       0, 0, 0, 0, 0, 0, 0, 0, 1, 0, 0, 0, 0, 1, 0, 1, 0, 0, 0, 0, 1, 0,\n",
       "       0, 1, 1, 0, 0, 0, 0, 0, 0, 0, 0, 0, 1, 0, 0, 0, 1, 0, 0, 1, 0, 0,\n",
       "       1, 1, 0, 0, 0, 0, 0, 0, 0, 0, 1, 0, 0, 0, 0, 1, 1, 0, 0, 0, 0, 1,\n",
       "       0, 1, 0, 0, 1, 0, 1, 0, 0, 0, 0, 1, 1, 1, 1, 1, 0, 0, 1, 0, 0, 0],\n",
       "      dtype=int64)"
      ]
     },
     "execution_count": 69,
     "metadata": {},
     "output_type": "execute_result"
    }
   ],
   "source": [
    "y_pred = modeloKNN.predict(X_test)\n",
    "y_pred"
   ]
  },
  {
   "cell_type": "code",
   "execution_count": 72,
   "id": "750c5a5c-bea8-4209-ba90-071184033bc9",
   "metadata": {
    "tags": []
   },
   "outputs": [
    {
     "data": {
      "text/plain": [
       "array([[218,  48],\n",
       "       [ 86,  66]], dtype=int64)"
      ]
     },
     "execution_count": 72,
     "metadata": {},
     "output_type": "execute_result"
    }
   ],
   "source": [
    "confusion_matrix(y_test, y_pred)"
   ]
  },
  {
   "cell_type": "code",
   "execution_count": 75,
   "id": "c8f61a32-d6b7-4479-8c93-56ab9c89238f",
   "metadata": {
    "tags": []
   },
   "outputs": [
    {
     "data": {
      "text/plain": [
       "0.6794258373205742"
      ]
     },
     "execution_count": 75,
     "metadata": {},
     "output_type": "execute_result"
    }
   ],
   "source": [
    "accuracy = accuracy_score(y_test, y_pred)\n",
    "accuracy"
   ]
  },
  {
   "cell_type": "markdown",
   "id": "80626609-4120-4ab6-a115-ea5d3c0e5ce3",
   "metadata": {},
   "source": [
    "# Random Forest"
   ]
  },
  {
   "cell_type": "code",
   "execution_count": 96,
   "id": "78a7f3af-97aa-43d8-a081-5f43aae4f78d",
   "metadata": {
    "tags": []
   },
   "outputs": [],
   "source": [
    "from sklearn.ensemble import RandomForestClassifier"
   ]
  },
  {
   "cell_type": "code",
   "execution_count": 140,
   "id": "95ec93a1-3969-4d32-ad29-7fa2f8891f04",
   "metadata": {
    "tags": []
   },
   "outputs": [
    {
     "data": {
      "text/html": [
       "<style>#sk-container-id-8 {color: black;background-color: white;}#sk-container-id-8 pre{padding: 0;}#sk-container-id-8 div.sk-toggleable {background-color: white;}#sk-container-id-8 label.sk-toggleable__label {cursor: pointer;display: block;width: 100%;margin-bottom: 0;padding: 0.3em;box-sizing: border-box;text-align: center;}#sk-container-id-8 label.sk-toggleable__label-arrow:before {content: \"▸\";float: left;margin-right: 0.25em;color: #696969;}#sk-container-id-8 label.sk-toggleable__label-arrow:hover:before {color: black;}#sk-container-id-8 div.sk-estimator:hover label.sk-toggleable__label-arrow:before {color: black;}#sk-container-id-8 div.sk-toggleable__content {max-height: 0;max-width: 0;overflow: hidden;text-align: left;background-color: #f0f8ff;}#sk-container-id-8 div.sk-toggleable__content pre {margin: 0.2em;color: black;border-radius: 0.25em;background-color: #f0f8ff;}#sk-container-id-8 input.sk-toggleable__control:checked~div.sk-toggleable__content {max-height: 200px;max-width: 100%;overflow: auto;}#sk-container-id-8 input.sk-toggleable__control:checked~label.sk-toggleable__label-arrow:before {content: \"▾\";}#sk-container-id-8 div.sk-estimator input.sk-toggleable__control:checked~label.sk-toggleable__label {background-color: #d4ebff;}#sk-container-id-8 div.sk-label input.sk-toggleable__control:checked~label.sk-toggleable__label {background-color: #d4ebff;}#sk-container-id-8 input.sk-hidden--visually {border: 0;clip: rect(1px 1px 1px 1px);clip: rect(1px, 1px, 1px, 1px);height: 1px;margin: -1px;overflow: hidden;padding: 0;position: absolute;width: 1px;}#sk-container-id-8 div.sk-estimator {font-family: monospace;background-color: #f0f8ff;border: 1px dotted black;border-radius: 0.25em;box-sizing: border-box;margin-bottom: 0.5em;}#sk-container-id-8 div.sk-estimator:hover {background-color: #d4ebff;}#sk-container-id-8 div.sk-parallel-item::after {content: \"\";width: 100%;border-bottom: 1px solid gray;flex-grow: 1;}#sk-container-id-8 div.sk-label:hover label.sk-toggleable__label {background-color: #d4ebff;}#sk-container-id-8 div.sk-serial::before {content: \"\";position: absolute;border-left: 1px solid gray;box-sizing: border-box;top: 0;bottom: 0;left: 50%;z-index: 0;}#sk-container-id-8 div.sk-serial {display: flex;flex-direction: column;align-items: center;background-color: white;padding-right: 0.2em;padding-left: 0.2em;position: relative;}#sk-container-id-8 div.sk-item {position: relative;z-index: 1;}#sk-container-id-8 div.sk-parallel {display: flex;align-items: stretch;justify-content: center;background-color: white;position: relative;}#sk-container-id-8 div.sk-item::before, #sk-container-id-8 div.sk-parallel-item::before {content: \"\";position: absolute;border-left: 1px solid gray;box-sizing: border-box;top: 0;bottom: 0;left: 50%;z-index: -1;}#sk-container-id-8 div.sk-parallel-item {display: flex;flex-direction: column;z-index: 1;position: relative;background-color: white;}#sk-container-id-8 div.sk-parallel-item:first-child::after {align-self: flex-end;width: 50%;}#sk-container-id-8 div.sk-parallel-item:last-child::after {align-self: flex-start;width: 50%;}#sk-container-id-8 div.sk-parallel-item:only-child::after {width: 0;}#sk-container-id-8 div.sk-dashed-wrapped {border: 1px dashed gray;margin: 0 0.4em 0.5em 0.4em;box-sizing: border-box;padding-bottom: 0.4em;background-color: white;}#sk-container-id-8 div.sk-label label {font-family: monospace;font-weight: bold;display: inline-block;line-height: 1.2em;}#sk-container-id-8 div.sk-label-container {text-align: center;}#sk-container-id-8 div.sk-container {/* jupyter's `normalize.less` sets `[hidden] { display: none; }` but bootstrap.min.css set `[hidden] { display: none !important; }` so we also need the `!important` here to be able to override the default hidden behavior on the sphinx rendered scikit-learn.org. See: https://github.com/scikit-learn/scikit-learn/issues/21755 */display: inline-block !important;position: relative;}#sk-container-id-8 div.sk-text-repr-fallback {display: none;}</style><div id=\"sk-container-id-8\" class=\"sk-top-container\"><div class=\"sk-text-repr-fallback\"><pre>RandomForestClassifier()</pre><b>In a Jupyter environment, please rerun this cell to show the HTML representation or trust the notebook. <br />On GitHub, the HTML representation is unable to render, please try loading this page with nbviewer.org.</b></div><div class=\"sk-container\" hidden><div class=\"sk-item\"><div class=\"sk-estimator sk-toggleable\"><input class=\"sk-toggleable__control sk-hidden--visually\" id=\"sk-estimator-id-8\" type=\"checkbox\" checked><label for=\"sk-estimator-id-8\" class=\"sk-toggleable__label sk-toggleable__label-arrow\">RandomForestClassifier</label><div class=\"sk-toggleable__content\"><pre>RandomForestClassifier()</pre></div></div></div></div></div>"
      ],
      "text/plain": [
       "RandomForestClassifier()"
      ]
     },
     "execution_count": 140,
     "metadata": {},
     "output_type": "execute_result"
    }
   ],
   "source": [
    "modeloRF = RandomForestClassifier()\n",
    "\n",
    "# Fit model\n",
    "\n",
    "modeloRF.fit(X_train, y_train)"
   ]
  },
  {
   "cell_type": "code",
   "execution_count": 101,
   "id": "c16cda76-6460-4ed3-9426-95b5e559968f",
   "metadata": {},
   "outputs": [
    {
     "data": {
      "text/plain": [
       "array([0, 0, 0, 1, 0, 0, 0, 0, 1, 0, 0, 0, 1, 0, 1, 1, 0, 1, 1, 0, 0, 1,\n",
       "       1, 1, 1, 0, 1, 1, 1, 0, 0, 0, 1, 0, 1, 0, 1, 0, 0, 1, 0, 1, 0, 1,\n",
       "       1, 0, 0, 0, 1, 1, 0, 0, 1, 1, 0, 0, 0, 0, 0, 1, 0, 0, 0, 1, 1, 0,\n",
       "       1, 0, 0, 1, 1, 0, 0, 0, 1, 0, 0, 1, 0, 1, 1, 0, 0, 0, 0, 0, 1, 1,\n",
       "       1, 1, 0, 1, 1, 0, 0, 0, 1, 0, 1, 0, 1, 0, 0, 0, 1, 0, 0, 0, 1, 0,\n",
       "       0, 1, 1, 0, 1, 0, 0, 1, 0, 1, 1, 0, 1, 0, 0, 0, 0, 1, 0, 0, 1, 0,\n",
       "       0, 0, 0, 0, 0, 0, 0, 0, 0, 1, 0, 0, 1, 0, 0, 0, 1, 0, 1, 0, 0, 1,\n",
       "       0, 0, 1, 0, 1, 0, 1, 1, 1, 1, 0, 0, 1, 0, 1, 0, 0, 0, 0, 0, 0, 1,\n",
       "       1, 0, 1, 1, 0, 0, 1, 0, 1, 0, 1, 0, 0, 0, 0, 0, 1, 0, 1, 0, 1, 0,\n",
       "       0, 1, 1, 1, 0, 1, 0, 0, 0, 0, 1, 0, 0, 0, 0, 1, 0, 0, 1, 0, 1, 0,\n",
       "       1, 0, 1, 1, 1, 0, 0, 1, 0, 0, 0, 1, 0, 0, 0, 0, 0, 1, 1, 1, 1, 1,\n",
       "       0, 0, 0, 0, 1, 0, 1, 0, 1, 0, 0, 0, 0, 0, 0, 0, 1, 0, 0, 0, 1, 1,\n",
       "       0, 0, 0, 0, 1, 0, 0, 0, 1, 1, 0, 1, 0, 0, 0, 0, 0, 1, 1, 0, 0, 0,\n",
       "       0, 0, 0, 0, 1, 0, 0, 0, 0, 0, 1, 0, 0, 0, 0, 0, 0, 0, 1, 1, 0, 1,\n",
       "       0, 0, 0, 1, 0, 0, 1, 1, 0, 0, 0, 0, 0, 0, 0, 1, 1, 0, 1, 0, 0, 0,\n",
       "       1, 0, 0, 0, 0, 0, 1, 0, 0, 0, 0, 0, 0, 1, 0, 0, 0, 0, 0, 1, 1, 0,\n",
       "       0, 0, 1, 0, 1, 0, 0, 1, 0, 1, 1, 1, 1, 0, 0, 0, 1, 1, 0, 1, 0, 0,\n",
       "       1, 1, 0, 0, 0, 0, 0, 0, 1, 0, 0, 1, 0, 0, 0, 0, 0, 1, 0, 0, 0, 1,\n",
       "       0, 1, 0, 0, 1, 0, 1, 0, 0, 0, 0, 0, 1, 1, 1, 1, 0, 0, 1, 0, 0, 0],\n",
       "      dtype=int64)"
      ]
     },
     "execution_count": 101,
     "metadata": {},
     "output_type": "execute_result"
    }
   ],
   "source": [
    "y_pred = modeloRF.predict(X_test)\n",
    "y_pred"
   ]
  },
  {
   "cell_type": "code",
   "execution_count": 104,
   "id": "2d4c7729-dc25-448e-a0f5-2b411f429952",
   "metadata": {},
   "outputs": [
    {
     "data": {
      "text/plain": [
       "0.8253588516746412"
      ]
     },
     "execution_count": 104,
     "metadata": {},
     "output_type": "execute_result"
    }
   ],
   "source": [
    "accuracy_score(y_test, y_pred)"
   ]
  },
  {
   "cell_type": "markdown",
   "id": "7e29740e-3e9d-44e1-b011-4b912dfddb8a",
   "metadata": {},
   "source": [
    "# Conclusion"
   ]
  },
  {
   "cell_type": "markdown",
   "id": "0d778d18-96ab-436d-821f-d1b5ca18f558",
   "metadata": {},
   "source": [
    "With a 95% accuracy, Logistic Regression is the most suitable model used to predict survival of passengers."
   ]
  }
 ],
 "metadata": {
  "kernelspec": {
   "display_name": "Python 3 (ipykernel)",
   "language": "python",
   "name": "python3"
  },
  "language_info": {
   "codemirror_mode": {
    "name": "ipython",
    "version": 3
   },
   "file_extension": ".py",
   "mimetype": "text/x-python",
   "name": "python",
   "nbconvert_exporter": "python",
   "pygments_lexer": "ipython3",
   "version": "3.11.7"
  }
 },
 "nbformat": 4,
 "nbformat_minor": 5
}
